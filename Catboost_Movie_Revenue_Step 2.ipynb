{
  "nbformat": 4,
  "nbformat_minor": 0,
  "metadata": {
    "colab": {
      "provenance": [],
      "gpuType": "T4"
    },
    "kernelspec": {
      "name": "python3",
      "display_name": "Python 3"
    },
    "language_info": {
      "name": "python"
    },
    "widgets": {
      "application/vnd.jupyter.widget-state+json": {
        "546ed804a14347f3a5d140cff417a56f": {
          "model_module": "catboost-widget",
          "model_name": "CatboostWidgetModel",
          "model_module_version": "^1.0.0",
          "state": {
            "_dom_classes": [],
            "_model_module": "catboost-widget",
            "_model_module_version": "^1.0.0",
            "_model_name": "CatboostWidgetModel",
            "_view_count": null,
            "_view_module": "catboost-widget",
            "_view_module_version": "^1.0.0",
            "_view_name": "CatboostWidgetView",
            "data": {
              "catboost_info": {
                "path": "catboost_info",
                "name": "catboost_info",
                "content": {
                  "passed_iterations": 999,
                  "total_iterations": 1000,
                  "data": {
                    "iterations": [
                      {
                        "learn": [
                          146964998.5
                        ],
                        "iteration": 0,
                        "passed_time": 0.02191406885,
                        "remaining_time": 21.89215478,
                        "test": [
                          180079862.2
                        ]
                      },
                      {
                        "learn": [
                          140472045.2
                        ],
                        "iteration": 1,
                        "passed_time": 0.04222538471,
                        "remaining_time": 21.07046697,
                        "test": [
                          172938890.3
                        ]
                      },
                      {
                        "learn": [
                          134905696
                        ],
                        "iteration": 2,
                        "passed_time": 0.05689961893,
                        "remaining_time": 18.90964003,
                        "test": [
                          167041358.9
                        ]
                      },
                      {
                        "learn": [
                          129899027.2
                        ],
                        "iteration": 3,
                        "passed_time": 0.08213667121,
                        "remaining_time": 20.45203113,
                        "test": [
                          161305542.1
                        ]
                      },
                      {
                        "learn": [
                          125678080.3
                        ],
                        "iteration": 4,
                        "passed_time": 0.09927855188,
                        "remaining_time": 19.75643182,
                        "test": [
                          156621553.2
                        ]
                      },
                      {
                        "learn": [
                          122085116.5
                        ],
                        "iteration": 5,
                        "passed_time": 0.1205346656,
                        "remaining_time": 19.96857626,
                        "test": [
                          152440974
                        ]
                      },
                      {
                        "learn": [
                          119118452.9
                        ],
                        "iteration": 6,
                        "passed_time": 0.14428071,
                        "remaining_time": 20.46724929,
                        "test": [
                          149255398.8
                        ]
                      },
                      {
                        "learn": [
                          116563497.2
                        ],
                        "iteration": 7,
                        "passed_time": 0.1662804182,
                        "remaining_time": 20.61877186,
                        "test": [
                          146134127
                        ]
                      },
                      {
                        "learn": [
                          114291954.3
                        ],
                        "iteration": 8,
                        "passed_time": 0.1959277186,
                        "remaining_time": 21.57381879,
                        "test": [
                          143208893.3
                        ]
                      },
                      {
                        "learn": [
                          112284577.2
                        ],
                        "iteration": 9,
                        "passed_time": 0.2185638136,
                        "remaining_time": 21.63781755,
                        "test": [
                          140885876.4
                        ]
                      },
                      {
                        "learn": [
                          110619567.8
                        ],
                        "iteration": 10,
                        "passed_time": 0.2531957132,
                        "remaining_time": 22.76459639,
                        "test": [
                          138587370
                        ]
                      },
                      {
                        "learn": [
                          109155059.9
                        ],
                        "iteration": 11,
                        "passed_time": 0.2799666219,
                        "remaining_time": 23.0505852,
                        "test": [
                          136935841.5
                        ]
                      },
                      {
                        "learn": [
                          108002069.8
                        ],
                        "iteration": 12,
                        "passed_time": 0.3315929394,
                        "remaining_time": 25.17555624,
                        "test": [
                          135183668.7
                        ]
                      },
                      {
                        "learn": [
                          106939630.1
                        ],
                        "iteration": 13,
                        "passed_time": 0.363824359,
                        "remaining_time": 25.62362986,
                        "test": [
                          133637873.8
                        ]
                      },
                      {
                        "learn": [
                          106022827.2
                        ],
                        "iteration": 14,
                        "passed_time": 0.3924210587,
                        "remaining_time": 25.76898285,
                        "test": [
                          132940307.1
                        ]
                      },
                      {
                        "learn": [
                          105100273.8
                        ],
                        "iteration": 15,
                        "passed_time": 0.4188940956,
                        "remaining_time": 25.76198688,
                        "test": [
                          131858057
                        ]
                      },
                      {
                        "learn": [
                          103844608.7
                        ],
                        "iteration": 16,
                        "passed_time": 0.4371770681,
                        "remaining_time": 25.27912106,
                        "test": [
                          130455196.4
                        ]
                      },
                      {
                        "learn": [
                          102756846
                        ],
                        "iteration": 17,
                        "passed_time": 0.4653979766,
                        "remaining_time": 25.39004517,
                        "test": [
                          129480198.8
                        ]
                      },
                      {
                        "learn": [
                          101674739.5
                        ],
                        "iteration": 18,
                        "passed_time": 0.4924637726,
                        "remaining_time": 25.42668216,
                        "test": [
                          128158879.7
                        ]
                      },
                      {
                        "learn": [
                          101005497.5
                        ],
                        "iteration": 19,
                        "passed_time": 0.5244468877,
                        "remaining_time": 25.6978975,
                        "test": [
                          127523954.6
                        ]
                      },
                      {
                        "learn": [
                          100197210.6
                        ],
                        "iteration": 20,
                        "passed_time": 0.5683382187,
                        "remaining_time": 26.49538648,
                        "test": [
                          126517490
                        ]
                      },
                      {
                        "learn": [
                          99514348.06
                        ],
                        "iteration": 21,
                        "passed_time": 0.6085695995,
                        "remaining_time": 27.05368493,
                        "test": [
                          125750196.1
                        ]
                      },
                      {
                        "learn": [
                          99024772.69
                        ],
                        "iteration": 22,
                        "passed_time": 0.6250591828,
                        "remaining_time": 26.55142703,
                        "test": [
                          125361550.2
                        ]
                      },
                      {
                        "learn": [
                          98376432.24
                        ],
                        "iteration": 23,
                        "passed_time": 0.6399792039,
                        "remaining_time": 26.02582096,
                        "test": [
                          124951313.2
                        ]
                      },
                      {
                        "learn": [
                          97655557.2
                        ],
                        "iteration": 24,
                        "passed_time": 0.654916596,
                        "remaining_time": 25.54174724,
                        "test": [
                          124394357.9
                        ]
                      },
                      {
                        "learn": [
                          97188306.3
                        ],
                        "iteration": 25,
                        "passed_time": 0.6767177088,
                        "remaining_time": 25.35088647,
                        "test": [
                          124167187.9
                        ]
                      },
                      {
                        "learn": [
                          96718888.72
                        ],
                        "iteration": 26,
                        "passed_time": 0.7057525666,
                        "remaining_time": 25.43323138,
                        "test": [
                          123961165.6
                        ]
                      },
                      {
                        "learn": [
                          96405779.3
                        ],
                        "iteration": 27,
                        "passed_time": 0.725966672,
                        "remaining_time": 25.20141447,
                        "test": [
                          123625310.4
                        ]
                      },
                      {
                        "learn": [
                          96121906.26
                        ],
                        "iteration": 28,
                        "passed_time": 0.761573001,
                        "remaining_time": 25.49956497,
                        "test": [
                          123347939.7
                        ]
                      },
                      {
                        "learn": [
                          96116035.25
                        ],
                        "iteration": 29,
                        "passed_time": 0.7658675275,
                        "remaining_time": 24.76305006,
                        "test": [
                          123393812.2
                        ]
                      },
                      {
                        "learn": [
                          95664051.87
                        ],
                        "iteration": 30,
                        "passed_time": 0.7762321097,
                        "remaining_time": 24.26351336,
                        "test": [
                          123377249.3
                        ]
                      },
                      {
                        "learn": [
                          95389878.02
                        ],
                        "iteration": 31,
                        "passed_time": 0.7823914429,
                        "remaining_time": 23.66734115,
                        "test": [
                          123252362.9
                        ]
                      },
                      {
                        "learn": [
                          95108126.03
                        ],
                        "iteration": 32,
                        "passed_time": 0.7900341476,
                        "remaining_time": 23.15039457,
                        "test": [
                          123249139.6
                        ]
                      },
                      {
                        "learn": [
                          94923423.77
                        ],
                        "iteration": 33,
                        "passed_time": 0.7978419366,
                        "remaining_time": 22.66809738,
                        "test": [
                          123008384.9
                        ]
                      },
                      {
                        "learn": [
                          94675736.84
                        ],
                        "iteration": 34,
                        "passed_time": 0.8053872609,
                        "remaining_time": 22.20567734,
                        "test": [
                          122920728.5
                        ]
                      },
                      {
                        "learn": [
                          94445093.61
                        ],
                        "iteration": 35,
                        "passed_time": 0.8144107179,
                        "remaining_time": 21.80810922,
                        "test": [
                          122783312.9
                        ]
                      },
                      {
                        "learn": [
                          94161392.74
                        ],
                        "iteration": 36,
                        "passed_time": 0.8319233851,
                        "remaining_time": 21.65249243,
                        "test": [
                          122671349.2
                        ]
                      },
                      {
                        "learn": [
                          94159193.99
                        ],
                        "iteration": 37,
                        "passed_time": 0.8450981514,
                        "remaining_time": 21.39432689,
                        "test": [
                          122726665.9
                        ]
                      },
                      {
                        "learn": [
                          93910576.61
                        ],
                        "iteration": 38,
                        "passed_time": 0.8677264951,
                        "remaining_time": 21.38167081,
                        "test": [
                          122714822.3
                        ]
                      },
                      {
                        "learn": [
                          93639187.27
                        ],
                        "iteration": 39,
                        "passed_time": 0.8801714814,
                        "remaining_time": 21.12411555,
                        "test": [
                          122549500
                        ]
                      },
                      {
                        "learn": [
                          93537338.33
                        ],
                        "iteration": 40,
                        "passed_time": 0.8869369698,
                        "remaining_time": 20.74567205,
                        "test": [
                          122482937
                        ]
                      },
                      {
                        "learn": [
                          93532531.18
                        ],
                        "iteration": 41,
                        "passed_time": 0.8895669996,
                        "remaining_time": 20.29059966,
                        "test": [
                          122538921.5
                        ]
                      },
                      {
                        "learn": [
                          93432116.39
                        ],
                        "iteration": 42,
                        "passed_time": 0.8975247468,
                        "remaining_time": 19.97514378,
                        "test": [
                          122520213.7
                        ]
                      },
                      {
                        "learn": [
                          93245164.75
                        ],
                        "iteration": 43,
                        "passed_time": 0.9015315692,
                        "remaining_time": 19.58782228,
                        "test": [
                          122528786.2
                        ]
                      },
                      {
                        "learn": [
                          92994889.54
                        ],
                        "iteration": 44,
                        "passed_time": 0.9079342316,
                        "remaining_time": 19.26838203,
                        "test": [
                          122394712.8
                        ]
                      },
                      {
                        "learn": [
                          92838335.8
                        ],
                        "iteration": 45,
                        "passed_time": 0.9127571907,
                        "remaining_time": 18.92979043,
                        "test": [
                          122362259
                        ]
                      },
                      {
                        "learn": [
                          92707054.38
                        ],
                        "iteration": 46,
                        "passed_time": 0.917476182,
                        "remaining_time": 18.60329365,
                        "test": [
                          122294381.4
                        ]
                      },
                      {
                        "learn": [
                          92287028.61
                        ],
                        "iteration": 47,
                        "passed_time": 0.9219968338,
                        "remaining_time": 18.28627054,
                        "test": [
                          122024591.6
                        ]
                      },
                      {
                        "learn": [
                          92151130.76
                        ],
                        "iteration": 48,
                        "passed_time": 0.9267828157,
                        "remaining_time": 17.9871522,
                        "test": [
                          122032661.2
                        ]
                      },
                      {
                        "learn": [
                          91927136.89
                        ],
                        "iteration": 49,
                        "passed_time": 0.9316274346,
                        "remaining_time": 17.70092126,
                        "test": [
                          122103915.9
                        ]
                      },
                      {
                        "learn": [
                          91899531.82
                        ],
                        "iteration": 50,
                        "passed_time": 0.9364660148,
                        "remaining_time": 17.42561271,
                        "test": [
                          122061149.6
                        ]
                      },
                      {
                        "learn": [
                          91772063.99
                        ],
                        "iteration": 51,
                        "passed_time": 0.9404587444,
                        "remaining_time": 17.14528634,
                        "test": [
                          121995857.9
                        ]
                      },
                      {
                        "learn": [
                          91643915.91
                        ],
                        "iteration": 52,
                        "passed_time": 0.946158412,
                        "remaining_time": 16.9058871,
                        "test": [
                          121926058.6
                        ]
                      },
                      {
                        "learn": [
                          91519748.76
                        ],
                        "iteration": 53,
                        "passed_time": 0.9525850896,
                        "remaining_time": 16.68787953,
                        "test": [
                          121874209.8
                        ]
                      },
                      {
                        "learn": [
                          91396455.32
                        ],
                        "iteration": 54,
                        "passed_time": 0.9579463746,
                        "remaining_time": 16.45926044,
                        "test": [
                          121987926.7
                        ]
                      },
                      {
                        "learn": [
                          91315233.37
                        ],
                        "iteration": 55,
                        "passed_time": 0.9714387402,
                        "remaining_time": 16.37568162,
                        "test": [
                          121842833.9
                        ]
                      },
                      {
                        "learn": [
                          91203086.54
                        ],
                        "iteration": 56,
                        "passed_time": 0.9755525182,
                        "remaining_time": 16.13940394,
                        "test": [
                          121843777.6
                        ]
                      },
                      {
                        "learn": [
                          91104631.44
                        ],
                        "iteration": 57,
                        "passed_time": 0.9814916772,
                        "remaining_time": 15.94077862,
                        "test": [
                          121829728.5
                        ]
                      },
                      {
                        "learn": [
                          90978660.42
                        ],
                        "iteration": 58,
                        "passed_time": 0.9860435401,
                        "remaining_time": 15.72655883,
                        "test": [
                          121846199.1
                        ]
                      },
                      {
                        "learn": [
                          90872114.98
                        ],
                        "iteration": 59,
                        "passed_time": 0.9929769365,
                        "remaining_time": 15.55663867,
                        "test": [
                          121795371.9
                        ]
                      },
                      {
                        "learn": [
                          90872107.94
                        ],
                        "iteration": 60,
                        "passed_time": 0.99439218,
                        "remaining_time": 15.30711897,
                        "test": [
                          121795220.2
                        ]
                      },
                      {
                        "learn": [
                          90842429.72
                        ],
                        "iteration": 61,
                        "passed_time": 0.999387433,
                        "remaining_time": 15.11976471,
                        "test": [
                          121788787.7
                        ]
                      },
                      {
                        "learn": [
                          90787202.69
                        ],
                        "iteration": 62,
                        "passed_time": 1.003475809,
                        "remaining_time": 14.92471163,
                        "test": [
                          121841545.1
                        ]
                      },
                      {
                        "learn": [
                          90681680.98
                        ],
                        "iteration": 63,
                        "passed_time": 1.009634806,
                        "remaining_time": 14.76590904,
                        "test": [
                          121810287.2
                        ]
                      },
                      {
                        "learn": [
                          90447679.7
                        ],
                        "iteration": 64,
                        "passed_time": 1.014278891,
                        "remaining_time": 14.59001175,
                        "test": [
                          121931872.2
                        ]
                      },
                      {
                        "learn": [
                          90355007.09
                        ],
                        "iteration": 65,
                        "passed_time": 1.018824098,
                        "remaining_time": 14.41790466,
                        "test": [
                          122047818.3
                        ]
                      },
                      {
                        "learn": [
                          90299693.03
                        ],
                        "iteration": 66,
                        "passed_time": 1.02368096,
                        "remaining_time": 14.25513933,
                        "test": [
                          122095178.9
                        ]
                      },
                      {
                        "learn": [
                          90258391.18
                        ],
                        "iteration": 67,
                        "passed_time": 1.028571246,
                        "remaining_time": 14.09747649,
                        "test": [
                          122135386.2
                        ]
                      },
                      {
                        "learn": [
                          90054102.44
                        ],
                        "iteration": 68,
                        "passed_time": 1.03336895,
                        "remaining_time": 13.94299265,
                        "test": [
                          122207587
                        ]
                      },
                      {
                        "learn": [
                          89891046.39
                        ],
                        "iteration": 69,
                        "passed_time": 1.037656941,
                        "remaining_time": 13.78601364,
                        "test": [
                          122212317.9
                        ]
                      },
                      {
                        "learn": [
                          89869564.89
                        ],
                        "iteration": 70,
                        "passed_time": 1.041685894,
                        "remaining_time": 13.62994641,
                        "test": [
                          122254746.7
                        ]
                      },
                      {
                        "learn": [
                          89834131.57
                        ],
                        "iteration": 71,
                        "passed_time": 1.047413378,
                        "remaining_time": 13.49999465,
                        "test": [
                          122350924.6
                        ]
                      },
                      {
                        "learn": [
                          89734140.81
                        ],
                        "iteration": 72,
                        "passed_time": 1.052934749,
                        "remaining_time": 13.37082893,
                        "test": [
                          122058917
                        ]
                      },
                      {
                        "learn": [
                          89667548.18
                        ],
                        "iteration": 73,
                        "passed_time": 1.058793596,
                        "remaining_time": 13.24922797,
                        "test": [
                          122056216.5
                        ]
                      },
                      {
                        "learn": [
                          89641948.25
                        ],
                        "iteration": 74,
                        "passed_time": 1.065015821,
                        "remaining_time": 13.13519513,
                        "test": [
                          122054081.8
                        ]
                      },
                      {
                        "learn": [
                          89625473.16
                        ],
                        "iteration": 75,
                        "passed_time": 1.069884518,
                        "remaining_time": 13.00754335,
                        "test": [
                          122099824.2
                        ]
                      },
                      {
                        "learn": [
                          89397980.46
                        ],
                        "iteration": 76,
                        "passed_time": 1.075899822,
                        "remaining_time": 12.89682514,
                        "test": [
                          122170817
                        ]
                      },
                      {
                        "learn": [
                          89230655.68
                        ],
                        "iteration": 77,
                        "passed_time": 1.080719762,
                        "remaining_time": 12.7746618,
                        "test": [
                          122084828.9
                        ]
                      },
                      {
                        "learn": [
                          89113279.78
                        ],
                        "iteration": 78,
                        "passed_time": 1.08787611,
                        "remaining_time": 12.68270756,
                        "test": [
                          122092412.5
                        ]
                      },
                      {
                        "learn": [
                          89098902.16
                        ],
                        "iteration": 79,
                        "passed_time": 1.093267967,
                        "remaining_time": 12.57258162,
                        "test": [
                          122128141.9
                        ]
                      },
                      {
                        "learn": [
                          88866008.52
                        ],
                        "iteration": 80,
                        "passed_time": 1.098646893,
                        "remaining_time": 12.464895,
                        "test": [
                          122203012.3
                        ]
                      },
                      {
                        "learn": [
                          88738044.27
                        ],
                        "iteration": 81,
                        "passed_time": 1.103412242,
                        "remaining_time": 12.35283462,
                        "test": [
                          122140938.2
                        ]
                      },
                      {
                        "learn": [
                          88722868.7
                        ],
                        "iteration": 82,
                        "passed_time": 1.109427104,
                        "remaining_time": 12.25716451,
                        "test": [
                          122130535.1
                        ]
                      },
                      {
                        "learn": [
                          88564377.28
                        ],
                        "iteration": 83,
                        "passed_time": 1.114507145,
                        "remaining_time": 12.15343506,
                        "test": [
                          122052736.2
                        ]
                      },
                      {
                        "learn": [
                          88561852.88
                        ],
                        "iteration": 84,
                        "passed_time": 1.116390902,
                        "remaining_time": 12.01761971,
                        "test": [
                          122097256
                        ]
                      },
                      {
                        "learn": [
                          88499357.22
                        ],
                        "iteration": 85,
                        "passed_time": 1.120289771,
                        "remaining_time": 11.90633547,
                        "test": [
                          122001093.2
                        ]
                      },
                      {
                        "learn": [
                          88328127.44
                        ],
                        "iteration": 86,
                        "passed_time": 1.126410563,
                        "remaining_time": 11.82083729,
                        "test": [
                          122123924.8
                        ]
                      },
                      {
                        "learn": [
                          88223286.24
                        ],
                        "iteration": 87,
                        "passed_time": 1.131754632,
                        "remaining_time": 11.72909346,
                        "test": [
                          122244230.9
                        ]
                      },
                      {
                        "learn": [
                          88196377.94
                        ],
                        "iteration": 88,
                        "passed_time": 1.136265307,
                        "remaining_time": 11.63076062,
                        "test": [
                          122279543.5
                        ]
                      },
                      {
                        "learn": [
                          88149925.48
                        ],
                        "iteration": 89,
                        "passed_time": 1.140846141,
                        "remaining_time": 11.5352221,
                        "test": [
                          122244545.7
                        ]
                      },
                      {
                        "learn": [
                          88054928.25
                        ],
                        "iteration": 90,
                        "passed_time": 1.146919254,
                        "remaining_time": 11.45658904,
                        "test": [
                          122315620.6
                        ]
                      },
                      {
                        "learn": [
                          88039083.59
                        ],
                        "iteration": 91,
                        "passed_time": 1.152785676,
                        "remaining_time": 11.37749341,
                        "test": [
                          122316455.3
                        ]
                      },
                      {
                        "learn": [
                          88009401.59
                        ],
                        "iteration": 92,
                        "passed_time": 1.157170785,
                        "remaining_time": 11.28552583,
                        "test": [
                          122339987.9
                        ]
                      },
                      {
                        "learn": [
                          87855188.55
                        ],
                        "iteration": 93,
                        "passed_time": 1.162475184,
                        "remaining_time": 11.20428209,
                        "test": [
                          122384264.8
                        ]
                      },
                      {
                        "learn": [
                          87720375.89
                        ],
                        "iteration": 94,
                        "passed_time": 1.1670829,
                        "remaining_time": 11.11800026,
                        "test": [
                          122446785.4
                        ]
                      },
                      {
                        "learn": [
                          87613913.79
                        ],
                        "iteration": 95,
                        "passed_time": 1.171777538,
                        "remaining_time": 11.03423848,
                        "test": [
                          122344169.9
                        ]
                      },
                      {
                        "learn": [
                          87506230.81
                        ],
                        "iteration": 96,
                        "passed_time": 1.176951778,
                        "remaining_time": 10.95657171,
                        "test": [
                          122291176.6
                        ]
                      },
                      {
                        "learn": [
                          87338035.75
                        ],
                        "iteration": 97,
                        "passed_time": 1.182931111,
                        "remaining_time": 10.88779451,
                        "test": [
                          122382592.2
                        ]
                      },
                      {
                        "learn": [
                          87244399.36
                        ],
                        "iteration": 98,
                        "passed_time": 1.190337611,
                        "remaining_time": 10.83327462,
                        "test": [
                          122296083.4
                        ]
                      },
                      {
                        "learn": [
                          87233882.41
                        ],
                        "iteration": 99,
                        "passed_time": 1.201176296,
                        "remaining_time": 10.81058666,
                        "test": [
                          122340425.1
                        ]
                      },
                      {
                        "learn": [
                          87171466.27
                        ],
                        "iteration": 100,
                        "passed_time": 1.207248955,
                        "remaining_time": 10.745711,
                        "test": [
                          122294583.3
                        ]
                      },
                      {
                        "learn": [
                          87025659.4
                        ],
                        "iteration": 101,
                        "passed_time": 1.214231858,
                        "remaining_time": 10.69000205,
                        "test": [
                          122228444
                        ]
                      },
                      {
                        "learn": [
                          86977703.18
                        ],
                        "iteration": 102,
                        "passed_time": 1.22140509,
                        "remaining_time": 10.63689675,
                        "test": [
                          122241732
                        ]
                      },
                      {
                        "learn": [
                          86938138.73
                        ],
                        "iteration": 103,
                        "passed_time": 1.22594886,
                        "remaining_time": 10.56202095,
                        "test": [
                          122366423.3
                        ]
                      },
                      {
                        "learn": [
                          86850759.2
                        ],
                        "iteration": 104,
                        "passed_time": 1.229490281,
                        "remaining_time": 10.47994097,
                        "test": [
                          122434362.1
                        ]
                      },
                      {
                        "learn": [
                          86824931.48
                        ],
                        "iteration": 105,
                        "passed_time": 1.234219988,
                        "remaining_time": 10.4093648,
                        "test": [
                          122433861.9
                        ]
                      },
                      {
                        "learn": [
                          86753149.3
                        ],
                        "iteration": 106,
                        "passed_time": 1.237965277,
                        "remaining_time": 10.33180366,
                        "test": [
                          122409856.2
                        ]
                      },
                      {
                        "learn": [
                          86749230.07
                        ],
                        "iteration": 107,
                        "passed_time": 1.242248909,
                        "remaining_time": 10.26005581,
                        "test": [
                          122403243
                        ]
                      },
                      {
                        "learn": [
                          86686113.1
                        ],
                        "iteration": 108,
                        "passed_time": 1.247702284,
                        "remaining_time": 10.19910766,
                        "test": [
                          122417127.9
                        ]
                      },
                      {
                        "learn": [
                          86543608.83
                        ],
                        "iteration": 109,
                        "passed_time": 1.2533619,
                        "remaining_time": 10.14083719,
                        "test": [
                          122419514.3
                        ]
                      },
                      {
                        "learn": [
                          86335953.52
                        ],
                        "iteration": 110,
                        "passed_time": 1.259535292,
                        "remaining_time": 10.0876295,
                        "test": [
                          122509423
                        ]
                      },
                      {
                        "learn": [
                          86234126.79
                        ],
                        "iteration": 111,
                        "passed_time": 1.266016145,
                        "remaining_time": 10.03769943,
                        "test": [
                          122482160.2
                        ]
                      },
                      {
                        "learn": [
                          86158693.59
                        ],
                        "iteration": 112,
                        "passed_time": 1.269638885,
                        "remaining_time": 9.966103457,
                        "test": [
                          122486638.9
                        ]
                      },
                      {
                        "learn": [
                          86010566.25
                        ],
                        "iteration": 113,
                        "passed_time": 1.275605192,
                        "remaining_time": 9.913914033,
                        "test": [
                          122444583.7
                        ]
                      },
                      {
                        "learn": [
                          85812904.95
                        ],
                        "iteration": 114,
                        "passed_time": 1.282128129,
                        "remaining_time": 9.866812121,
                        "test": [
                          122468723.3
                        ]
                      },
                      {
                        "learn": [
                          85783362.87
                        ],
                        "iteration": 115,
                        "passed_time": 1.286905646,
                        "remaining_time": 9.807108547,
                        "test": [
                          122482251.1
                        ]
                      },
                      {
                        "learn": [
                          85657085.11
                        ],
                        "iteration": 116,
                        "passed_time": 1.29306953,
                        "remaining_time": 9.758806796,
                        "test": [
                          122616979.1
                        ]
                      },
                      {
                        "learn": [
                          85630670.22
                        ],
                        "iteration": 117,
                        "passed_time": 1.29724388,
                        "remaining_time": 9.696348321,
                        "test": [
                          122629751.5
                        ]
                      },
                      {
                        "learn": [
                          85502594.7
                        ],
                        "iteration": 118,
                        "passed_time": 1.304029211,
                        "remaining_time": 9.65419945,
                        "test": [
                          122704546.4
                        ]
                      },
                      {
                        "learn": [
                          85486467.09
                        ],
                        "iteration": 119,
                        "passed_time": 1.308059431,
                        "remaining_time": 9.592435831,
                        "test": [
                          122661758.6
                        ]
                      },
                      {
                        "learn": [
                          85348191.33
                        ],
                        "iteration": 120,
                        "passed_time": 1.312686675,
                        "remaining_time": 9.535963533,
                        "test": [
                          122765758
                        ]
                      },
                      {
                        "learn": [
                          85154478.44
                        ],
                        "iteration": 121,
                        "passed_time": 1.318247559,
                        "remaining_time": 9.4870603,
                        "test": [
                          122839023.5
                        ]
                      },
                      {
                        "learn": [
                          85029530.37
                        ],
                        "iteration": 122,
                        "passed_time": 1.323450192,
                        "remaining_time": 9.436307465,
                        "test": [
                          122774313
                        ]
                      },
                      {
                        "learn": [
                          84976904.07
                        ],
                        "iteration": 123,
                        "passed_time": 1.327183735,
                        "remaining_time": 9.375910899,
                        "test": [
                          122794439
                        ]
                      },
                      {
                        "learn": [
                          84928337.56
                        ],
                        "iteration": 124,
                        "passed_time": 1.331791121,
                        "remaining_time": 9.322537848,
                        "test": [
                          122729559.9
                        ]
                      },
                      {
                        "learn": [
                          84883254.79
                        ],
                        "iteration": 125,
                        "passed_time": 1.339101485,
                        "remaining_time": 9.288688076,
                        "test": [
                          122792874.9
                        ]
                      },
                      {
                        "learn": [
                          84750703.04
                        ],
                        "iteration": 126,
                        "passed_time": 1.343587787,
                        "remaining_time": 9.235843607,
                        "test": [
                          122803273.2
                        ]
                      },
                      {
                        "learn": [
                          84670929.56
                        ],
                        "iteration": 127,
                        "passed_time": 1.347340999,
                        "remaining_time": 9.178760555,
                        "test": [
                          122809854.3
                        ]
                      },
                      {
                        "learn": [
                          84606489.51
                        ],
                        "iteration": 128,
                        "passed_time": 1.352366363,
                        "remaining_time": 9.131093813,
                        "test": [
                          122780471.5
                        ]
                      },
                      {
                        "learn": [
                          84526300.45
                        ],
                        "iteration": 129,
                        "passed_time": 1.356197226,
                        "remaining_time": 9.076089126,
                        "test": [
                          122756294
                        ]
                      },
                      {
                        "learn": [
                          84460811.31
                        ],
                        "iteration": 130,
                        "passed_time": 1.361859801,
                        "remaining_time": 9.034016545,
                        "test": [
                          122735336.5
                        ]
                      },
                      {
                        "learn": [
                          84447333.96
                        ],
                        "iteration": 131,
                        "passed_time": 1.365315929,
                        "remaining_time": 8.977986564,
                        "test": [
                          122697942.4
                        ]
                      },
                      {
                        "learn": [
                          84411616.67
                        ],
                        "iteration": 132,
                        "passed_time": 1.371856102,
                        "remaining_time": 8.942851431,
                        "test": [
                          122689303.6
                        ]
                      },
                      {
                        "learn": [
                          84377793.99
                        ],
                        "iteration": 133,
                        "passed_time": 1.377525477,
                        "remaining_time": 8.902515393,
                        "test": [
                          122738713.9
                        ]
                      },
                      {
                        "learn": [
                          84366821.2
                        ],
                        "iteration": 134,
                        "passed_time": 1.383081245,
                        "remaining_time": 8.861965015,
                        "test": [
                          122738870
                        ]
                      },
                      {
                        "learn": [
                          84159815.86
                        ],
                        "iteration": 135,
                        "passed_time": 1.388752028,
                        "remaining_time": 8.822659945,
                        "test": [
                          122862873.6
                        ]
                      },
                      {
                        "learn": [
                          84104298.51
                        ],
                        "iteration": 136,
                        "passed_time": 1.394380342,
                        "remaining_time": 8.783578357,
                        "test": [
                          122901339.3
                        ]
                      },
                      {
                        "learn": [
                          84094095.8
                        ],
                        "iteration": 137,
                        "passed_time": 1.400510728,
                        "remaining_time": 8.748117736,
                        "test": [
                          122926141.1
                        ]
                      },
                      {
                        "learn": [
                          84090843.64
                        ],
                        "iteration": 138,
                        "passed_time": 1.410731622,
                        "remaining_time": 8.73841674,
                        "test": [
                          122950372.4
                        ]
                      },
                      {
                        "learn": [
                          84073811.15
                        ],
                        "iteration": 139,
                        "passed_time": 1.416186582,
                        "remaining_time": 8.69943186,
                        "test": [
                          122938682.6
                        ]
                      },
                      {
                        "learn": [
                          83962414.37
                        ],
                        "iteration": 140,
                        "passed_time": 1.419848533,
                        "remaining_time": 8.649999219,
                        "test": [
                          122957185.9
                        ]
                      },
                      {
                        "learn": [
                          83869741.39
                        ],
                        "iteration": 141,
                        "passed_time": 1.424965878,
                        "remaining_time": 8.610005091,
                        "test": [
                          122955663
                        ]
                      },
                      {
                        "learn": [
                          83785962.79
                        ],
                        "iteration": 142,
                        "passed_time": 1.431769257,
                        "remaining_time": 8.580603168,
                        "test": [
                          123069932.1
                        ]
                      },
                      {
                        "learn": [
                          83658878.4
                        ],
                        "iteration": 143,
                        "passed_time": 1.437349403,
                        "remaining_time": 8.544243673,
                        "test": [
                          122999096.6
                        ]
                      },
                      {
                        "learn": [
                          83589318.12
                        ],
                        "iteration": 144,
                        "passed_time": 1.442949882,
                        "remaining_time": 8.508428617,
                        "test": [
                          123095817.8
                        ]
                      },
                      {
                        "learn": [
                          83428951.27
                        ],
                        "iteration": 145,
                        "passed_time": 1.448179122,
                        "remaining_time": 8.470855958,
                        "test": [
                          123282387
                        ]
                      },
                      {
                        "learn": [
                          83321664.43
                        ],
                        "iteration": 146,
                        "passed_time": 1.4525675,
                        "remaining_time": 8.428844067,
                        "test": [
                          123313962.2
                        ]
                      },
                      {
                        "learn": [
                          83227778.07
                        ],
                        "iteration": 147,
                        "passed_time": 1.45883565,
                        "remaining_time": 8.398161986,
                        "test": [
                          123350235
                        ]
                      },
                      {
                        "learn": [
                          83162286.74
                        ],
                        "iteration": 148,
                        "passed_time": 1.465209799,
                        "remaining_time": 8.36841301,
                        "test": [
                          123334683.7
                        ]
                      },
                      {
                        "learn": [
                          83099676.44
                        ],
                        "iteration": 149,
                        "passed_time": 1.469006381,
                        "remaining_time": 8.324369492,
                        "test": [
                          123422766.7
                        ]
                      },
                      {
                        "learn": [
                          83074559.54
                        ],
                        "iteration": 150,
                        "passed_time": 1.474607733,
                        "remaining_time": 8.291006393,
                        "test": [
                          123447614
                        ]
                      },
                      {
                        "learn": [
                          82947450.08
                        ],
                        "iteration": 151,
                        "passed_time": 1.480904649,
                        "remaining_time": 8.261889097,
                        "test": [
                          123394612.3
                        ]
                      },
                      {
                        "learn": [
                          82869198.24
                        ],
                        "iteration": 152,
                        "passed_time": 1.485339727,
                        "remaining_time": 8.222763063,
                        "test": [
                          123472433.8
                        ]
                      },
                      {
                        "learn": [
                          82866140.5
                        ],
                        "iteration": 153,
                        "passed_time": 1.491192271,
                        "remaining_time": 8.191874426,
                        "test": [
                          123497541.3
                        ]
                      },
                      {
                        "learn": [
                          82855753.65
                        ],
                        "iteration": 154,
                        "passed_time": 1.497391449,
                        "remaining_time": 8.163198545,
                        "test": [
                          123469490.3
                        ]
                      },
                      {
                        "learn": [
                          82812940.73
                        ],
                        "iteration": 155,
                        "passed_time": 1.502768831,
                        "remaining_time": 8.130364699,
                        "test": [
                          123510295.2
                        ]
                      },
                      {
                        "learn": [
                          82772949.27
                        ],
                        "iteration": 156,
                        "passed_time": 1.509384214,
                        "remaining_time": 8.104527979,
                        "test": [
                          123639934.1
                        ]
                      },
                      {
                        "learn": [
                          82652864.89
                        ],
                        "iteration": 157,
                        "passed_time": 1.516681234,
                        "remaining_time": 8.082567081,
                        "test": [
                          123534395.3
                        ]
                      },
                      {
                        "learn": [
                          82620568.35
                        ],
                        "iteration": 158,
                        "passed_time": 1.521612393,
                        "remaining_time": 8.048276873,
                        "test": [
                          123492996.2
                        ]
                      },
                      {
                        "learn": [
                          82589504.65
                        ],
                        "iteration": 159,
                        "passed_time": 1.527804138,
                        "remaining_time": 8.020971726,
                        "test": [
                          123426249.5
                        ]
                      },
                      {
                        "learn": [
                          82495572.14
                        ],
                        "iteration": 160,
                        "passed_time": 1.533781091,
                        "remaining_time": 7.992809535,
                        "test": [
                          123429407.6
                        ]
                      },
                      {
                        "learn": [
                          82492914.4
                        ],
                        "iteration": 161,
                        "passed_time": 1.53992667,
                        "remaining_time": 7.965793517,
                        "test": [
                          123454078
                        ]
                      },
                      {
                        "learn": [
                          82425531.54
                        ],
                        "iteration": 162,
                        "passed_time": 1.546306691,
                        "remaining_time": 7.940237428,
                        "test": [
                          123455923.8
                        ]
                      },
                      {
                        "learn": [
                          82274353.36
                        ],
                        "iteration": 163,
                        "passed_time": 1.553165057,
                        "remaining_time": 7.917353582,
                        "test": [
                          123399030.6
                        ]
                      },
                      {
                        "learn": [
                          82155527.85
                        ],
                        "iteration": 164,
                        "passed_time": 1.559896358,
                        "remaining_time": 7.894020965,
                        "test": [
                          123589993.6
                        ]
                      },
                      {
                        "learn": [
                          82069643.99
                        ],
                        "iteration": 165,
                        "passed_time": 1.566684531,
                        "remaining_time": 7.87117409,
                        "test": [
                          123605671.7
                        ]
                      },
                      {
                        "learn": [
                          81945628.51
                        ],
                        "iteration": 166,
                        "passed_time": 1.571022334,
                        "remaining_time": 7.836297031,
                        "test": [
                          123682813.2
                        ]
                      },
                      {
                        "learn": [
                          81940406.6
                        ],
                        "iteration": 167,
                        "passed_time": 1.576339204,
                        "remaining_time": 7.806632248,
                        "test": [
                          123690859
                        ]
                      },
                      {
                        "learn": [
                          81872542.48
                        ],
                        "iteration": 168,
                        "passed_time": 1.582656129,
                        "remaining_time": 7.782173038,
                        "test": [
                          123824434.4
                        ]
                      },
                      {
                        "learn": [
                          81870144.47
                        ],
                        "iteration": 169,
                        "passed_time": 1.58865556,
                        "remaining_time": 7.756377146,
                        "test": [
                          123843514.8
                        ]
                      },
                      {
                        "learn": [
                          81766741.22
                        ],
                        "iteration": 170,
                        "passed_time": 1.592975499,
                        "remaining_time": 7.722670692,
                        "test": [
                          123753676
                        ]
                      },
                      {
                        "learn": [
                          81627727.97
                        ],
                        "iteration": 171,
                        "passed_time": 1.597432798,
                        "remaining_time": 7.689967188,
                        "test": [
                          123818044
                        ]
                      },
                      {
                        "learn": [
                          81475090.07
                        ],
                        "iteration": 172,
                        "passed_time": 1.602770746,
                        "remaining_time": 7.661800042,
                        "test": [
                          123781579
                        ]
                      },
                      {
                        "learn": [
                          81295613.22
                        ],
                        "iteration": 173,
                        "passed_time": 1.609794626,
                        "remaining_time": 7.641898626,
                        "test": [
                          123770481.5
                        ]
                      },
                      {
                        "learn": [
                          81167237.56
                        ],
                        "iteration": 174,
                        "passed_time": 1.615358538,
                        "remaining_time": 7.615261678,
                        "test": [
                          123795651.9
                        ]
                      },
                      {
                        "learn": [
                          81085486.56
                        ],
                        "iteration": 175,
                        "passed_time": 1.621968294,
                        "remaining_time": 7.59376065,
                        "test": [
                          123801559.1
                        ]
                      },
                      {
                        "learn": [
                          80995342.45
                        ],
                        "iteration": 176,
                        "passed_time": 1.628455949,
                        "remaining_time": 7.571860146,
                        "test": [
                          123805756.3
                        ]
                      },
                      {
                        "learn": [
                          80905001.21
                        ],
                        "iteration": 177,
                        "passed_time": 1.634160322,
                        "remaining_time": 7.546515644,
                        "test": [
                          123888697.7
                        ]
                      },
                      {
                        "learn": [
                          80902738.6
                        ],
                        "iteration": 178,
                        "passed_time": 1.638449152,
                        "remaining_time": 7.514898064,
                        "test": [
                          123904731.9
                        ]
                      },
                      {
                        "learn": [
                          80859702.84
                        ],
                        "iteration": 179,
                        "passed_time": 1.644390465,
                        "remaining_time": 7.491112117,
                        "test": [
                          123897334.9
                        ]
                      },
                      {
                        "learn": [
                          80744639.61
                        ],
                        "iteration": 180,
                        "passed_time": 1.651370516,
                        "remaining_time": 7.472223497,
                        "test": [
                          124002391.1
                        ]
                      },
                      {
                        "learn": [
                          80744141.97
                        ],
                        "iteration": 181,
                        "passed_time": 1.656063914,
                        "remaining_time": 7.44318836,
                        "test": [
                          124010726
                        ]
                      },
                      {
                        "learn": [
                          80602497.67
                        ],
                        "iteration": 182,
                        "passed_time": 1.663445047,
                        "remaining_time": 7.426418596,
                        "test": [
                          123978718.3
                        ]
                      },
                      {
                        "learn": [
                          80571287.03
                        ],
                        "iteration": 183,
                        "passed_time": 1.667556952,
                        "remaining_time": 7.395252569,
                        "test": [
                          123994302.6
                        ]
                      },
                      {
                        "learn": [
                          80436259.47
                        ],
                        "iteration": 184,
                        "passed_time": 1.673681301,
                        "remaining_time": 7.373244649,
                        "test": [
                          124051181.7
                        ]
                      },
                      {
                        "learn": [
                          80369743.92
                        ],
                        "iteration": 185,
                        "passed_time": 1.68036271,
                        "remaining_time": 7.353845407,
                        "test": [
                          124138534.4
                        ]
                      },
                      {
                        "learn": [
                          80286712.79
                        ],
                        "iteration": 186,
                        "passed_time": 1.685384738,
                        "remaining_time": 7.327367873,
                        "test": [
                          124089207.9
                        ]
                      },
                      {
                        "learn": [
                          80263377.77
                        ],
                        "iteration": 187,
                        "passed_time": 1.693130502,
                        "remaining_time": 7.312882806,
                        "test": [
                          124080419.3
                        ]
                      },
                      {
                        "learn": [
                          80261354.52
                        ],
                        "iteration": 188,
                        "passed_time": 1.696781007,
                        "remaining_time": 7.280896278,
                        "test": [
                          124090633.3
                        ]
                      },
                      {
                        "learn": [
                          80259573.17
                        ],
                        "iteration": 189,
                        "passed_time": 1.702714809,
                        "remaining_time": 7.258942082,
                        "test": [
                          124093945.6
                        ]
                      },
                      {
                        "learn": [
                          80220457.21
                        ],
                        "iteration": 190,
                        "passed_time": 1.70901889,
                        "remaining_time": 7.238723991,
                        "test": [
                          124091270.1
                        ]
                      },
                      {
                        "learn": [
                          80151435.19
                        ],
                        "iteration": 191,
                        "passed_time": 1.714327934,
                        "remaining_time": 7.214463387,
                        "test": [
                          124072905.5
                        ]
                      },
                      {
                        "learn": [
                          80083413.77
                        ],
                        "iteration": 192,
                        "passed_time": 1.719111319,
                        "remaining_time": 7.188201215,
                        "test": [
                          124082332.2
                        ]
                      },
                      {
                        "learn": [
                          80081665.37
                        ],
                        "iteration": 193,
                        "passed_time": 1.723877996,
                        "remaining_time": 7.162091055,
                        "test": [
                          124091275.6
                        ]
                      },
                      {
                        "learn": [
                          79973405.89
                        ],
                        "iteration": 194,
                        "passed_time": 1.730319106,
                        "remaining_time": 7.143112208,
                        "test": [
                          124203992
                        ]
                      },
                      {
                        "learn": [
                          79874290.7
                        ],
                        "iteration": 195,
                        "passed_time": 1.736695953,
                        "remaining_time": 7.123997683,
                        "test": [
                          124247354.6
                        ]
                      },
                      {
                        "learn": [
                          79831491.47
                        ],
                        "iteration": 196,
                        "passed_time": 1.74288561,
                        "remaining_time": 7.104249467,
                        "test": [
                          124251613.1
                        ]
                      },
                      {
                        "learn": [
                          79829788.5
                        ],
                        "iteration": 197,
                        "passed_time": 1.749391755,
                        "remaining_time": 7.08592014,
                        "test": [
                          124258890.6
                        ]
                      },
                      {
                        "learn": [
                          79754903.49
                        ],
                        "iteration": 198,
                        "passed_time": 1.759013397,
                        "remaining_time": 7.080249904,
                        "test": [
                          124271148.5
                        ]
                      },
                      {
                        "learn": [
                          79700118.06
                        ],
                        "iteration": 199,
                        "passed_time": 1.764657138,
                        "remaining_time": 7.058628553,
                        "test": [
                          124207744.3
                        ]
                      },
                      {
                        "learn": [
                          79672821
                        ],
                        "iteration": 200,
                        "passed_time": 1.769447948,
                        "remaining_time": 7.033775673,
                        "test": [
                          124163001.7
                        ]
                      },
                      {
                        "learn": [
                          79565286.53
                        ],
                        "iteration": 201,
                        "passed_time": 1.784837344,
                        "remaining_time": 7.05099109,
                        "test": [
                          124168890.8
                        ]
                      },
                      {
                        "learn": [
                          79509310.74
                        ],
                        "iteration": 202,
                        "passed_time": 1.794684798,
                        "remaining_time": 7.046127014,
                        "test": [
                          124180478.8
                        ]
                      },
                      {
                        "learn": [
                          79451702.17
                        ],
                        "iteration": 203,
                        "passed_time": 1.799390316,
                        "remaining_time": 7.02115045,
                        "test": [
                          124149417.9
                        ]
                      },
                      {
                        "learn": [
                          79440384.52
                        ],
                        "iteration": 204,
                        "passed_time": 1.804855665,
                        "remaining_time": 6.999318311,
                        "test": [
                          124191426.6
                        ]
                      },
                      {
                        "learn": [
                          79439126.85
                        ],
                        "iteration": 205,
                        "passed_time": 1.810618978,
                        "remaining_time": 6.978793536,
                        "test": [
                          124193161.5
                        ]
                      },
                      {
                        "learn": [
                          79408045.41
                        ],
                        "iteration": 206,
                        "passed_time": 1.814935039,
                        "remaining_time": 6.95286708,
                        "test": [
                          124206999.5
                        ]
                      },
                      {
                        "learn": [
                          79281155.44
                        ],
                        "iteration": 207,
                        "passed_time": 1.82073389,
                        "remaining_time": 6.932794429,
                        "test": [
                          124186353.1
                        ]
                      },
                      {
                        "learn": [
                          79260576.44
                        ],
                        "iteration": 208,
                        "passed_time": 1.82732146,
                        "remaining_time": 6.915843422,
                        "test": [
                          124177667.6
                        ]
                      },
                      {
                        "learn": [
                          79259053.19
                        ],
                        "iteration": 209,
                        "passed_time": 1.832814797,
                        "remaining_time": 6.894874713,
                        "test": [
                          124180474.9
                        ]
                      },
                      {
                        "learn": [
                          79186985.72
                        ],
                        "iteration": 210,
                        "passed_time": 1.838095511,
                        "remaining_time": 6.873257623,
                        "test": [
                          124203143.9
                        ]
                      },
                      {
                        "learn": [
                          79174253.98
                        ],
                        "iteration": 211,
                        "passed_time": 1.844778029,
                        "remaining_time": 6.857005126,
                        "test": [
                          124205759.1
                        ]
                      },
                      {
                        "learn": [
                          79097689.69
                        ],
                        "iteration": 212,
                        "passed_time": 1.850208263,
                        "remaining_time": 6.836215506,
                        "test": [
                          124300986.9
                        ]
                      },
                      {
                        "learn": [
                          79028817.91
                        ],
                        "iteration": 213,
                        "passed_time": 1.855124407,
                        "remaining_time": 6.813681234,
                        "test": [
                          124347863
                        ]
                      },
                      {
                        "learn": [
                          78942618.61
                        ],
                        "iteration": 214,
                        "passed_time": 1.86130624,
                        "remaining_time": 6.795932087,
                        "test": [
                          124251422.5
                        ]
                      },
                      {
                        "learn": [
                          78925961.12
                        ],
                        "iteration": 215,
                        "passed_time": 1.864984011,
                        "remaining_time": 6.769201225,
                        "test": [
                          124245103.7
                        ]
                      },
                      {
                        "learn": [
                          78924503.89
                        ],
                        "iteration": 216,
                        "passed_time": 1.869798498,
                        "remaining_time": 6.746784443,
                        "test": [
                          124248269.2
                        ]
                      },
                      {
                        "learn": [
                          78804704.63
                        ],
                        "iteration": 217,
                        "passed_time": 1.876986437,
                        "remaining_time": 6.73304309,
                        "test": [
                          124252533.2
                        ]
                      },
                      {
                        "learn": [
                          78790221.74
                        ],
                        "iteration": 218,
                        "passed_time": 1.881374237,
                        "remaining_time": 6.709375704,
                        "test": [
                          124249942.8
                        ]
                      },
                      {
                        "learn": [
                          78744905.04
                        ],
                        "iteration": 219,
                        "passed_time": 1.888200085,
                        "remaining_time": 6.694527573,
                        "test": [
                          124294211
                        ]
                      },
                      {
                        "learn": [
                          78717879.4
                        ],
                        "iteration": 220,
                        "passed_time": 1.893771386,
                        "remaining_time": 6.675329909,
                        "test": [
                          124283591.8
                        ]
                      },
                      {
                        "learn": [
                          78639168.95
                        ],
                        "iteration": 221,
                        "passed_time": 1.901563512,
                        "remaining_time": 6.664037893,
                        "test": [
                          124186327.3
                        ]
                      },
                      {
                        "learn": [
                          78567524.74
                        ],
                        "iteration": 222,
                        "passed_time": 1.906192895,
                        "remaining_time": 6.641757307,
                        "test": [
                          124189564.3
                        ]
                      },
                      {
                        "learn": [
                          78511094.18
                        ],
                        "iteration": 223,
                        "passed_time": 1.911996104,
                        "remaining_time": 6.623700788,
                        "test": [
                          124176492.7
                        ]
                      },
                      {
                        "learn": [
                          78481685.17
                        ],
                        "iteration": 224,
                        "passed_time": 1.916289508,
                        "remaining_time": 6.600552749,
                        "test": [
                          124228208.8
                        ]
                      },
                      {
                        "learn": [
                          78460587.47
                        ],
                        "iteration": 225,
                        "passed_time": 1.921685626,
                        "remaining_time": 6.581348117,
                        "test": [
                          124197465.1
                        ]
                      },
                      {
                        "learn": [
                          78414285.04
                        ],
                        "iteration": 226,
                        "passed_time": 1.92865141,
                        "remaining_time": 6.567610307,
                        "test": [
                          124280647.9
                        ]
                      },
                      {
                        "learn": [
                          78412960.99
                        ],
                        "iteration": 227,
                        "passed_time": 1.934464804,
                        "remaining_time": 6.550029949,
                        "test": [
                          124284029
                        ]
                      },
                      {
                        "learn": [
                          78376333.02
                        ],
                        "iteration": 228,
                        "passed_time": 1.940315782,
                        "remaining_time": 6.532678898,
                        "test": [
                          124305823.9
                        ]
                      },
                      {
                        "learn": [
                          78351570.76
                        ],
                        "iteration": 229,
                        "passed_time": 1.962782245,
                        "remaining_time": 6.571053602,
                        "test": [
                          124312755.4
                        ]
                      },
                      {
                        "learn": [
                          78329815.07
                        ],
                        "iteration": 230,
                        "passed_time": 1.966370076,
                        "remaining_time": 6.546054494,
                        "test": [
                          124319904.7
                        ]
                      },
                      {
                        "learn": [
                          78294335.8
                        ],
                        "iteration": 231,
                        "passed_time": 1.974937627,
                        "remaining_time": 6.53772456,
                        "test": [
                          124334627.9
                        ]
                      },
                      {
                        "learn": [
                          78236839.21
                        ],
                        "iteration": 232,
                        "passed_time": 1.981463016,
                        "remaining_time": 6.522670098,
                        "test": [
                          124439446.4
                        ]
                      },
                      {
                        "learn": [
                          78202619.54
                        ],
                        "iteration": 233,
                        "passed_time": 1.98787444,
                        "remaining_time": 6.507315475,
                        "test": [
                          124436315.1
                        ]
                      },
                      {
                        "learn": [
                          78108229.13
                        ],
                        "iteration": 234,
                        "passed_time": 1.993297349,
                        "remaining_time": 6.488819031,
                        "test": [
                          124451669.1
                        ]
                      },
                      {
                        "learn": [
                          78046297.77
                        ],
                        "iteration": 235,
                        "passed_time": 1.998743063,
                        "remaining_time": 6.470507204,
                        "test": [
                          124518720.2
                        ]
                      },
                      {
                        "learn": [
                          78002987.31
                        ],
                        "iteration": 236,
                        "passed_time": 2.005109093,
                        "remaining_time": 6.455266827,
                        "test": [
                          124572338.1
                        ]
                      },
                      {
                        "learn": [
                          77887095.22
                        ],
                        "iteration": 237,
                        "passed_time": 2.010973937,
                        "remaining_time": 6.438496386,
                        "test": [
                          124555382.2
                        ]
                      },
                      {
                        "learn": [
                          77819133.51
                        ],
                        "iteration": 238,
                        "passed_time": 2.017286892,
                        "remaining_time": 6.423244037,
                        "test": [
                          124565830.1
                        ]
                      },
                      {
                        "learn": [
                          77758640.08
                        ],
                        "iteration": 239,
                        "passed_time": 2.022490023,
                        "remaining_time": 6.40455174,
                        "test": [
                          124585262
                        ]
                      },
                      {
                        "learn": [
                          77671857.89
                        ],
                        "iteration": 240,
                        "passed_time": 2.029152253,
                        "remaining_time": 6.390566638,
                        "test": [
                          124577296
                        ]
                      },
                      {
                        "learn": [
                          77662947.03
                        ],
                        "iteration": 241,
                        "passed_time": 2.034930352,
                        "remaining_time": 6.373872756,
                        "test": [
                          124596146.1
                        ]
                      },
                      {
                        "learn": [
                          77662748.22
                        ],
                        "iteration": 242,
                        "passed_time": 2.039589148,
                        "remaining_time": 6.353781832,
                        "test": [
                          124595250.6
                        ]
                      },
                      {
                        "learn": [
                          77661582.71
                        ],
                        "iteration": 243,
                        "passed_time": 2.043735732,
                        "remaining_time": 6.332230382,
                        "test": [
                          124599277.4
                        ]
                      },
                      {
                        "learn": [
                          77562763.19
                        ],
                        "iteration": 244,
                        "passed_time": 2.0501649,
                        "remaining_time": 6.3178551,
                        "test": [
                          124672394.2
                        ]
                      },
                      {
                        "learn": [
                          77561988.49
                        ],
                        "iteration": 245,
                        "passed_time": 2.055555611,
                        "remaining_time": 6.300361508,
                        "test": [
                          124675006.7
                        ]
                      },
                      {
                        "learn": [
                          77476789.32
                        ],
                        "iteration": 246,
                        "passed_time": 2.061075412,
                        "remaining_time": 6.283359455,
                        "test": [
                          124755216.9
                        ]
                      },
                      {
                        "learn": [
                          77383757.33
                        ],
                        "iteration": 247,
                        "passed_time": 2.067669883,
                        "remaining_time": 6.269708677,
                        "test": [
                          124732472
                        ]
                      },
                      {
                        "learn": [
                          77346793.16
                        ],
                        "iteration": 248,
                        "passed_time": 2.074021456,
                        "remaining_time": 6.255381982,
                        "test": [
                          124780664.7
                        ]
                      },
                      {
                        "learn": [
                          77298267.96
                        ],
                        "iteration": 249,
                        "passed_time": 2.079906661,
                        "remaining_time": 6.239719982,
                        "test": [
                          124780380.8
                        ]
                      },
                      {
                        "learn": [
                          77289429.46
                        ],
                        "iteration": 250,
                        "passed_time": 2.084820577,
                        "remaining_time": 6.221237498,
                        "test": [
                          124765856.9
                        ]
                      },
                      {
                        "learn": [
                          77168654.23
                        ],
                        "iteration": 251,
                        "passed_time": 2.08999457,
                        "remaining_time": 6.203634677,
                        "test": [
                          124838380.9
                        ]
                      },
                      {
                        "learn": [
                          77096924.75
                        ],
                        "iteration": 252,
                        "passed_time": 2.096254308,
                        "remaining_time": 6.189335844,
                        "test": [
                          124822677.8
                        ]
                      },
                      {
                        "learn": [
                          77030165.2
                        ],
                        "iteration": 253,
                        "passed_time": 2.101629763,
                        "remaining_time": 6.172503163,
                        "test": [
                          124808289.9
                        ]
                      },
                      {
                        "learn": [
                          76978420.12
                        ],
                        "iteration": 254,
                        "passed_time": 2.109666397,
                        "remaining_time": 6.16353516,
                        "test": [
                          124804881
                        ]
                      },
                      {
                        "learn": [
                          76943579.63
                        ],
                        "iteration": 255,
                        "passed_time": 2.116845973,
                        "remaining_time": 6.15208361,
                        "test": [
                          124776307.4
                        ]
                      },
                      {
                        "learn": [
                          76849356.39
                        ],
                        "iteration": 256,
                        "passed_time": 2.121655128,
                        "remaining_time": 6.133812297,
                        "test": [
                          124875645
                        ]
                      },
                      {
                        "learn": [
                          76816327.31
                        ],
                        "iteration": 257,
                        "passed_time": 2.129375765,
                        "remaining_time": 6.124018673,
                        "test": [
                          124858354.4
                        ]
                      },
                      {
                        "learn": [
                          76740960.53
                        ],
                        "iteration": 258,
                        "passed_time": 2.135071348,
                        "remaining_time": 6.108447369,
                        "test": [
                          124833864.7
                        ]
                      },
                      {
                        "learn": [
                          76739878.39
                        ],
                        "iteration": 259,
                        "passed_time": 2.14107271,
                        "remaining_time": 6.093822328,
                        "test": [
                          124837773
                        ]
                      },
                      {
                        "learn": [
                          76732685.72
                        ],
                        "iteration": 260,
                        "passed_time": 2.145820779,
                        "remaining_time": 6.075714772,
                        "test": [
                          124838871.2
                        ]
                      },
                      {
                        "learn": [
                          76683813.47
                        ],
                        "iteration": 261,
                        "passed_time": 2.151523237,
                        "remaining_time": 6.060397515,
                        "test": [
                          124793552.2
                        ]
                      },
                      {
                        "learn": [
                          76683004.37
                        ],
                        "iteration": 262,
                        "passed_time": 2.156511785,
                        "remaining_time": 6.043152797,
                        "test": [
                          124794659.6
                        ]
                      },
                      {
                        "learn": [
                          76614521.08
                        ],
                        "iteration": 263,
                        "passed_time": 2.161851485,
                        "remaining_time": 6.026979896,
                        "test": [
                          124769644.8
                        ]
                      },
                      {
                        "learn": [
                          76547736.92
                        ],
                        "iteration": 264,
                        "passed_time": 2.169268534,
                        "remaining_time": 6.016650464,
                        "test": [
                          124684353.8
                        ]
                      },
                      {
                        "learn": [
                          76467764.92
                        ],
                        "iteration": 265,
                        "passed_time": 2.176637269,
                        "remaining_time": 6.006209608,
                        "test": [
                          124688047.4
                        ]
                      },
                      {
                        "learn": [
                          76445433.62
                        ],
                        "iteration": 266,
                        "passed_time": 2.180662802,
                        "remaining_time": 5.986613611,
                        "test": [
                          124684992.3
                        ]
                      },
                      {
                        "learn": [
                          76402027.77
                        ],
                        "iteration": 267,
                        "passed_time": 2.185773512,
                        "remaining_time": 5.970097803,
                        "test": [
                          124751857.6
                        ]
                      },
                      {
                        "learn": [
                          76327471.21
                        ],
                        "iteration": 268,
                        "passed_time": 2.191358882,
                        "remaining_time": 5.954956664,
                        "test": [
                          124779489.1
                        ]
                      },
                      {
                        "learn": [
                          76303454.54
                        ],
                        "iteration": 269,
                        "passed_time": 2.197875427,
                        "remaining_time": 5.942403933,
                        "test": [
                          124826651.1
                        ]
                      },
                      {
                        "learn": [
                          76231851.92
                        ],
                        "iteration": 270,
                        "passed_time": 2.201680988,
                        "remaining_time": 5.922603099,
                        "test": [
                          124834915.1
                        ]
                      },
                      {
                        "learn": [
                          76198486.17
                        ],
                        "iteration": 271,
                        "passed_time": 2.208000158,
                        "remaining_time": 5.909647482,
                        "test": [
                          124848514.4
                        ]
                      },
                      {
                        "learn": [
                          76119024.35
                        ],
                        "iteration": 272,
                        "passed_time": 2.212701588,
                        "remaining_time": 5.892432433,
                        "test": [
                          124834201
                        ]
                      },
                      {
                        "learn": [
                          76098695.56
                        ],
                        "iteration": 273,
                        "passed_time": 2.218058724,
                        "remaining_time": 5.877046109,
                        "test": [
                          124825462.9
                        ]
                      },
                      {
                        "learn": [
                          76073284.62
                        ],
                        "iteration": 274,
                        "passed_time": 2.224672775,
                        "remaining_time": 5.865046406,
                        "test": [
                          124825677.9
                        ]
                      },
                      {
                        "learn": [
                          76059195.47
                        ],
                        "iteration": 275,
                        "passed_time": 2.230033282,
                        "remaining_time": 5.849797449,
                        "test": [
                          124831964.8
                        ]
                      },
                      {
                        "learn": [
                          75996115.91
                        ],
                        "iteration": 276,
                        "passed_time": 2.235637597,
                        "remaining_time": 5.835256255,
                        "test": [
                          124731636.8
                        ]
                      },
                      {
                        "learn": [
                          75973002.98
                        ],
                        "iteration": 277,
                        "passed_time": 2.241753323,
                        "remaining_time": 5.822107552,
                        "test": [
                          124769766.5
                        ]
                      },
                      {
                        "learn": [
                          75925129.82
                        ],
                        "iteration": 278,
                        "passed_time": 2.24701183,
                        "remaining_time": 5.806794013,
                        "test": [
                          124704135
                        ]
                      },
                      {
                        "learn": [
                          75866241.35
                        ],
                        "iteration": 279,
                        "passed_time": 2.252620436,
                        "remaining_time": 5.792452551,
                        "test": [
                          124707197.4
                        ]
                      },
                      {
                        "learn": [
                          75836472.93
                        ],
                        "iteration": 280,
                        "passed_time": 2.258633116,
                        "remaining_time": 5.779207155,
                        "test": [
                          124685483.8
                        ]
                      },
                      {
                        "learn": [
                          75820233.01
                        ],
                        "iteration": 281,
                        "passed_time": 2.262303169,
                        "remaining_time": 5.760048493,
                        "test": [
                          124683900.7
                        ]
                      },
                      {
                        "learn": [
                          75799127.73
                        ],
                        "iteration": 282,
                        "passed_time": 2.265835055,
                        "remaining_time": 5.740649238,
                        "test": [
                          124685173.2
                        ]
                      },
                      {
                        "learn": [
                          75717370.27
                        ],
                        "iteration": 283,
                        "passed_time": 2.269615733,
                        "remaining_time": 5.721988961,
                        "test": [
                          124674455
                        ]
                      },
                      {
                        "learn": [
                          75690364.83
                        ],
                        "iteration": 284,
                        "passed_time": 2.275571367,
                        "remaining_time": 5.70888957,
                        "test": [
                          124652690.8
                        ]
                      },
                      {
                        "learn": [
                          75642216.9
                        ],
                        "iteration": 285,
                        "passed_time": 2.278716486,
                        "remaining_time": 5.688823675,
                        "test": [
                          124685331.1
                        ]
                      },
                      {
                        "learn": [
                          75601063.43
                        ],
                        "iteration": 286,
                        "passed_time": 2.285797612,
                        "remaining_time": 5.678653998,
                        "test": [
                          124718063.6
                        ]
                      },
                      {
                        "learn": [
                          75598060.91
                        ],
                        "iteration": 287,
                        "passed_time": 2.291500099,
                        "remaining_time": 5.665097468,
                        "test": [
                          124720959.5
                        ]
                      },
                      {
                        "learn": [
                          75559274.19
                        ],
                        "iteration": 288,
                        "passed_time": 2.296230575,
                        "remaining_time": 5.64920394,
                        "test": [
                          124715096.9
                        ]
                      },
                      {
                        "learn": [
                          75552179.29
                        ],
                        "iteration": 289,
                        "passed_time": 2.300987501,
                        "remaining_time": 5.633452157,
                        "test": [
                          124704779.3
                        ]
                      },
                      {
                        "learn": [
                          75550842.92
                        ],
                        "iteration": 290,
                        "passed_time": 2.305099605,
                        "remaining_time": 5.61620488,
                        "test": [
                          124677114.1
                        ]
                      },
                      {
                        "learn": [
                          75536890.02
                        ],
                        "iteration": 291,
                        "passed_time": 2.308675877,
                        "remaining_time": 5.597748359,
                        "test": [
                          124680218.5
                        ]
                      },
                      {
                        "learn": [
                          75520591.19
                        ],
                        "iteration": 292,
                        "passed_time": 2.313191885,
                        "remaining_time": 5.581660964,
                        "test": [
                          124688335.9
                        ]
                      },
                      {
                        "learn": [
                          75492699.6
                        ],
                        "iteration": 293,
                        "passed_time": 2.31986652,
                        "remaining_time": 5.570835929,
                        "test": [
                          124695684
                        ]
                      },
                      {
                        "learn": [
                          75457769.09
                        ],
                        "iteration": 294,
                        "passed_time": 2.32463185,
                        "remaining_time": 5.555476116,
                        "test": [
                          124673055.5
                        ]
                      },
                      {
                        "learn": [
                          75417643.66
                        ],
                        "iteration": 295,
                        "passed_time": 2.329864282,
                        "remaining_time": 5.541298832,
                        "test": [
                          124653877.1
                        ]
                      },
                      {
                        "learn": [
                          75386688.84
                        ],
                        "iteration": 296,
                        "passed_time": 2.334423118,
                        "remaining_time": 5.525587381,
                        "test": [
                          124653926.7
                        ]
                      },
                      {
                        "learn": [
                          75371886.27
                        ],
                        "iteration": 297,
                        "passed_time": 2.34052281,
                        "remaining_time": 5.513580578,
                        "test": [
                          124642413.3
                        ]
                      },
                      {
                        "learn": [
                          75330987.28
                        ],
                        "iteration": 298,
                        "passed_time": 2.347005381,
                        "remaining_time": 5.502510943,
                        "test": [
                          124652649.5
                        ]
                      },
                      {
                        "learn": [
                          75293768.12
                        ],
                        "iteration": 299,
                        "passed_time": 2.351647236,
                        "remaining_time": 5.487176883,
                        "test": [
                          124655943.8
                        ]
                      },
                      {
                        "learn": [
                          75292621.29
                        ],
                        "iteration": 300,
                        "passed_time": 2.357540367,
                        "remaining_time": 5.474819657,
                        "test": [
                          124657895.5
                        ]
                      },
                      {
                        "learn": [
                          75264461.76
                        ],
                        "iteration": 301,
                        "passed_time": 2.365053223,
                        "remaining_time": 5.466248839,
                        "test": [
                          124721296.4
                        ]
                      },
                      {
                        "learn": [
                          75218859.75
                        ],
                        "iteration": 302,
                        "passed_time": 2.372080185,
                        "remaining_time": 5.45656729,
                        "test": [
                          124717084.7
                        ]
                      },
                      {
                        "learn": [
                          75130307.51
                        ],
                        "iteration": 303,
                        "passed_time": 2.377192878,
                        "remaining_time": 5.442520536,
                        "test": [
                          124603858.4
                        ]
                      },
                      {
                        "learn": [
                          75117063.19
                        ],
                        "iteration": 304,
                        "passed_time": 2.381876415,
                        "remaining_time": 5.427554454,
                        "test": [
                          124610173.3
                        ]
                      },
                      {
                        "learn": [
                          75107277.84
                        ],
                        "iteration": 305,
                        "passed_time": 2.38875851,
                        "remaining_time": 5.41764185,
                        "test": [
                          124649343.8
                        ]
                      },
                      {
                        "learn": [
                          75103418
                        ],
                        "iteration": 306,
                        "passed_time": 2.394616992,
                        "remaining_time": 5.405438356,
                        "test": [
                          124648988.7
                        ]
                      },
                      {
                        "learn": [
                          75059993.7
                        ],
                        "iteration": 307,
                        "passed_time": 2.399686983,
                        "remaining_time": 5.39150452,
                        "test": [
                          124653908.4
                        ]
                      },
                      {
                        "learn": [
                          75028011.14
                        ],
                        "iteration": 308,
                        "passed_time": 2.405069936,
                        "remaining_time": 5.378327915,
                        "test": [
                          124726429.3
                        ]
                      },
                      {
                        "learn": [
                          74985416.49
                        ],
                        "iteration": 309,
                        "passed_time": 2.410379023,
                        "remaining_time": 5.36503718,
                        "test": [
                          124749575.6
                        ]
                      },
                      {
                        "learn": [
                          74980695.52
                        ],
                        "iteration": 310,
                        "passed_time": 2.41525787,
                        "remaining_time": 5.350844605,
                        "test": [
                          124750262.7
                        ]
                      },
                      {
                        "learn": [
                          74940878.3
                        ],
                        "iteration": 311,
                        "passed_time": 2.419596073,
                        "remaining_time": 5.335519544,
                        "test": [
                          124726726.7
                        ]
                      },
                      {
                        "learn": [
                          74888123.93
                        ],
                        "iteration": 312,
                        "passed_time": 2.425804688,
                        "remaining_time": 5.324370033,
                        "test": [
                          124721792.1
                        ]
                      },
                      {
                        "learn": [
                          74869148.62
                        ],
                        "iteration": 313,
                        "passed_time": 2.431068241,
                        "remaining_time": 5.311187304,
                        "test": [
                          124726388.3
                        ]
                      },
                      {
                        "learn": [
                          74783363.35
                        ],
                        "iteration": 314,
                        "passed_time": 2.435991059,
                        "remaining_time": 5.29731389,
                        "test": [
                          124690373.3
                        ]
                      },
                      {
                        "learn": [
                          74727520.45
                        ],
                        "iteration": 315,
                        "passed_time": 2.441781092,
                        "remaining_time": 5.285374263,
                        "test": [
                          124667022.3
                        ]
                      },
                      {
                        "learn": [
                          74685918.38
                        ],
                        "iteration": 316,
                        "passed_time": 2.447251727,
                        "remaining_time": 5.272785266,
                        "test": [
                          124698487.3
                        ]
                      },
                      {
                        "learn": [
                          74672193.6
                        ],
                        "iteration": 317,
                        "passed_time": 2.452377721,
                        "remaining_time": 5.259501904,
                        "test": [
                          124687036.2
                        ]
                      },
                      {
                        "learn": [
                          74623530.67
                        ],
                        "iteration": 318,
                        "passed_time": 2.457219125,
                        "remaining_time": 5.245662145,
                        "test": [
                          124716579.5
                        ]
                      },
                      {
                        "learn": [
                          74612066.11
                        ],
                        "iteration": 319,
                        "passed_time": 2.461566221,
                        "remaining_time": 5.23082822,
                        "test": [
                          124716788.8
                        ]
                      },
                      {
                        "learn": [
                          74606527.81
                        ],
                        "iteration": 320,
                        "passed_time": 2.466283233,
                        "remaining_time": 5.216842102,
                        "test": [
                          124725640.4
                        ]
                      },
                      {
                        "learn": [
                          74605604.3
                        ],
                        "iteration": 321,
                        "passed_time": 2.472065824,
                        "remaining_time": 5.205157231,
                        "test": [
                          124731865
                        ]
                      },
                      {
                        "learn": [
                          74546451.97
                        ],
                        "iteration": 322,
                        "passed_time": 2.479153815,
                        "remaining_time": 5.196244993,
                        "test": [
                          124768185.9
                        ]
                      },
                      {
                        "learn": [
                          74509501.05
                        ],
                        "iteration": 323,
                        "passed_time": 2.488604241,
                        "remaining_time": 5.192273046,
                        "test": [
                          124754325.7
                        ]
                      },
                      {
                        "learn": [
                          74478951.62
                        ],
                        "iteration": 324,
                        "passed_time": 2.494078833,
                        "remaining_time": 5.180009884,
                        "test": [
                          124759374.4
                        ]
                      },
                      {
                        "learn": [
                          74446164.28
                        ],
                        "iteration": 325,
                        "passed_time": 2.500672893,
                        "remaining_time": 5.170102851,
                        "test": [
                          124775401.8
                        ]
                      },
                      {
                        "learn": [
                          74388903.17
                        ],
                        "iteration": 326,
                        "passed_time": 2.505739205,
                        "remaining_time": 5.15707182,
                        "test": [
                          124809782.4
                        ]
                      },
                      {
                        "learn": [
                          74388045.82
                        ],
                        "iteration": 327,
                        "passed_time": 2.510805611,
                        "remaining_time": 5.144089544,
                        "test": [
                          124812686.7
                        ]
                      },
                      {
                        "learn": [
                          74307203.45
                        ],
                        "iteration": 328,
                        "passed_time": 2.516158063,
                        "remaining_time": 5.131738786,
                        "test": [
                          124851010.2
                        ]
                      },
                      {
                        "learn": [
                          74272634.45
                        ],
                        "iteration": 329,
                        "passed_time": 2.522999214,
                        "remaining_time": 5.122452949,
                        "test": [
                          124927795.5
                        ]
                      },
                      {
                        "learn": [
                          74204232.99
                        ],
                        "iteration": 330,
                        "passed_time": 2.528523529,
                        "remaining_time": 5.110520365,
                        "test": [
                          124891057.2
                        ]
                      },
                      {
                        "learn": [
                          74189428.9
                        ],
                        "iteration": 331,
                        "passed_time": 2.534735845,
                        "remaining_time": 5.100010676,
                        "test": [
                          124923453.4
                        ]
                      },
                      {
                        "learn": [
                          74172748.09
                        ],
                        "iteration": 332,
                        "passed_time": 2.540902993,
                        "remaining_time": 5.089436326,
                        "test": [
                          124921632.6
                        ]
                      },
                      {
                        "learn": [
                          74131996.04
                        ],
                        "iteration": 333,
                        "passed_time": 2.547828311,
                        "remaining_time": 5.080400164,
                        "test": [
                          124919781
                        ]
                      },
                      {
                        "learn": [
                          74072510.47
                        ],
                        "iteration": 334,
                        "passed_time": 2.553570125,
                        "remaining_time": 5.069027263,
                        "test": [
                          124946315.4
                        ]
                      },
                      {
                        "learn": [
                          74031169.01
                        ],
                        "iteration": 335,
                        "passed_time": 2.562953496,
                        "remaining_time": 5.06488429,
                        "test": [
                          124971569.8
                        ]
                      },
                      {
                        "learn": [
                          74013990.06
                        ],
                        "iteration": 336,
                        "passed_time": 2.568220859,
                        "remaining_time": 5.052612551,
                        "test": [
                          124944291.2
                        ]
                      },
                      {
                        "learn": [
                          73954684.67
                        ],
                        "iteration": 337,
                        "passed_time": 2.575853035,
                        "remaining_time": 5.045013932,
                        "test": [
                          124934177.1
                        ]
                      },
                      {
                        "learn": [
                          73890796.55
                        ],
                        "iteration": 338,
                        "passed_time": 2.579572512,
                        "remaining_time": 5.02978593,
                        "test": [
                          124907626.9
                        ]
                      },
                      {
                        "learn": [
                          73854893.71
                        ],
                        "iteration": 339,
                        "passed_time": 2.585303632,
                        "remaining_time": 5.018530579,
                        "test": [
                          124905219
                        ]
                      },
                      {
                        "learn": [
                          73731477.73
                        ],
                        "iteration": 340,
                        "passed_time": 2.591132373,
                        "remaining_time": 5.007496288,
                        "test": [
                          124925378.2
                        ]
                      },
                      {
                        "learn": [
                          73729763.68
                        ],
                        "iteration": 341,
                        "passed_time": 2.59651024,
                        "remaining_time": 4.995624965,
                        "test": [
                          124931195.2
                        ]
                      },
                      {
                        "learn": [
                          73700699.68
                        ],
                        "iteration": 342,
                        "passed_time": 2.601346616,
                        "remaining_time": 4.982754306,
                        "test": [
                          124934153.6
                        ]
                      },
                      {
                        "learn": [
                          73683524.22
                        ],
                        "iteration": 343,
                        "passed_time": 2.606259608,
                        "remaining_time": 4.970076461,
                        "test": [
                          124939250.4
                        ]
                      },
                      {
                        "learn": [
                          73667193.97
                        ],
                        "iteration": 344,
                        "passed_time": 2.610732182,
                        "remaining_time": 4.956607476,
                        "test": [
                          124944696.8
                        ]
                      },
                      {
                        "learn": [
                          73658461.36
                        ],
                        "iteration": 345,
                        "passed_time": 2.6141457,
                        "remaining_time": 4.941188692,
                        "test": [
                          124948391.9
                        ]
                      },
                      {
                        "learn": [
                          73652297.31
                        ],
                        "iteration": 346,
                        "passed_time": 2.618415229,
                        "remaining_time": 4.927449984,
                        "test": [
                          124911784.8
                        ]
                      },
                      {
                        "learn": [
                          73605834.81
                        ],
                        "iteration": 347,
                        "passed_time": 2.622000523,
                        "remaining_time": 4.912483738,
                        "test": [
                          124875280.6
                        ]
                      },
                      {
                        "learn": [
                          73544270.32
                        ],
                        "iteration": 348,
                        "passed_time": 2.628529947,
                        "remaining_time": 4.903074486,
                        "test": [
                          124859117.7
                        ]
                      },
                      {
                        "learn": [
                          73501677.54
                        ],
                        "iteration": 349,
                        "passed_time": 2.632027771,
                        "remaining_time": 4.888051574,
                        "test": [
                          124824890
                        ]
                      },
                      {
                        "learn": [
                          73428844.09
                        ],
                        "iteration": 350,
                        "passed_time": 2.638483258,
                        "remaining_time": 4.878563061,
                        "test": [
                          124896533.5
                        ]
                      },
                      {
                        "learn": [
                          73396783.5
                        ],
                        "iteration": 351,
                        "passed_time": 2.642151231,
                        "remaining_time": 4.86396022,
                        "test": [
                          124899208.1
                        ]
                      },
                      {
                        "learn": [
                          73393255.98
                        ],
                        "iteration": 352,
                        "passed_time": 2.6462847,
                        "remaining_time": 4.850272524,
                        "test": [
                          124899995.7
                        ]
                      },
                      {
                        "learn": [
                          73341825.56
                        ],
                        "iteration": 353,
                        "passed_time": 2.652675941,
                        "remaining_time": 4.840758921,
                        "test": [
                          124943386.1
                        ]
                      },
                      {
                        "learn": [
                          73259954.63
                        ],
                        "iteration": 354,
                        "passed_time": 2.659050451,
                        "remaining_time": 4.831232509,
                        "test": [
                          124928212.4
                        ]
                      },
                      {
                        "learn": [
                          73164456.68
                        ],
                        "iteration": 355,
                        "passed_time": 2.666055058,
                        "remaining_time": 4.822863643,
                        "test": [
                          124949367.1
                        ]
                      },
                      {
                        "learn": [
                          73163693.92
                        ],
                        "iteration": 356,
                        "passed_time": 2.670989192,
                        "remaining_time": 4.810773251,
                        "test": [
                          124953120.9
                        ]
                      },
                      {
                        "learn": [
                          73146786.25
                        ],
                        "iteration": 357,
                        "passed_time": 2.675158749,
                        "remaining_time": 4.797351724,
                        "test": [
                          124955287.6
                        ]
                      },
                      {
                        "learn": [
                          73122523.96
                        ],
                        "iteration": 358,
                        "passed_time": 2.682382063,
                        "remaining_time": 4.789434269,
                        "test": [
                          124955682.6
                        ]
                      },
                      {
                        "learn": [
                          73102768.8
                        ],
                        "iteration": 359,
                        "passed_time": 2.687980038,
                        "remaining_time": 4.778631178,
                        "test": [
                          124954182.1
                        ]
                      },
                      {
                        "learn": [
                          73099007.09
                        ],
                        "iteration": 360,
                        "passed_time": 2.693479848,
                        "remaining_time": 4.767683165,
                        "test": [
                          124950732.6
                        ]
                      },
                      {
                        "learn": [
                          73038503.77
                        ],
                        "iteration": 361,
                        "passed_time": 2.69721414,
                        "remaining_time": 4.753653651,
                        "test": [
                          124958525
                        ]
                      },
                      {
                        "learn": [
                          72954493.67
                        ],
                        "iteration": 362,
                        "passed_time": 2.714698616,
                        "remaining_time": 4.763809967,
                        "test": [
                          125010472.5
                        ]
                      },
                      {
                        "learn": [
                          72945929.82
                        ],
                        "iteration": 363,
                        "passed_time": 2.729931332,
                        "remaining_time": 4.769880019,
                        "test": [
                          125010208
                        ]
                      },
                      {
                        "learn": [
                          72904174.09
                        ],
                        "iteration": 364,
                        "passed_time": 2.742781881,
                        "remaining_time": 4.771689026,
                        "test": [
                          124940816.4
                        ]
                      },
                      {
                        "learn": [
                          72901162.63
                        ],
                        "iteration": 365,
                        "passed_time": 2.755259112,
                        "remaining_time": 4.772771248,
                        "test": [
                          124940874.3
                        ]
                      },
                      {
                        "learn": [
                          72868668.77
                        ],
                        "iteration": 366,
                        "passed_time": 2.775482574,
                        "remaining_time": 4.787140244,
                        "test": [
                          124940808.4
                        ]
                      },
                      {
                        "learn": [
                          72863639.39
                        ],
                        "iteration": 367,
                        "passed_time": 2.786821861,
                        "remaining_time": 4.786063631,
                        "test": [
                          124937029.3
                        ]
                      },
                      {
                        "learn": [
                          72846671.69
                        ],
                        "iteration": 368,
                        "passed_time": 2.805228016,
                        "remaining_time": 4.79701593,
                        "test": [
                          124951803
                        ]
                      },
                      {
                        "learn": [
                          72842793.36
                        ],
                        "iteration": 369,
                        "passed_time": 2.819259617,
                        "remaining_time": 4.80036097,
                        "test": [
                          124951611.9
                        ]
                      },
                      {
                        "learn": [
                          72831499.57
                        ],
                        "iteration": 370,
                        "passed_time": 2.836943151,
                        "remaining_time": 4.809803887,
                        "test": [
                          124945387.8
                        ]
                      },
                      {
                        "learn": [
                          72792730.02
                        ],
                        "iteration": 371,
                        "passed_time": 2.84604096,
                        "remaining_time": 4.804606782,
                        "test": [
                          124953679.5
                        ]
                      },
                      {
                        "learn": [
                          72759301
                        ],
                        "iteration": 372,
                        "passed_time": 2.852221108,
                        "remaining_time": 4.794484275,
                        "test": [
                          124937915.9
                        ]
                      },
                      {
                        "learn": [
                          72728228.87
                        ],
                        "iteration": 373,
                        "passed_time": 2.858101318,
                        "remaining_time": 4.783880816,
                        "test": [
                          124950300.1
                        ]
                      },
                      {
                        "learn": [
                          72683837.82
                        ],
                        "iteration": 374,
                        "passed_time": 2.867878137,
                        "remaining_time": 4.779796895,
                        "test": [
                          124944946.7
                        ]
                      },
                      {
                        "learn": [
                          72637972.41
                        ],
                        "iteration": 375,
                        "passed_time": 2.881425303,
                        "remaining_time": 4.781939864,
                        "test": [
                          124948778.1
                        ]
                      },
                      {
                        "learn": [
                          72613002.97
                        ],
                        "iteration": 376,
                        "passed_time": 2.891833303,
                        "remaining_time": 4.778812063,
                        "test": [
                          124951760.4
                        ]
                      },
                      {
                        "learn": [
                          72590813.21
                        ],
                        "iteration": 377,
                        "passed_time": 2.899770424,
                        "remaining_time": 4.771579905,
                        "test": [
                          124921701
                        ]
                      },
                      {
                        "learn": [
                          72527765.62
                        ],
                        "iteration": 378,
                        "passed_time": 2.908414766,
                        "remaining_time": 4.765502823,
                        "test": [
                          124930032.8
                        ]
                      },
                      {
                        "learn": [
                          72453626.19
                        ],
                        "iteration": 379,
                        "passed_time": 2.916072277,
                        "remaining_time": 4.757802136,
                        "test": [
                          124891162.2
                        ]
                      },
                      {
                        "learn": [
                          72429462.02
                        ],
                        "iteration": 380,
                        "passed_time": 2.926237292,
                        "remaining_time": 4.754175549,
                        "test": [
                          124949068.6
                        ]
                      },
                      {
                        "learn": [
                          72361165.79
                        ],
                        "iteration": 381,
                        "passed_time": 2.961098148,
                        "remaining_time": 4.790467685,
                        "test": [
                          124989668.3
                        ]
                      },
                      {
                        "learn": [
                          72332690.53
                        ],
                        "iteration": 382,
                        "passed_time": 2.967947066,
                        "remaining_time": 4.781261984,
                        "test": [
                          125018542.1
                        ]
                      },
                      {
                        "learn": [
                          72271242.83
                        ],
                        "iteration": 383,
                        "passed_time": 2.998451282,
                        "remaining_time": 4.810015599,
                        "test": [
                          125051067.1
                        ]
                      },
                      {
                        "learn": [
                          72234466.82
                        ],
                        "iteration": 384,
                        "passed_time": 3.018932884,
                        "remaining_time": 4.82245123,
                        "test": [
                          125008074.6
                        ]
                      },
                      {
                        "learn": [
                          72209751.88
                        ],
                        "iteration": 385,
                        "passed_time": 3.025853209,
                        "remaining_time": 4.813144742,
                        "test": [
                          125037196.2
                        ]
                      },
                      {
                        "learn": [
                          72199542.83
                        ],
                        "iteration": 386,
                        "passed_time": 3.032076372,
                        "remaining_time": 4.802746295,
                        "test": [
                          125035229.9
                        ]
                      },
                      {
                        "learn": [
                          72174867.78
                        ],
                        "iteration": 387,
                        "passed_time": 3.044062747,
                        "remaining_time": 4.801459797,
                        "test": [
                          125097294.6
                        ]
                      },
                      {
                        "learn": [
                          72023865.71
                        ],
                        "iteration": 388,
                        "passed_time": 3.062835492,
                        "remaining_time": 4.810777598,
                        "test": [
                          125132792.1
                        ]
                      },
                      {
                        "learn": [
                          72008527.75
                        ],
                        "iteration": 389,
                        "passed_time": 3.076168369,
                        "remaining_time": 4.811442833,
                        "test": [
                          125154348.1
                        ]
                      },
                      {
                        "learn": [
                          72005656.71
                        ],
                        "iteration": 390,
                        "passed_time": 3.085521668,
                        "remaining_time": 4.805838097,
                        "test": [
                          125157649.5
                        ]
                      },
                      {
                        "learn": [
                          71981349.83
                        ],
                        "iteration": 391,
                        "passed_time": 3.104208423,
                        "remaining_time": 4.814690616,
                        "test": [
                          125159618.1
                        ]
                      },
                      {
                        "learn": [
                          71981055
                        ],
                        "iteration": 392,
                        "passed_time": 3.120937412,
                        "remaining_time": 4.820379158,
                        "test": [
                          125160960.4
                        ]
                      },
                      {
                        "learn": [
                          71940207.94
                        ],
                        "iteration": 393,
                        "passed_time": 3.136073358,
                        "remaining_time": 4.823503692,
                        "test": [
                          125163654.9
                        ]
                      },
                      {
                        "learn": [
                          71919702.32
                        ],
                        "iteration": 394,
                        "passed_time": 3.148904054,
                        "remaining_time": 4.823004943,
                        "test": [
                          125128964.1
                        ]
                      },
                      {
                        "learn": [
                          71871094.89
                        ],
                        "iteration": 395,
                        "passed_time": 3.166434747,
                        "remaining_time": 4.829612594,
                        "test": [
                          125160319.7
                        ]
                      },
                      {
                        "learn": [
                          71817089.39
                        ],
                        "iteration": 396,
                        "passed_time": 3.183931644,
                        "remaining_time": 4.836047308,
                        "test": [
                          125162097
                        ]
                      },
                      {
                        "learn": [
                          71816571.19
                        ],
                        "iteration": 397,
                        "passed_time": 3.197298428,
                        "remaining_time": 4.836114707,
                        "test": [
                          125167497.3
                        ]
                      },
                      {
                        "learn": [
                          71769986.88
                        ],
                        "iteration": 398,
                        "passed_time": 3.209620114,
                        "remaining_time": 4.834540572,
                        "test": [
                          125186165.2
                        ]
                      },
                      {
                        "learn": [
                          71769859.48
                        ],
                        "iteration": 399,
                        "passed_time": 3.218716802,
                        "remaining_time": 4.828075203,
                        "test": [
                          125187543.3
                        ]
                      },
                      {
                        "learn": [
                          71729318.38
                        ],
                        "iteration": 400,
                        "passed_time": 3.23386378,
                        "remaining_time": 4.830634424,
                        "test": [
                          125193346.3
                        ]
                      },
                      {
                        "learn": [
                          71665663.65
                        ],
                        "iteration": 401,
                        "passed_time": 3.247595805,
                        "remaining_time": 4.831000724,
                        "test": [
                          125261699.1
                        ]
                      },
                      {
                        "learn": [
                          71665611.14
                        ],
                        "iteration": 402,
                        "passed_time": 3.264380705,
                        "remaining_time": 4.835819556,
                        "test": [
                          125264961.1
                        ]
                      },
                      {
                        "learn": [
                          71624483.08
                        ],
                        "iteration": 403,
                        "passed_time": 3.274951114,
                        "remaining_time": 4.831363524,
                        "test": [
                          125293524.9
                        ]
                      },
                      {
                        "learn": [
                          71543183.79
                        ],
                        "iteration": 404,
                        "passed_time": 3.291344075,
                        "remaining_time": 4.835431419,
                        "test": [
                          125314737.2
                        ]
                      },
                      {
                        "learn": [
                          71538830.92
                        ],
                        "iteration": 405,
                        "passed_time": 3.307341733,
                        "remaining_time": 4.838820171,
                        "test": [
                          125312063.9
                        ]
                      },
                      {
                        "learn": [
                          71530627.37
                        ],
                        "iteration": 406,
                        "passed_time": 3.318124228,
                        "remaining_time": 4.834515152,
                        "test": [
                          125304789.1
                        ]
                      },
                      {
                        "learn": [
                          71487024.32
                        ],
                        "iteration": 407,
                        "passed_time": 3.334226685,
                        "remaining_time": 4.837897542,
                        "test": [
                          125313131.6
                        ]
                      },
                      {
                        "learn": [
                          71454523.4
                        ],
                        "iteration": 408,
                        "passed_time": 3.350679831,
                        "remaining_time": 4.841691394,
                        "test": [
                          125333382.8
                        ]
                      },
                      {
                        "learn": [
                          71425872.58
                        ],
                        "iteration": 409,
                        "passed_time": 3.363894228,
                        "remaining_time": 4.840725841,
                        "test": [
                          125235029.8
                        ]
                      },
                      {
                        "learn": [
                          71401951.06
                        ],
                        "iteration": 410,
                        "passed_time": 3.381305835,
                        "remaining_time": 4.845715661,
                        "test": [
                          125239747.4
                        ]
                      },
                      {
                        "learn": [
                          71359296.38
                        ],
                        "iteration": 411,
                        "passed_time": 3.3973433,
                        "remaining_time": 4.848635583,
                        "test": [
                          125265490.9
                        ]
                      },
                      {
                        "learn": [
                          71312190.69
                        ],
                        "iteration": 412,
                        "passed_time": 3.416991316,
                        "remaining_time": 4.856595405,
                        "test": [
                          125265549.5
                        ]
                      },
                      {
                        "learn": [
                          71311689.51
                        ],
                        "iteration": 413,
                        "passed_time": 3.438688187,
                        "remaining_time": 4.867321927,
                        "test": [
                          125265193.1
                        ]
                      },
                      {
                        "learn": [
                          71248349.42
                        ],
                        "iteration": 414,
                        "passed_time": 3.454286562,
                        "remaining_time": 4.869295515,
                        "test": [
                          125260321.9
                        ]
                      },
                      {
                        "learn": [
                          71224225.33
                        ],
                        "iteration": 415,
                        "passed_time": 3.480206469,
                        "remaining_time": 4.885674467,
                        "test": [
                          125307476.5
                        ]
                      },
                      {
                        "learn": [
                          71159720.07
                        ],
                        "iteration": 416,
                        "passed_time": 3.494934105,
                        "remaining_time": 4.886202837,
                        "test": [
                          125313172.7
                        ]
                      },
                      {
                        "learn": [
                          71123087.29
                        ],
                        "iteration": 417,
                        "passed_time": 3.514299424,
                        "remaining_time": 4.893115466,
                        "test": [
                          125348274.3
                        ]
                      },
                      {
                        "learn": [
                          71106103.86
                        ],
                        "iteration": 418,
                        "passed_time": 3.527495666,
                        "remaining_time": 4.891348405,
                        "test": [
                          125314993.6
                        ]
                      },
                      {
                        "learn": [
                          71076267.94
                        ],
                        "iteration": 419,
                        "passed_time": 3.547178341,
                        "remaining_time": 4.898484376,
                        "test": [
                          125353024.9
                        ]
                      },
                      {
                        "learn": [
                          71055242.02
                        ],
                        "iteration": 420,
                        "passed_time": 3.564900687,
                        "remaining_time": 4.902796907,
                        "test": [
                          125353472
                        ]
                      },
                      {
                        "learn": [
                          71034057.75
                        ],
                        "iteration": 421,
                        "passed_time": 3.582443294,
                        "remaining_time": 4.906758825,
                        "test": [
                          125341693.4
                        ]
                      },
                      {
                        "learn": [
                          71003613.71
                        ],
                        "iteration": 422,
                        "passed_time": 3.59259045,
                        "remaining_time": 4.900531181,
                        "test": [
                          125351285.1
                        ]
                      },
                      {
                        "learn": [
                          71002979.51
                        ],
                        "iteration": 423,
                        "passed_time": 3.608489163,
                        "remaining_time": 4.902098485,
                        "test": [
                          125354437.5
                        ]
                      },
                      {
                        "learn": [
                          70998838.92
                        ],
                        "iteration": 424,
                        "passed_time": 3.626620584,
                        "remaining_time": 4.90660432,
                        "test": [
                          125355166.6
                        ]
                      },
                      {
                        "learn": [
                          70946633.75
                        ],
                        "iteration": 425,
                        "passed_time": 3.637101686,
                        "remaining_time": 4.900695699,
                        "test": [
                          125352324.3
                        ]
                      },
                      {
                        "learn": [
                          70946425.47
                        ],
                        "iteration": 426,
                        "passed_time": 3.650156152,
                        "remaining_time": 4.898218912,
                        "test": [
                          125357273.5
                        ]
                      },
                      {
                        "learn": [
                          70912391.48
                        ],
                        "iteration": 427,
                        "passed_time": 3.669537178,
                        "remaining_time": 4.904147818,
                        "test": [
                          125413959.8
                        ]
                      },
                      {
                        "learn": [
                          70863638.34
                        ],
                        "iteration": 428,
                        "passed_time": 3.68967131,
                        "remaining_time": 4.910961114,
                        "test": [
                          125452336.7
                        ]
                      },
                      {
                        "learn": [
                          70863173.97
                        ],
                        "iteration": 429,
                        "passed_time": 3.699501302,
                        "remaining_time": 4.903990097,
                        "test": [
                          125455731.1
                        ]
                      },
                      {
                        "learn": [
                          70765650.52
                        ],
                        "iteration": 430,
                        "passed_time": 3.717190709,
                        "remaining_time": 4.907381701,
                        "test": [
                          125495171
                        ]
                      },
                      {
                        "learn": [
                          70757925.06
                        ],
                        "iteration": 431,
                        "passed_time": 3.730464287,
                        "remaining_time": 4.904869711,
                        "test": [
                          125500736.7
                        ]
                      },
                      {
                        "learn": [
                          70732623.1
                        ],
                        "iteration": 432,
                        "passed_time": 3.745936991,
                        "remaining_time": 4.905187699,
                        "test": [
                          125501169.2
                        ]
                      },
                      {
                        "learn": [
                          70709033.67
                        ],
                        "iteration": 433,
                        "passed_time": 3.756092077,
                        "remaining_time": 4.898497962,
                        "test": [
                          125501689.7
                        ]
                      },
                      {
                        "learn": [
                          70694199.44
                        ],
                        "iteration": 434,
                        "passed_time": 3.774676861,
                        "remaining_time": 4.90274121,
                        "test": [
                          125523906.8
                        ]
                      },
                      {
                        "learn": [
                          70680083.41
                        ],
                        "iteration": 435,
                        "passed_time": 3.791886045,
                        "remaining_time": 4.905100296,
                        "test": [
                          125521148.9
                        ]
                      },
                      {
                        "learn": [
                          70656617.44
                        ],
                        "iteration": 436,
                        "passed_time": 3.811628927,
                        "remaining_time": 4.910634063,
                        "test": [
                          125428369.3
                        ]
                      },
                      {
                        "learn": [
                          70634665.2
                        ],
                        "iteration": 437,
                        "passed_time": 3.821809035,
                        "remaining_time": 4.903782369,
                        "test": [
                          125428764.2
                        ]
                      },
                      {
                        "learn": [
                          70630233.21
                        ],
                        "iteration": 438,
                        "passed_time": 3.833473061,
                        "remaining_time": 4.898811816,
                        "test": [
                          125418135
                        ]
                      },
                      {
                        "learn": [
                          70579494.07
                        ],
                        "iteration": 439,
                        "passed_time": 3.852910465,
                        "remaining_time": 4.903704228,
                        "test": [
                          125446284.7
                        ]
                      },
                      {
                        "learn": [
                          70503765.73
                        ],
                        "iteration": 440,
                        "passed_time": 3.869194828,
                        "remaining_time": 4.904489589,
                        "test": [
                          125393202.3
                        ]
                      },
                      {
                        "learn": [
                          70455485.75
                        ],
                        "iteration": 441,
                        "passed_time": 3.887953157,
                        "remaining_time": 4.908320954,
                        "test": [
                          125414699.5
                        ]
                      },
                      {
                        "learn": [
                          70450399.95
                        ],
                        "iteration": 442,
                        "passed_time": 3.902044791,
                        "remaining_time": 4.906182728,
                        "test": [
                          125411338.8
                        ]
                      },
                      {
                        "learn": [
                          70432041.44
                        ],
                        "iteration": 443,
                        "passed_time": 3.913117898,
                        "remaining_time": 4.900210701,
                        "test": [
                          125435161.1
                        ]
                      },
                      {
                        "learn": [
                          70423995.44
                        ],
                        "iteration": 444,
                        "passed_time": 3.923432937,
                        "remaining_time": 4.893270292,
                        "test": [
                          125431653.4
                        ]
                      },
                      {
                        "learn": [
                          70403457.01
                        ],
                        "iteration": 445,
                        "passed_time": 3.933975791,
                        "remaining_time": 4.886597731,
                        "test": [
                          125432859.2
                        ]
                      },
                      {
                        "learn": [
                          70396147.22
                        ],
                        "iteration": 446,
                        "passed_time": 3.945402266,
                        "remaining_time": 4.881001014,
                        "test": [
                          125430792.4
                        ]
                      },
                      {
                        "learn": [
                          70380010.35
                        ],
                        "iteration": 447,
                        "passed_time": 3.978791783,
                        "remaining_time": 4.902439875,
                        "test": [
                          125452449.1
                        ]
                      },
                      {
                        "learn": [
                          70338183.73
                        ],
                        "iteration": 448,
                        "passed_time": 3.998771063,
                        "remaining_time": 4.907177853,
                        "test": [
                          125472466.6
                        ]
                      },
                      {
                        "learn": [
                          70318888.47
                        ],
                        "iteration": 449,
                        "passed_time": 4.007201155,
                        "remaining_time": 4.8976903,
                        "test": [
                          125473527.6
                        ]
                      },
                      {
                        "learn": [
                          70300793.7
                        ],
                        "iteration": 450,
                        "passed_time": 4.021633471,
                        "remaining_time": 4.895513915,
                        "test": [
                          125474555.7
                        ]
                      },
                      {
                        "learn": [
                          70289383.39
                        ],
                        "iteration": 451,
                        "passed_time": 4.033687943,
                        "remaining_time": 4.890400426,
                        "test": [
                          125478168.8
                        ]
                      },
                      {
                        "learn": [
                          70272390.19
                        ],
                        "iteration": 452,
                        "passed_time": 4.044034398,
                        "remaining_time": 4.883193854,
                        "test": [
                          125479247.9
                        ]
                      },
                      {
                        "learn": [
                          70239699.97
                        ],
                        "iteration": 453,
                        "passed_time": 4.048625825,
                        "remaining_time": 4.869052203,
                        "test": [
                          125482756.2
                        ]
                      },
                      {
                        "learn": [
                          70203118.55
                        ],
                        "iteration": 454,
                        "passed_time": 4.059366432,
                        "remaining_time": 4.862318034,
                        "test": [
                          125461639.3
                        ]
                      },
                      {
                        "learn": [
                          70184785.81
                        ],
                        "iteration": 455,
                        "passed_time": 4.076332255,
                        "remaining_time": 4.862992865,
                        "test": [
                          125465890.9
                        ]
                      },
                      {
                        "learn": [
                          70155373.2
                        ],
                        "iteration": 456,
                        "passed_time": 4.086208949,
                        "remaining_time": 4.855167307,
                        "test": [
                          125469458.8
                        ]
                      },
                      {
                        "learn": [
                          70013508.7
                        ],
                        "iteration": 457,
                        "passed_time": 4.106053089,
                        "remaining_time": 4.859128327,
                        "test": [
                          125491818.8
                        ]
                      },
                      {
                        "learn": [
                          69994319
                        ],
                        "iteration": 458,
                        "passed_time": 4.123132778,
                        "remaining_time": 4.859727305,
                        "test": [
                          125470686.5
                        ]
                      },
                      {
                        "learn": [
                          69954695.69
                        ],
                        "iteration": 459,
                        "passed_time": 4.136572351,
                        "remaining_time": 4.855976238,
                        "test": [
                          125479624
                        ]
                      },
                      {
                        "learn": [
                          69924570.8
                        ],
                        "iteration": 460,
                        "passed_time": 4.153481555,
                        "remaining_time": 4.856239823,
                        "test": [
                          125466150.2
                        ]
                      },
                      {
                        "learn": [
                          69913369.19
                        ],
                        "iteration": 461,
                        "passed_time": 4.162572465,
                        "remaining_time": 4.847324645,
                        "test": [
                          125461046.1
                        ]
                      },
                      {
                        "learn": [
                          69902700.51
                        ],
                        "iteration": 462,
                        "passed_time": 4.174323013,
                        "remaining_time": 4.84149343,
                        "test": [
                          125430230.8
                        ]
                      },
                      {
                        "learn": [
                          69792110.37
                        ],
                        "iteration": 463,
                        "passed_time": 4.187335899,
                        "remaining_time": 4.837094917,
                        "test": [
                          125442185.1
                        ]
                      },
                      {
                        "learn": [
                          69720877.08
                        ],
                        "iteration": 464,
                        "passed_time": 4.196603192,
                        "remaining_time": 4.82834991,
                        "test": [
                          125436218
                        ]
                      },
                      {
                        "learn": [
                          69704728.64
                        ],
                        "iteration": 465,
                        "passed_time": 4.210005101,
                        "remaining_time": 4.824340609,
                        "test": [
                          125355952.9
                        ]
                      },
                      {
                        "learn": [
                          69703149.15
                        ],
                        "iteration": 466,
                        "passed_time": 4.226433567,
                        "remaining_time": 4.823745377,
                        "test": [
                          125369473.9
                        ]
                      },
                      {
                        "learn": [
                          69657400.21
                        ],
                        "iteration": 467,
                        "passed_time": 4.239791795,
                        "remaining_time": 4.819592382,
                        "test": [
                          125401488.5
                        ]
                      },
                      {
                        "learn": [
                          69638913.35
                        ],
                        "iteration": 468,
                        "passed_time": 4.256212686,
                        "remaining_time": 4.818867668,
                        "test": [
                          125403950.6
                        ]
                      },
                      {
                        "learn": [
                          69621746.61
                        ],
                        "iteration": 469,
                        "passed_time": 4.272593997,
                        "remaining_time": 4.818031529,
                        "test": [
                          125402257.1
                        ]
                      },
                      {
                        "learn": [
                          69589385.3
                        ],
                        "iteration": 470,
                        "passed_time": 4.285868367,
                        "remaining_time": 4.813639843,
                        "test": [
                          125458169.4
                        ]
                      },
                      {
                        "learn": [
                          69550795.02
                        ],
                        "iteration": 471,
                        "passed_time": 4.301194347,
                        "remaining_time": 4.811505541,
                        "test": [
                          125448018
                        ]
                      },
                      {
                        "learn": [
                          69513725.07
                        ],
                        "iteration": 472,
                        "passed_time": 4.31515121,
                        "remaining_time": 4.807790038,
                        "test": [
                          125451485.4
                        ]
                      },
                      {
                        "learn": [
                          69443794.86
                        ],
                        "iteration": 473,
                        "passed_time": 4.328293041,
                        "remaining_time": 4.803126877,
                        "test": [
                          125466246
                        ]
                      },
                      {
                        "learn": [
                          69391996.94
                        ],
                        "iteration": 474,
                        "passed_time": 4.34302751,
                        "remaining_time": 4.8001883,
                        "test": [
                          125473900.1
                        ]
                      },
                      {
                        "learn": [
                          69372992.21
                        ],
                        "iteration": 475,
                        "passed_time": 4.35636047,
                        "remaining_time": 4.795657324,
                        "test": [
                          125396165
                        ]
                      },
                      {
                        "learn": [
                          69358272.08
                        ],
                        "iteration": 476,
                        "passed_time": 4.369206953,
                        "remaining_time": 4.790556051,
                        "test": [
                          125337171.2
                        ]
                      },
                      {
                        "learn": [
                          69318898.43
                        ],
                        "iteration": 477,
                        "passed_time": 4.384000503,
                        "remaining_time": 4.787548667,
                        "test": [
                          125350625.6
                        ]
                      },
                      {
                        "learn": [
                          69283847.98
                        ],
                        "iteration": 478,
                        "passed_time": 4.399467164,
                        "remaining_time": 4.785224202,
                        "test": [
                          125331169.3
                        ]
                      },
                      {
                        "learn": [
                          69266508.61
                        ],
                        "iteration": 479,
                        "passed_time": 4.421210618,
                        "remaining_time": 4.789644837,
                        "test": [
                          125261132.3
                        ]
                      },
                      {
                        "learn": [
                          69186761.62
                        ],
                        "iteration": 480,
                        "passed_time": 4.428442841,
                        "remaining_time": 4.778299032,
                        "test": [
                          125203101.3
                        ]
                      },
                      {
                        "learn": [
                          69174535.63
                        ],
                        "iteration": 481,
                        "passed_time": 4.439269687,
                        "remaining_time": 4.770833399,
                        "test": [
                          125208110.3
                        ]
                      },
                      {
                        "learn": [
                          69169450.9
                        ],
                        "iteration": 482,
                        "passed_time": 4.449149219,
                        "remaining_time": 4.762339847,
                        "test": [
                          125208917.9
                        ]
                      },
                      {
                        "learn": [
                          69136986.22
                        ],
                        "iteration": 483,
                        "passed_time": 4.469670072,
                        "remaining_time": 4.765185448,
                        "test": [
                          125200724.3
                        ]
                      },
                      {
                        "learn": [
                          69129957.73
                        ],
                        "iteration": 484,
                        "passed_time": 4.486000419,
                        "remaining_time": 4.763484981,
                        "test": [
                          125222064
                        ]
                      },
                      {
                        "learn": [
                          69072723.57
                        ],
                        "iteration": 485,
                        "passed_time": 4.50361424,
                        "remaining_time": 4.763081727,
                        "test": [
                          125270889.3
                        ]
                      },
                      {
                        "learn": [
                          69051743.03
                        ],
                        "iteration": 486,
                        "passed_time": 4.517952054,
                        "remaining_time": 4.759156886,
                        "test": [
                          125285978.8
                        ]
                      },
                      {
                        "learn": [
                          69003116.31
                        ],
                        "iteration": 487,
                        "passed_time": 4.535519165,
                        "remaining_time": 4.758577485,
                        "test": [
                          125283170.8
                        ]
                      },
                      {
                        "learn": [
                          68975208.85
                        ],
                        "iteration": 488,
                        "passed_time": 4.546357594,
                        "remaining_time": 4.750897199,
                        "test": [
                          125271721.1
                        ]
                      },
                      {
                        "learn": [
                          68942694.45
                        ],
                        "iteration": 489,
                        "passed_time": 4.551676683,
                        "remaining_time": 4.737459405,
                        "test": [
                          125270945.8
                        ]
                      },
                      {
                        "learn": [
                          68941413.67
                        ],
                        "iteration": 490,
                        "passed_time": 4.562180486,
                        "remaining_time": 4.729429465,
                        "test": [
                          125273463.8
                        ]
                      },
                      {
                        "learn": [
                          68886863.17
                        ],
                        "iteration": 491,
                        "passed_time": 4.573313954,
                        "remaining_time": 4.722039611,
                        "test": [
                          125284578.5
                        ]
                      },
                      {
                        "learn": [
                          68831429.1
                        ],
                        "iteration": 492,
                        "passed_time": 4.58605476,
                        "remaining_time": 4.716287552,
                        "test": [
                          125331714.5
                        ]
                      },
                      {
                        "learn": [
                          68800738.86
                        ],
                        "iteration": 493,
                        "passed_time": 4.602586947,
                        "remaining_time": 4.714390678,
                        "test": [
                          125299640.5
                        ]
                      },
                      {
                        "learn": [
                          68799841.11
                        ],
                        "iteration": 494,
                        "passed_time": 4.612222681,
                        "remaining_time": 4.705398896,
                        "test": [
                          125302672.6
                        ]
                      },
                      {
                        "learn": [
                          68792049.44
                        ],
                        "iteration": 495,
                        "passed_time": 4.628289049,
                        "remaining_time": 4.702938873,
                        "test": [
                          125290652.4
                        ]
                      },
                      {
                        "learn": [
                          68773793.49
                        ],
                        "iteration": 496,
                        "passed_time": 4.645762945,
                        "remaining_time": 4.701848614,
                        "test": [
                          125288518.4
                        ]
                      },
                      {
                        "learn": [
                          68734080.22
                        ],
                        "iteration": 497,
                        "passed_time": 4.668483144,
                        "remaining_time": 4.705981001,
                        "test": [
                          125329886.2
                        ]
                      },
                      {
                        "learn": [
                          68727994.98
                        ],
                        "iteration": 498,
                        "passed_time": 4.680674174,
                        "remaining_time": 4.699434391,
                        "test": [
                          125320952.6
                        ]
                      },
                      {
                        "learn": [
                          68709380.56
                        ],
                        "iteration": 499,
                        "passed_time": 4.692829341,
                        "remaining_time": 4.692829341,
                        "test": [
                          125342708.3
                        ]
                      },
                      {
                        "learn": [
                          68706332.56
                        ],
                        "iteration": 500,
                        "passed_time": 4.702865396,
                        "remaining_time": 4.684091482,
                        "test": [
                          125345957.7
                        ]
                      },
                      {
                        "learn": [
                          68696456.76
                        ],
                        "iteration": 501,
                        "passed_time": 4.7116394,
                        "remaining_time": 4.674096457,
                        "test": [
                          125346059.1
                        ]
                      },
                      {
                        "learn": [
                          68642507.77
                        ],
                        "iteration": 502,
                        "passed_time": 4.721545023,
                        "remaining_time": 4.665224406,
                        "test": [
                          125322384.9
                        ]
                      },
                      {
                        "learn": [
                          68612301.92
                        ],
                        "iteration": 503,
                        "passed_time": 4.736505365,
                        "remaining_time": 4.66132274,
                        "test": [
                          125365042.5
                        ]
                      },
                      {
                        "learn": [
                          68577640.21
                        ],
                        "iteration": 504,
                        "passed_time": 4.757750581,
                        "remaining_time": 4.663537698,
                        "test": [
                          125397788.3
                        ]
                      },
                      {
                        "learn": [
                          68555673.64
                        ],
                        "iteration": 505,
                        "passed_time": 4.77540321,
                        "remaining_time": 4.662152541,
                        "test": [
                          125373842.3
                        ]
                      },
                      {
                        "learn": [
                          68538071.86
                        ],
                        "iteration": 506,
                        "passed_time": 4.784610264,
                        "remaining_time": 4.652490848,
                        "test": [
                          125450880.3
                        ]
                      },
                      {
                        "learn": [
                          68491176.89
                        ],
                        "iteration": 507,
                        "passed_time": 4.798905466,
                        "remaining_time": 4.647758838,
                        "test": [
                          125474324.8
                        ]
                      },
                      {
                        "learn": [
                          68485320.86
                        ],
                        "iteration": 508,
                        "passed_time": 4.809310158,
                        "remaining_time": 4.639236322,
                        "test": [
                          125491014
                        ]
                      },
                      {
                        "learn": [
                          68452021.44
                        ],
                        "iteration": 509,
                        "passed_time": 4.819951177,
                        "remaining_time": 4.630933484,
                        "test": [
                          125438034.2
                        ]
                      },
                      {
                        "learn": [
                          68434038.02
                        ],
                        "iteration": 510,
                        "passed_time": 4.828619382,
                        "remaining_time": 4.620733616,
                        "test": [
                          125431298
                        ]
                      },
                      {
                        "learn": [
                          68392682.73
                        ],
                        "iteration": 511,
                        "passed_time": 4.848211878,
                        "remaining_time": 4.620951946,
                        "test": [
                          125473476.5
                        ]
                      },
                      {
                        "learn": [
                          68342241.71
                        ],
                        "iteration": 512,
                        "passed_time": 4.865185902,
                        "remaining_time": 4.61860728,
                        "test": [
                          125517232.2
                        ]
                      },
                      {
                        "learn": [
                          68326382.38
                        ],
                        "iteration": 513,
                        "passed_time": 4.873949634,
                        "remaining_time": 4.60844265,
                        "test": [
                          125515894.2
                        ]
                      },
                      {
                        "learn": [
                          68309668.28
                        ],
                        "iteration": 514,
                        "passed_time": 4.89016904,
                        "remaining_time": 4.605304824,
                        "test": [
                          125440943.1
                        ]
                      },
                      {
                        "learn": [
                          68255528.06
                        ],
                        "iteration": 515,
                        "passed_time": 4.9148778,
                        "remaining_time": 4.610079177,
                        "test": [
                          125420920.2
                        ]
                      },
                      {
                        "learn": [
                          68165364.11
                        ],
                        "iteration": 516,
                        "passed_time": 4.937131416,
                        "remaining_time": 4.612445791,
                        "test": [
                          125428833.1
                        ]
                      },
                      {
                        "learn": [
                          68161007.26
                        ],
                        "iteration": 517,
                        "passed_time": 4.955066405,
                        "remaining_time": 4.610698856,
                        "test": [
                          125428425.4
                        ]
                      },
                      {
                        "learn": [
                          68147119.91
                        ],
                        "iteration": 518,
                        "passed_time": 4.969347676,
                        "remaining_time": 4.605503337,
                        "test": [
                          125431319.1
                        ]
                      },
                      {
                        "learn": [
                          68097807.62
                        ],
                        "iteration": 519,
                        "passed_time": 4.984341778,
                        "remaining_time": 4.600930872,
                        "test": [
                          125495391.1
                        ]
                      },
                      {
                        "learn": [
                          68057178.84
                        ],
                        "iteration": 520,
                        "passed_time": 4.995298623,
                        "remaining_time": 4.592606604,
                        "test": [
                          125477295
                        ]
                      },
                      {
                        "learn": [
                          68016756.35
                        ],
                        "iteration": 521,
                        "passed_time": 5.038396945,
                        "remaining_time": 4.613704482,
                        "test": [
                          125490695.5
                        ]
                      },
                      {
                        "learn": [
                          67954037.15
                        ],
                        "iteration": 522,
                        "passed_time": 5.066873401,
                        "remaining_time": 4.621221056,
                        "test": [
                          125532285.3
                        ]
                      },
                      {
                        "learn": [
                          67949572.57
                        ],
                        "iteration": 523,
                        "passed_time": 5.081207762,
                        "remaining_time": 4.615753616,
                        "test": [
                          125526423.4
                        ]
                      },
                      {
                        "learn": [
                          67919516.51
                        ],
                        "iteration": 524,
                        "passed_time": 5.088822615,
                        "remaining_time": 4.604172842,
                        "test": [
                          125532323.2
                        ]
                      },
                      {
                        "learn": [
                          67889737.38
                        ],
                        "iteration": 525,
                        "passed_time": 5.101153869,
                        "remaining_time": 4.596857289,
                        "test": [
                          125581189.1
                        ]
                      },
                      {
                        "learn": [
                          67878689.86
                        ],
                        "iteration": 526,
                        "passed_time": 5.113933702,
                        "remaining_time": 4.589925315,
                        "test": [
                          125578817.5
                        ]
                      },
                      {
                        "learn": [
                          67865232.94
                        ],
                        "iteration": 527,
                        "passed_time": 5.135564261,
                        "remaining_time": 4.590883203,
                        "test": [
                          125589669.5
                        ]
                      },
                      {
                        "learn": [
                          67849343.34
                        ],
                        "iteration": 528,
                        "passed_time": 5.146514714,
                        "remaining_time": 4.58224656,
                        "test": [
                          125579528.9
                        ]
                      },
                      {
                        "learn": [
                          67821957.83
                        ],
                        "iteration": 529,
                        "passed_time": 5.157775021,
                        "remaining_time": 4.573875962,
                        "test": [
                          125593419.2
                        ]
                      },
                      {
                        "learn": [
                          67814294.4
                        ],
                        "iteration": 530,
                        "passed_time": 5.170258446,
                        "remaining_time": 4.566574786,
                        "test": [
                          125586711.9
                        ]
                      },
                      {
                        "learn": [
                          67762352.87
                        ],
                        "iteration": 531,
                        "passed_time": 5.188956311,
                        "remaining_time": 4.564720965,
                        "test": [
                          125587228.3
                        ]
                      },
                      {
                        "learn": [
                          67717912.81
                        ],
                        "iteration": 532,
                        "passed_time": 5.204590019,
                        "remaining_time": 4.56011921,
                        "test": [
                          125547678.2
                        ]
                      },
                      {
                        "learn": [
                          67688015.23
                        ],
                        "iteration": 533,
                        "passed_time": 5.224575513,
                        "remaining_time": 4.559273762,
                        "test": [
                          125528256.2
                        ]
                      },
                      {
                        "learn": [
                          67633180.88
                        ],
                        "iteration": 534,
                        "passed_time": 5.237339914,
                        "remaining_time": 4.552080486,
                        "test": [
                          125519678
                        ]
                      },
                      {
                        "learn": [
                          67595707.98
                        ],
                        "iteration": 535,
                        "passed_time": 5.247248714,
                        "remaining_time": 4.542394409,
                        "test": [
                          125507414.8
                        ]
                      },
                      {
                        "learn": [
                          67592478.01
                        ],
                        "iteration": 536,
                        "passed_time": 5.264726265,
                        "remaining_time": 4.53923326,
                        "test": [
                          125497684.4
                        ]
                      },
                      {
                        "learn": [
                          67565172.86
                        ],
                        "iteration": 537,
                        "passed_time": 5.283135139,
                        "remaining_time": 4.536818651,
                        "test": [
                          125490597.1
                        ]
                      },
                      {
                        "learn": [
                          67544484.11
                        ],
                        "iteration": 538,
                        "passed_time": 5.294593416,
                        "remaining_time": 4.528399934,
                        "test": [
                          125491611.1
                        ]
                      },
                      {
                        "learn": [
                          67524954.62
                        ],
                        "iteration": 539,
                        "passed_time": 5.306881509,
                        "remaining_time": 4.520676841,
                        "test": [
                          125489510.8
                        ]
                      },
                      {
                        "learn": [
                          67510741.02
                        ],
                        "iteration": 540,
                        "passed_time": 5.322934568,
                        "remaining_time": 4.516131177,
                        "test": [
                          125493519.6
                        ]
                      },
                      {
                        "learn": [
                          67504989.01
                        ],
                        "iteration": 541,
                        "passed_time": 5.337806159,
                        "remaining_time": 4.510544688,
                        "test": [
                          125495354
                        ]
                      },
                      {
                        "learn": [
                          67457425.14
                        ],
                        "iteration": 542,
                        "passed_time": 5.352549511,
                        "remaining_time": 4.504816071,
                        "test": [
                          125474606.3
                        ]
                      },
                      {
                        "learn": [
                          67386274.46
                        ],
                        "iteration": 543,
                        "passed_time": 5.372284398,
                        "remaining_time": 4.503238392,
                        "test": [
                          125468656.6
                        ]
                      },
                      {
                        "learn": [
                          67362970.35
                        ],
                        "iteration": 544,
                        "passed_time": 5.382437695,
                        "remaining_time": 4.493594773,
                        "test": [
                          125462344.1
                        ]
                      },
                      {
                        "learn": [
                          67315585.39
                        ],
                        "iteration": 545,
                        "passed_time": 5.400948887,
                        "remaining_time": 4.490898891,
                        "test": [
                          125482132.1
                        ]
                      },
                      {
                        "learn": [
                          67288748.75
                        ],
                        "iteration": 546,
                        "passed_time": 5.416050516,
                        "remaining_time": 4.485321542,
                        "test": [
                          125530575.2
                        ]
                      },
                      {
                        "learn": [
                          67274476.66
                        ],
                        "iteration": 547,
                        "passed_time": 5.42705211,
                        "remaining_time": 4.476327653,
                        "test": [
                          125530298.2
                        ]
                      },
                      {
                        "learn": [
                          67243294.2
                        ],
                        "iteration": 548,
                        "passed_time": 5.446254859,
                        "remaining_time": 4.474063645,
                        "test": [
                          125510490.6
                        ]
                      },
                      {
                        "learn": [
                          67195166.23
                        ],
                        "iteration": 549,
                        "passed_time": 5.466894253,
                        "remaining_time": 4.47291348,
                        "test": [
                          125545729.2
                        ]
                      },
                      {
                        "learn": [
                          67117739.09
                        ],
                        "iteration": 550,
                        "passed_time": 5.486163963,
                        "remaining_time": 4.470576442,
                        "test": [
                          125539967.2
                        ]
                      },
                      {
                        "learn": [
                          67091774.83
                        ],
                        "iteration": 551,
                        "passed_time": 5.504020583,
                        "remaining_time": 4.467031198,
                        "test": [
                          125535570.5
                        ]
                      },
                      {
                        "learn": [
                          67083572.43
                        ],
                        "iteration": 552,
                        "passed_time": 5.521921763,
                        "remaining_time": 4.463470213,
                        "test": [
                          125532938.3
                        ]
                      },
                      {
                        "learn": [
                          67048244.59
                        ],
                        "iteration": 553,
                        "passed_time": 5.539884209,
                        "remaining_time": 4.459906782,
                        "test": [
                          125686358.7
                        ]
                      },
                      {
                        "learn": [
                          67030418.39
                        ],
                        "iteration": 554,
                        "passed_time": 5.554439161,
                        "remaining_time": 4.453559327,
                        "test": [
                          125680329.6
                        ]
                      },
                      {
                        "learn": [
                          66978555.26
                        ],
                        "iteration": 555,
                        "passed_time": 5.572402625,
                        "remaining_time": 4.449904254,
                        "test": [
                          125678957.1
                        ]
                      },
                      {
                        "learn": [
                          66975381.66
                        ],
                        "iteration": 556,
                        "passed_time": 5.58212897,
                        "remaining_time": 4.43964656,
                        "test": [
                          125678197.3
                        ]
                      },
                      {
                        "learn": [
                          66962294.36
                        ],
                        "iteration": 557,
                        "passed_time": 5.603375019,
                        "remaining_time": 4.438515696,
                        "test": [
                          125676233.8
                        ]
                      },
                      {
                        "learn": [
                          66930135.06
                        ],
                        "iteration": 558,
                        "passed_time": 5.617416001,
                        "remaining_time": 4.431628723,
                        "test": [
                          125634179.4
                        ]
                      },
                      {
                        "learn": [
                          66863159.42
                        ],
                        "iteration": 559,
                        "passed_time": 5.635749183,
                        "remaining_time": 4.428088644,
                        "test": [
                          125637211.7
                        ]
                      },
                      {
                        "learn": [
                          66855388.92
                        ],
                        "iteration": 560,
                        "passed_time": 5.649025921,
                        "remaining_time": 4.420539001,
                        "test": [
                          125637540.5
                        ]
                      },
                      {
                        "learn": [
                          66851710.53
                        ],
                        "iteration": 561,
                        "passed_time": 5.669468903,
                        "remaining_time": 4.418554056,
                        "test": [
                          125643966.2
                        ]
                      },
                      {
                        "learn": [
                          66805419.3
                        ],
                        "iteration": 562,
                        "passed_time": 5.687116888,
                        "remaining_time": 4.414334068,
                        "test": [
                          125625481.8
                        ]
                      },
                      {
                        "learn": [
                          66755519.61
                        ],
                        "iteration": 563,
                        "passed_time": 5.706226649,
                        "remaining_time": 4.411196487,
                        "test": [
                          125639476.1
                        ]
                      },
                      {
                        "learn": [
                          66636946.31
                        ],
                        "iteration": 564,
                        "passed_time": 5.724362407,
                        "remaining_time": 4.407252472,
                        "test": [
                          125651358.2
                        ]
                      },
                      {
                        "learn": [
                          66631956.81
                        ],
                        "iteration": 565,
                        "passed_time": 5.734104726,
                        "remaining_time": 4.396822352,
                        "test": [
                          125649953.6
                        ]
                      },
                      {
                        "learn": [
                          66616859.3
                        ],
                        "iteration": 566,
                        "passed_time": 5.75025178,
                        "remaining_time": 4.391285751,
                        "test": [
                          125688498.1
                        ]
                      },
                      {
                        "learn": [
                          66580054.53
                        ],
                        "iteration": 567,
                        "passed_time": 5.76138914,
                        "remaining_time": 4.381901599,
                        "test": [
                          125724582.5
                        ]
                      },
                      {
                        "learn": [
                          66552039.87
                        ],
                        "iteration": 568,
                        "passed_time": 5.774400358,
                        "remaining_time": 4.373930675,
                        "test": [
                          125811600
                        ]
                      },
                      {
                        "learn": [
                          66537193.03
                        ],
                        "iteration": 569,
                        "passed_time": 5.785896376,
                        "remaining_time": 4.36479902,
                        "test": [
                          125822444.7
                        ]
                      },
                      {
                        "learn": [
                          66513661.86
                        ],
                        "iteration": 570,
                        "passed_time": 5.800992682,
                        "remaining_time": 4.358364029,
                        "test": [
                          125800621.2
                        ]
                      },
                      {
                        "learn": [
                          66485879.34
                        ],
                        "iteration": 571,
                        "passed_time": 5.814743003,
                        "remaining_time": 4.350891618,
                        "test": [
                          125784458.3
                        ]
                      },
                      {
                        "learn": [
                          66485547.45
                        ],
                        "iteration": 572,
                        "passed_time": 5.828010734,
                        "remaining_time": 4.343037667,
                        "test": [
                          125782345.3
                        ]
                      },
                      {
                        "learn": [
                          66448035.21
                        ],
                        "iteration": 573,
                        "passed_time": 5.841309712,
                        "remaining_time": 4.335188044,
                        "test": [
                          125755240.7
                        ]
                      },
                      {
                        "learn": [
                          66375353.92
                        ],
                        "iteration": 574,
                        "passed_time": 5.854726333,
                        "remaining_time": 4.32740642,
                        "test": [
                          125766077.1
                        ]
                      },
                      {
                        "learn": [
                          66334336.86
                        ],
                        "iteration": 575,
                        "passed_time": 5.865180745,
                        "remaining_time": 4.317424715,
                        "test": [
                          125752731.8
                        ]
                      },
                      {
                        "learn": [
                          66319031.61
                        ],
                        "iteration": 576,
                        "passed_time": 5.880273612,
                        "remaining_time": 4.310841834,
                        "test": [
                          125752346.6
                        ]
                      },
                      {
                        "learn": [
                          66290256.63
                        ],
                        "iteration": 577,
                        "passed_time": 5.900372928,
                        "remaining_time": 4.307884733,
                        "test": [
                          125778860.4
                        ]
                      },
                      {
                        "learn": [
                          66246882.27
                        ],
                        "iteration": 578,
                        "passed_time": 5.914164125,
                        "remaining_time": 4.300281687,
                        "test": [
                          125750526.4
                        ]
                      },
                      {
                        "learn": [
                          66241053.12
                        ],
                        "iteration": 579,
                        "passed_time": 5.931636205,
                        "remaining_time": 4.295322769,
                        "test": [
                          125753995.6
                        ]
                      },
                      {
                        "learn": [
                          66226934.31
                        ],
                        "iteration": 580,
                        "passed_time": 5.945621472,
                        "remaining_time": 4.287806191,
                        "test": [
                          125736808
                        ]
                      },
                      {
                        "learn": [
                          66211932.47
                        ],
                        "iteration": 581,
                        "passed_time": 5.961224794,
                        "remaining_time": 4.281429491,
                        "test": [
                          125794965.9
                        ]
                      },
                      {
                        "learn": [
                          66206592.41
                        ],
                        "iteration": 582,
                        "passed_time": 5.975713809,
                        "remaining_time": 4.274224114,
                        "test": [
                          125772658
                        ]
                      },
                      {
                        "learn": [
                          66182711.12
                        ],
                        "iteration": 583,
                        "passed_time": 5.994286363,
                        "remaining_time": 4.269902614,
                        "test": [
                          125807030.5
                        ]
                      },
                      {
                        "learn": [
                          66156787.9
                        ],
                        "iteration": 584,
                        "passed_time": 6.008075591,
                        "remaining_time": 4.262139094,
                        "test": [
                          125821295.9
                        ]
                      },
                      {
                        "learn": [
                          66152431.99
                        ],
                        "iteration": 585,
                        "passed_time": 6.02275172,
                        "remaining_time": 4.254981591,
                        "test": [
                          125823050.3
                        ]
                      },
                      {
                        "learn": [
                          66108108.46
                        ],
                        "iteration": 586,
                        "passed_time": 6.035011806,
                        "remaining_time": 4.246098596,
                        "test": [
                          125829336.3
                        ]
                      },
                      {
                        "learn": [
                          66094967.8
                        ],
                        "iteration": 587,
                        "passed_time": 6.078083749,
                        "remaining_time": 4.258793375,
                        "test": [
                          125831778.9
                        ]
                      },
                      {
                        "learn": [
                          66089086.35
                        ],
                        "iteration": 588,
                        "passed_time": 6.101743325,
                        "remaining_time": 4.257752982,
                        "test": [
                          125833216
                        ]
                      },
                      {
                        "learn": [
                          66040436.96
                        ],
                        "iteration": 589,
                        "passed_time": 6.13457532,
                        "remaining_time": 4.263009968,
                        "test": [
                          125814755.5
                        ]
                      },
                      {
                        "learn": [
                          66006402.97
                        ],
                        "iteration": 590,
                        "passed_time": 6.150620091,
                        "remaining_time": 4.256520503,
                        "test": [
                          125820862.7
                        ]
                      },
                      {
                        "learn": [
                          66003179.65
                        ],
                        "iteration": 591,
                        "passed_time": 6.168986852,
                        "remaining_time": 4.251599047,
                        "test": [
                          125797622.4
                        ]
                      },
                      {
                        "learn": [
                          65989940.47
                        ],
                        "iteration": 592,
                        "passed_time": 6.181534243,
                        "remaining_time": 4.242638174,
                        "test": [
                          125803508.3
                        ]
                      },
                      {
                        "learn": [
                          65980073.58
                        ],
                        "iteration": 593,
                        "passed_time": 6.193978374,
                        "remaining_time": 4.233594646,
                        "test": [
                          125829111.4
                        ]
                      },
                      {
                        "learn": [
                          65972285.21
                        ],
                        "iteration": 594,
                        "passed_time": 6.211876405,
                        "remaining_time": 4.228252006,
                        "test": [
                          125876362.3
                        ]
                      },
                      {
                        "learn": [
                          65956155.89
                        ],
                        "iteration": 595,
                        "passed_time": 6.230309842,
                        "remaining_time": 4.223230161,
                        "test": [
                          125819940.9
                        ]
                      },
                      {
                        "learn": [
                          65932285.7
                        ],
                        "iteration": 596,
                        "passed_time": 6.237169103,
                        "remaining_time": 4.210350332,
                        "test": [
                          125844579.4
                        ]
                      },
                      {
                        "learn": [
                          65900141.92
                        ],
                        "iteration": 597,
                        "passed_time": 6.2419677,
                        "remaining_time": 4.196105377,
                        "test": [
                          125874476.5
                        ]
                      },
                      {
                        "learn": [
                          65878017.47
                        ],
                        "iteration": 598,
                        "passed_time": 6.247476748,
                        "remaining_time": 4.182367572,
                        "test": [
                          125875715.9
                        ]
                      },
                      {
                        "learn": [
                          65869717.8
                        ],
                        "iteration": 599,
                        "passed_time": 6.252254686,
                        "remaining_time": 4.168169791,
                        "test": [
                          125871408.1
                        ]
                      },
                      {
                        "learn": [
                          65812368.2
                        ],
                        "iteration": 600,
                        "passed_time": 6.258623777,
                        "remaining_time": 4.155059712,
                        "test": [
                          125880885.2
                        ]
                      },
                      {
                        "learn": [
                          65787732.93
                        ],
                        "iteration": 601,
                        "passed_time": 6.266121149,
                        "remaining_time": 4.142717969,
                        "test": [
                          125876319.5
                        ]
                      },
                      {
                        "learn": [
                          65773701.29
                        ],
                        "iteration": 602,
                        "passed_time": 6.272387956,
                        "remaining_time": 4.12958212,
                        "test": [
                          125882426.3
                        ]
                      },
                      {
                        "learn": [
                          65754570.79
                        ],
                        "iteration": 603,
                        "passed_time": 6.277782672,
                        "remaining_time": 4.115897249,
                        "test": [
                          125887241
                        ]
                      },
                      {
                        "learn": [
                          65745717.15
                        ],
                        "iteration": 604,
                        "passed_time": 6.283684221,
                        "remaining_time": 4.10257069,
                        "test": [
                          125881525.7
                        ]
                      },
                      {
                        "learn": [
                          65737791.42
                        ],
                        "iteration": 605,
                        "passed_time": 6.287676463,
                        "remaining_time": 4.088027271,
                        "test": [
                          125886331.7
                        ]
                      },
                      {
                        "learn": [
                          65713968.07
                        ],
                        "iteration": 606,
                        "passed_time": 6.293973866,
                        "remaining_time": 4.075011086,
                        "test": [
                          125880903.1
                        ]
                      },
                      {
                        "learn": [
                          65691553.29
                        ],
                        "iteration": 607,
                        "passed_time": 6.29948924,
                        "remaining_time": 4.0615128,
                        "test": [
                          125919297.6
                        ]
                      },
                      {
                        "learn": [
                          65645599.22
                        ],
                        "iteration": 608,
                        "passed_time": 6.304513145,
                        "remaining_time": 4.047725188,
                        "test": [
                          125877794.2
                        ]
                      },
                      {
                        "learn": [
                          65642005.62
                        ],
                        "iteration": 609,
                        "passed_time": 6.309706698,
                        "remaining_time": 4.034074774,
                        "test": [
                          125878724
                        ]
                      },
                      {
                        "learn": [
                          65603843.51
                        ],
                        "iteration": 610,
                        "passed_time": 6.317070923,
                        "remaining_time": 4.021834025,
                        "test": [
                          125877152.6
                        ]
                      },
                      {
                        "learn": [
                          65584235
                        ],
                        "iteration": 611,
                        "passed_time": 6.322585716,
                        "remaining_time": 4.008436696,
                        "test": [
                          125895292.5
                        ]
                      },
                      {
                        "learn": [
                          65533646.7
                        ],
                        "iteration": 612,
                        "passed_time": 6.328956004,
                        "remaining_time": 3.995605177,
                        "test": [
                          125985717.5
                        ]
                      },
                      {
                        "learn": [
                          65521066
                        ],
                        "iteration": 613,
                        "passed_time": 6.336541197,
                        "remaining_time": 3.983558473,
                        "test": [
                          125982839.8
                        ]
                      },
                      {
                        "learn": [
                          65512615.71
                        ],
                        "iteration": 614,
                        "passed_time": 6.341051896,
                        "remaining_time": 3.969601593,
                        "test": [
                          125980592.1
                        ]
                      },
                      {
                        "learn": [
                          65502106.96
                        ],
                        "iteration": 615,
                        "passed_time": 6.346191224,
                        "remaining_time": 3.956067256,
                        "test": [
                          125999113.7
                        ]
                      },
                      {
                        "learn": [
                          65496266.99
                        ],
                        "iteration": 616,
                        "passed_time": 6.354618669,
                        "remaining_time": 3.944601216,
                        "test": [
                          125999769.6
                        ]
                      },
                      {
                        "learn": [
                          65472691.4
                        ],
                        "iteration": 617,
                        "passed_time": 6.361047794,
                        "remaining_time": 3.931909802,
                        "test": [
                          125969190.3
                        ]
                      },
                      {
                        "learn": [
                          65462643.71
                        ],
                        "iteration": 618,
                        "passed_time": 6.366729972,
                        "remaining_time": 3.918778868,
                        "test": [
                          125922424.8
                        ]
                      },
                      {
                        "learn": [
                          65389483.44
                        ],
                        "iteration": 619,
                        "passed_time": 6.373004893,
                        "remaining_time": 3.906035257,
                        "test": [
                          125938340.4
                        ]
                      },
                      {
                        "learn": [
                          65363262.15
                        ],
                        "iteration": 620,
                        "passed_time": 6.379499355,
                        "remaining_time": 3.893446466,
                        "test": [
                          125972982.6
                        ]
                      },
                      {
                        "learn": [
                          65348272.87
                        ],
                        "iteration": 621,
                        "passed_time": 6.385093557,
                        "remaining_time": 3.880330168,
                        "test": [
                          125975329.5
                        ]
                      },
                      {
                        "learn": [
                          65330687.29
                        ],
                        "iteration": 622,
                        "passed_time": 6.391559585,
                        "remaining_time": 3.867765591,
                        "test": [
                          125978938.5
                        ]
                      },
                      {
                        "learn": [
                          65316030.14
                        ],
                        "iteration": 623,
                        "passed_time": 6.397294876,
                        "remaining_time": 3.854780246,
                        "test": [
                          125902544
                        ]
                      },
                      {
                        "learn": [
                          65310538.04
                        ],
                        "iteration": 624,
                        "passed_time": 6.403246421,
                        "remaining_time": 3.841947853,
                        "test": [
                          125903136.1
                        ]
                      },
                      {
                        "learn": [
                          65296927.8
                        ],
                        "iteration": 625,
                        "passed_time": 6.408618792,
                        "remaining_time": 3.828791419,
                        "test": [
                          125853063
                        ]
                      },
                      {
                        "learn": [
                          65282348.5
                        ],
                        "iteration": 626,
                        "passed_time": 6.414927541,
                        "remaining_time": 3.816216862,
                        "test": [
                          125847470.5
                        ]
                      },
                      {
                        "learn": [
                          65266692.24
                        ],
                        "iteration": 627,
                        "passed_time": 6.422356343,
                        "remaining_time": 3.804325732,
                        "test": [
                          125853177.9
                        ]
                      },
                      {
                        "learn": [
                          65249072.15
                        ],
                        "iteration": 628,
                        "passed_time": 6.428434343,
                        "remaining_time": 3.791652053,
                        "test": [
                          125850007.8
                        ]
                      },
                      {
                        "learn": [
                          65236684.45
                        ],
                        "iteration": 629,
                        "passed_time": 6.434499048,
                        "remaining_time": 3.778991505,
                        "test": [
                          125837419.2
                        ]
                      },
                      {
                        "learn": [
                          65213493.14
                        ],
                        "iteration": 630,
                        "passed_time": 6.441459005,
                        "remaining_time": 3.766875393,
                        "test": [
                          125889218.9
                        ]
                      },
                      {
                        "learn": [
                          65192265.42
                        ],
                        "iteration": 631,
                        "passed_time": 6.448194863,
                        "remaining_time": 3.75464511,
                        "test": [
                          125879216.4
                        ]
                      },
                      {
                        "learn": [
                          65169622.4
                        ],
                        "iteration": 632,
                        "passed_time": 6.454613804,
                        "remaining_time": 3.742248446,
                        "test": [
                          125921923.2
                        ]
                      },
                      {
                        "learn": [
                          65162857.17
                        ],
                        "iteration": 633,
                        "passed_time": 6.465669283,
                        "remaining_time": 3.732547252,
                        "test": [
                          125909082.6
                        ]
                      },
                      {
                        "learn": [
                          65139679.99
                        ],
                        "iteration": 634,
                        "passed_time": 6.477873009,
                        "remaining_time": 3.723501808,
                        "test": [
                          125900544.8
                        ]
                      },
                      {
                        "learn": [
                          65107967.95
                        ],
                        "iteration": 635,
                        "passed_time": 6.484430027,
                        "remaining_time": 3.71121467,
                        "test": [
                          125954882.9
                        ]
                      },
                      {
                        "learn": [
                          65082126.68
                        ],
                        "iteration": 636,
                        "passed_time": 6.490052733,
                        "remaining_time": 3.698413096,
                        "test": [
                          125956928.6
                        ]
                      },
                      {
                        "learn": [
                          65043617.49
                        ],
                        "iteration": 637,
                        "passed_time": 6.497292771,
                        "remaining_time": 3.686551698,
                        "test": [
                          125914562.4
                        ]
                      },
                      {
                        "learn": [
                          65009611.14
                        ],
                        "iteration": 638,
                        "passed_time": 6.503720731,
                        "remaining_time": 3.674245984,
                        "test": [
                          125946536.9
                        ]
                      },
                      {
                        "learn": [
                          64982921.35
                        ],
                        "iteration": 639,
                        "passed_time": 6.508727961,
                        "remaining_time": 3.661159478,
                        "test": [
                          125965382.8
                        ]
                      },
                      {
                        "learn": [
                          64980654.87
                        ],
                        "iteration": 640,
                        "passed_time": 6.513795797,
                        "remaining_time": 3.648132123,
                        "test": [
                          125965112.2
                        ]
                      },
                      {
                        "learn": [
                          64968339.34
                        ],
                        "iteration": 641,
                        "passed_time": 6.517446409,
                        "remaining_time": 3.634339275,
                        "test": [
                          125968700.6
                        ]
                      },
                      {
                        "learn": [
                          64962712.6
                        ],
                        "iteration": 642,
                        "passed_time": 6.522651226,
                        "remaining_time": 3.621440883,
                        "test": [
                          125969484.4
                        ]
                      },
                      {
                        "learn": [
                          64937504.97
                        ],
                        "iteration": 643,
                        "passed_time": 6.530149036,
                        "remaining_time": 3.609833939,
                        "test": [
                          125921410.2
                        ]
                      },
                      {
                        "learn": [
                          64886585
                        ],
                        "iteration": 644,
                        "passed_time": 6.536017165,
                        "remaining_time": 3.597342781,
                        "test": [
                          125902686.8
                        ]
                      },
                      {
                        "learn": [
                          64861740.82
                        ],
                        "iteration": 645,
                        "passed_time": 6.54209955,
                        "remaining_time": 3.584989537,
                        "test": [
                          125890149.6
                        ]
                      },
                      {
                        "learn": [
                          64853350.15
                        ],
                        "iteration": 646,
                        "passed_time": 6.549063515,
                        "remaining_time": 3.573136663,
                        "test": [
                          125881821.7
                        ]
                      },
                      {
                        "learn": [
                          64830598.94
                        ],
                        "iteration": 647,
                        "passed_time": 6.553860184,
                        "remaining_time": 3.560121582,
                        "test": [
                          125868038.4
                        ]
                      },
                      {
                        "learn": [
                          64803511.8
                        ],
                        "iteration": 648,
                        "passed_time": 6.560727622,
                        "remaining_time": 3.548251765,
                        "test": [
                          125862791.1
                        ]
                      },
                      {
                        "learn": [
                          64745024.04
                        ],
                        "iteration": 649,
                        "passed_time": 6.567116874,
                        "remaining_time": 3.536139855,
                        "test": [
                          125884425.2
                        ]
                      },
                      {
                        "learn": [
                          64703080.21
                        ],
                        "iteration": 650,
                        "passed_time": 6.573568538,
                        "remaining_time": 3.524078986,
                        "test": [
                          125901920.1
                        ]
                      },
                      {
                        "learn": [
                          64690274.1
                        ],
                        "iteration": 651,
                        "passed_time": 6.579608866,
                        "remaining_time": 3.511815775,
                        "test": [
                          125905655.6
                        ]
                      },
                      {
                        "learn": [
                          64648214.52
                        ],
                        "iteration": 652,
                        "passed_time": 6.587765527,
                        "remaining_time": 3.50069623,
                        "test": [
                          125884941.7
                        ]
                      },
                      {
                        "learn": [
                          64626642.86
                        ],
                        "iteration": 653,
                        "passed_time": 6.595135369,
                        "remaining_time": 3.489169477,
                        "test": [
                          125898541
                        ]
                      },
                      {
                        "learn": [
                          64591792.04
                        ],
                        "iteration": 654,
                        "passed_time": 6.605315466,
                        "remaining_time": 3.479135627,
                        "test": [
                          125898434.7
                        ]
                      },
                      {
                        "learn": [
                          64584679.03
                        ],
                        "iteration": 655,
                        "passed_time": 6.612739666,
                        "remaining_time": 3.467656166,
                        "test": [
                          125897411.8
                        ]
                      },
                      {
                        "learn": [
                          64583557.79
                        ],
                        "iteration": 656,
                        "passed_time": 6.619384789,
                        "remaining_time": 3.455782318,
                        "test": [
                          125898202.5
                        ]
                      },
                      {
                        "learn": [
                          64580705.69
                        ],
                        "iteration": 657,
                        "passed_time": 6.624359685,
                        "remaining_time": 3.44305625,
                        "test": [
                          125897252.6
                        ]
                      },
                      {
                        "learn": [
                          64578155.37
                        ],
                        "iteration": 658,
                        "passed_time": 6.63484203,
                        "remaining_time": 3.433203539,
                        "test": [
                          125919303
                        ]
                      },
                      {
                        "learn": [
                          64539731.92
                        ],
                        "iteration": 659,
                        "passed_time": 6.642543078,
                        "remaining_time": 3.421916131,
                        "test": [
                          125894158
                        ]
                      },
                      {
                        "learn": [
                          64533684.56
                        ],
                        "iteration": 660,
                        "passed_time": 6.646422448,
                        "remaining_time": 3.408679591,
                        "test": [
                          125879945
                        ]
                      },
                      {
                        "learn": [
                          64490155.44
                        ],
                        "iteration": 661,
                        "passed_time": 6.653202118,
                        "remaining_time": 3.396952139,
                        "test": [
                          125903943.1
                        ]
                      },
                      {
                        "learn": [
                          64463726.54
                        ],
                        "iteration": 662,
                        "passed_time": 6.659996324,
                        "remaining_time": 3.385247,
                        "test": [
                          125890095.5
                        ]
                      },
                      {
                        "learn": [
                          64437273.95
                        ],
                        "iteration": 663,
                        "passed_time": 6.666334516,
                        "remaining_time": 3.373325899,
                        "test": [
                          125878833.7
                        ]
                      },
                      {
                        "learn": [
                          64424835.78
                        ],
                        "iteration": 664,
                        "passed_time": 6.672365618,
                        "remaining_time": 3.36126689,
                        "test": [
                          125848810.3
                        ]
                      },
                      {
                        "learn": [
                          64393471.81
                        ],
                        "iteration": 665,
                        "passed_time": 6.676154495,
                        "remaining_time": 3.348101503,
                        "test": [
                          125828819.6
                        ]
                      },
                      {
                        "learn": [
                          64387810.32
                        ],
                        "iteration": 666,
                        "passed_time": 6.680889936,
                        "remaining_time": 3.335436805,
                        "test": [
                          125836303
                        ]
                      },
                      {
                        "learn": [
                          64366153.64
                        ],
                        "iteration": 667,
                        "passed_time": 6.68649337,
                        "remaining_time": 3.323227244,
                        "test": [
                          125836005.1
                        ]
                      },
                      {
                        "learn": [
                          64339646.94
                        ],
                        "iteration": 668,
                        "passed_time": 6.692840961,
                        "remaining_time": 3.311405617,
                        "test": [
                          125826239
                        ]
                      },
                      {
                        "learn": [
                          64322291.96
                        ],
                        "iteration": 669,
                        "passed_time": 6.698900081,
                        "remaining_time": 3.299458249,
                        "test": [
                          125820457.2
                        ]
                      },
                      {
                        "learn": [
                          64292879.66
                        ],
                        "iteration": 670,
                        "passed_time": 6.705216792,
                        "remaining_time": 3.287654731,
                        "test": [
                          125828130.6
                        ]
                      },
                      {
                        "learn": [
                          64246469.76
                        ],
                        "iteration": 671,
                        "passed_time": 6.711770732,
                        "remaining_time": 3.275983333,
                        "test": [
                          125829978.4
                        ]
                      },
                      {
                        "learn": [
                          64217996
                        ],
                        "iteration": 672,
                        "passed_time": 6.717495545,
                        "remaining_time": 3.263924284,
                        "test": [
                          125821189
                        ]
                      },
                      {
                        "learn": [
                          64215262.91
                        ],
                        "iteration": 673,
                        "passed_time": 6.72224449,
                        "remaining_time": 3.251412023,
                        "test": [
                          125824354.5
                        ]
                      },
                      {
                        "learn": [
                          64194972.08
                        ],
                        "iteration": 674,
                        "passed_time": 6.72784869,
                        "remaining_time": 3.239334555,
                        "test": [
                          125815444.4
                        ]
                      },
                      {
                        "learn": [
                          64168302.9
                        ],
                        "iteration": 675,
                        "passed_time": 6.734355392,
                        "remaining_time": 3.227708797,
                        "test": [
                          125800949.4
                        ]
                      },
                      {
                        "learn": [
                          64157222.85
                        ],
                        "iteration": 676,
                        "passed_time": 6.741410932,
                        "remaining_time": 3.216360016,
                        "test": [
                          125792442.7
                        ]
                      },
                      {
                        "learn": [
                          64148908.85
                        ],
                        "iteration": 677,
                        "passed_time": 6.74755624,
                        "remaining_time": 3.204591607,
                        "test": [
                          125834078
                        ]
                      },
                      {
                        "learn": [
                          64124053.27
                        ],
                        "iteration": 678,
                        "passed_time": 6.752716355,
                        "remaining_time": 3.192374006,
                        "test": [
                          125857839.2
                        ]
                      },
                      {
                        "learn": [
                          64089356.85
                        ],
                        "iteration": 679,
                        "passed_time": 6.758369398,
                        "remaining_time": 3.180409128,
                        "test": [
                          125933296.9
                        ]
                      },
                      {
                        "learn": [
                          64077526.52
                        ],
                        "iteration": 680,
                        "passed_time": 6.764208433,
                        "remaining_time": 3.168549912,
                        "test": [
                          126005491.5
                        ]
                      },
                      {
                        "learn": [
                          64069018.28
                        ],
                        "iteration": 681,
                        "passed_time": 6.76798553,
                        "remaining_time": 3.155746919,
                        "test": [
                          125993679.4
                        ]
                      },
                      {
                        "learn": [
                          64053464.63
                        ],
                        "iteration": 682,
                        "passed_time": 6.774839552,
                        "remaining_time": 3.144398445,
                        "test": [
                          125956966.7
                        ]
                      },
                      {
                        "learn": [
                          64017739.44
                        ],
                        "iteration": 683,
                        "passed_time": 6.781919972,
                        "remaining_time": 3.133167706,
                        "test": [
                          125963001
                        ]
                      },
                      {
                        "learn": [
                          63980723.24
                        ],
                        "iteration": 684,
                        "passed_time": 6.787421231,
                        "remaining_time": 3.121222902,
                        "test": [
                          126038644.5
                        ]
                      },
                      {
                        "learn": [
                          63976086.75
                        ],
                        "iteration": 685,
                        "passed_time": 6.792480501,
                        "remaining_time": 3.109094573,
                        "test": [
                          126039129.2
                        ]
                      },
                      {
                        "learn": [
                          63973540.94
                        ],
                        "iteration": 686,
                        "passed_time": 6.797836944,
                        "remaining_time": 3.097122218,
                        "test": [
                          126032010.4
                        ]
                      },
                      {
                        "learn": [
                          63959847.41
                        ],
                        "iteration": 687,
                        "passed_time": 6.805017875,
                        "remaining_time": 3.085996478,
                        "test": [
                          126040517.7
                        ]
                      },
                      {
                        "learn": [
                          63949886.17
                        ],
                        "iteration": 688,
                        "passed_time": 6.810825269,
                        "remaining_time": 3.074262204,
                        "test": [
                          126046047.9
                        ]
                      },
                      {
                        "learn": [
                          63933419.53
                        ],
                        "iteration": 689,
                        "passed_time": 6.816379087,
                        "remaining_time": 3.062431184,
                        "test": [
                          126035573.5
                        ]
                      },
                      {
                        "learn": [
                          63912990.18
                        ],
                        "iteration": 690,
                        "passed_time": 6.822189173,
                        "remaining_time": 3.05073293,
                        "test": [
                          126015202.8
                        ]
                      },
                      {
                        "learn": [
                          63891889.09
                        ],
                        "iteration": 691,
                        "passed_time": 6.827576014,
                        "remaining_time": 3.038863313,
                        "test": [
                          125970867.3
                        ]
                      },
                      {
                        "learn": [
                          63878768.77
                        ],
                        "iteration": 692,
                        "passed_time": 6.834176972,
                        "remaining_time": 3.02755026,
                        "test": [
                          125975653.8
                        ]
                      },
                      {
                        "learn": [
                          63874119.85
                        ],
                        "iteration": 693,
                        "passed_time": 6.839558577,
                        "remaining_time": 3.015713148,
                        "test": [
                          125974381.9
                        ]
                      },
                      {
                        "learn": [
                          63840193.78
                        ],
                        "iteration": 694,
                        "passed_time": 6.846019751,
                        "remaining_time": 3.00436838,
                        "test": [
                          125969534.8
                        ]
                      },
                      {
                        "learn": [
                          63821833.56
                        ],
                        "iteration": 695,
                        "passed_time": 6.852035115,
                        "remaining_time": 2.992842924,
                        "test": [
                          126010418.3
                        ]
                      },
                      {
                        "learn": [
                          63794077.77
                        ],
                        "iteration": 696,
                        "passed_time": 6.858256767,
                        "remaining_time": 2.981422956,
                        "test": [
                          126024945.2
                        ]
                      },
                      {
                        "learn": [
                          63782554.26
                        ],
                        "iteration": 697,
                        "passed_time": 6.864702562,
                        "remaining_time": 2.970114862,
                        "test": [
                          126026870.8
                        ]
                      },
                      {
                        "learn": [
                          63741707.71
                        ],
                        "iteration": 698,
                        "passed_time": 6.871610105,
                        "remaining_time": 2.959019516,
                        "test": [
                          126025774.7
                        ]
                      },
                      {
                        "learn": [
                          63739834.87
                        ],
                        "iteration": 699,
                        "passed_time": 6.878804688,
                        "remaining_time": 2.948059152,
                        "test": [
                          126017082.9
                        ]
                      },
                      {
                        "learn": [
                          63724752.31
                        ],
                        "iteration": 700,
                        "passed_time": 6.883539008,
                        "remaining_time": 2.936060148,
                        "test": [
                          126013346.6
                        ]
                      },
                      {
                        "learn": [
                          63721904.6
                        ],
                        "iteration": 701,
                        "passed_time": 6.88963851,
                        "remaining_time": 2.924661362,
                        "test": [
                          126029998.1
                        ]
                      },
                      {
                        "learn": [
                          63713363.43
                        ],
                        "iteration": 702,
                        "passed_time": 6.89459915,
                        "remaining_time": 2.912796512,
                        "test": [
                          126035331.4
                        ]
                      },
                      {
                        "learn": [
                          63686046.46
                        ],
                        "iteration": 703,
                        "passed_time": 6.900126449,
                        "remaining_time": 2.90118953,
                        "test": [
                          126040432.7
                        ]
                      },
                      {
                        "learn": [
                          63656539.29
                        ],
                        "iteration": 704,
                        "passed_time": 6.906842783,
                        "remaining_time": 2.890097335,
                        "test": [
                          126036495.1
                        ]
                      },
                      {
                        "learn": [
                          63616613.5
                        ],
                        "iteration": 705,
                        "passed_time": 6.913848199,
                        "remaining_time": 2.879137919,
                        "test": [
                          126020453.5
                        ]
                      },
                      {
                        "learn": [
                          63596924.71
                        ],
                        "iteration": 706,
                        "passed_time": 6.919192579,
                        "remaining_time": 2.867501309,
                        "test": [
                          126020574
                        ]
                      },
                      {
                        "learn": [
                          63585773.97
                        ],
                        "iteration": 707,
                        "passed_time": 6.925995704,
                        "remaining_time": 2.856484104,
                        "test": [
                          126019742.4
                        ]
                      },
                      {
                        "learn": [
                          63583674.68
                        ],
                        "iteration": 708,
                        "passed_time": 6.932080309,
                        "remaining_time": 2.845183878,
                        "test": [
                          126017093.7
                        ]
                      },
                      {
                        "learn": [
                          63561775.05
                        ],
                        "iteration": 709,
                        "passed_time": 6.94152021,
                        "remaining_time": 2.835268818,
                        "test": [
                          126033585.7
                        ]
                      },
                      {
                        "learn": [
                          63561106.54
                        ],
                        "iteration": 710,
                        "passed_time": 6.951311475,
                        "remaining_time": 2.825497913,
                        "test": [
                          126034651.2
                        ]
                      },
                      {
                        "learn": [
                          63552793.65
                        ],
                        "iteration": 711,
                        "passed_time": 6.965242539,
                        "remaining_time": 2.817401476,
                        "test": [
                          126057671.7
                        ]
                      },
                      {
                        "learn": [
                          63551134.56
                        ],
                        "iteration": 712,
                        "passed_time": 6.970255029,
                        "remaining_time": 2.805698728,
                        "test": [
                          126059810.8
                        ]
                      },
                      {
                        "learn": [
                          63495854.12
                        ],
                        "iteration": 713,
                        "passed_time": 6.97761413,
                        "remaining_time": 2.794954679,
                        "test": [
                          126109883.2
                        ]
                      },
                      {
                        "learn": [
                          63492548.35
                        ],
                        "iteration": 714,
                        "passed_time": 6.983774029,
                        "remaining_time": 2.783742095,
                        "test": [
                          126113265
                        ]
                      },
                      {
                        "learn": [
                          63483809.83
                        ],
                        "iteration": 715,
                        "passed_time": 6.990565916,
                        "remaining_time": 2.772794302,
                        "test": [
                          126128917
                        ]
                      },
                      {
                        "learn": [
                          63449977.68
                        ],
                        "iteration": 716,
                        "passed_time": 6.997832035,
                        "remaining_time": 2.76204528,
                        "test": [
                          126119247.3
                        ]
                      },
                      {
                        "learn": [
                          63449291.21
                        ],
                        "iteration": 717,
                        "passed_time": 7.00393719,
                        "remaining_time": 2.750849983,
                        "test": [
                          126121260.7
                        ]
                      },
                      {
                        "learn": [
                          63445813.83
                        ],
                        "iteration": 718,
                        "passed_time": 7.008744679,
                        "remaining_time": 2.73916169,
                        "test": [
                          126120169.3
                        ]
                      },
                      {
                        "learn": [
                          63396942.91
                        ],
                        "iteration": 719,
                        "passed_time": 7.015114235,
                        "remaining_time": 2.72809998,
                        "test": [
                          126148161.5
                        ]
                      },
                      {
                        "learn": [
                          63386301.1
                        ],
                        "iteration": 720,
                        "passed_time": 7.021095553,
                        "remaining_time": 2.716901053,
                        "test": [
                          126155189.9
                        ]
                      },
                      {
                        "learn": [
                          63368248.66
                        ],
                        "iteration": 721,
                        "passed_time": 7.027271111,
                        "remaining_time": 2.70579137,
                        "test": [
                          126155391.4
                        ]
                      },
                      {
                        "learn": [
                          63349319.72
                        ],
                        "iteration": 722,
                        "passed_time": 7.03355833,
                        "remaining_time": 2.694738116,
                        "test": [
                          126119067.2
                        ]
                      },
                      {
                        "learn": [
                          63325670.45
                        ],
                        "iteration": 723,
                        "passed_time": 7.03948947,
                        "remaining_time": 2.683562284,
                        "test": [
                          126133926.8
                        ]
                      },
                      {
                        "learn": [
                          63308135.2
                        ],
                        "iteration": 724,
                        "passed_time": 7.045586596,
                        "remaining_time": 2.672463881,
                        "test": [
                          126145519
                        ]
                      },
                      {
                        "learn": [
                          63302469.88
                        ],
                        "iteration": 725,
                        "passed_time": 7.049942439,
                        "remaining_time": 2.660722077,
                        "test": [
                          126147155.1
                        ]
                      },
                      {
                        "learn": [
                          63300117.47
                        ],
                        "iteration": 726,
                        "passed_time": 7.055073584,
                        "remaining_time": 2.649291731,
                        "test": [
                          126118724.2
                        ]
                      },
                      {
                        "learn": [
                          63294790.56
                        ],
                        "iteration": 727,
                        "passed_time": 7.062235515,
                        "remaining_time": 2.638637445,
                        "test": [
                          126118123.4
                        ]
                      },
                      {
                        "learn": [
                          63280840
                        ],
                        "iteration": 728,
                        "passed_time": 7.06704224,
                        "remaining_time": 2.627117211,
                        "test": [
                          126130219.6
                        ]
                      },
                      {
                        "learn": [
                          63260057.61
                        ],
                        "iteration": 729,
                        "passed_time": 7.072220701,
                        "remaining_time": 2.615752862,
                        "test": [
                          126144025.3
                        ]
                      },
                      {
                        "learn": [
                          63241782.25
                        ],
                        "iteration": 730,
                        "passed_time": 7.077904667,
                        "remaining_time": 2.604591458,
                        "test": [
                          126130473.1
                        ]
                      },
                      {
                        "learn": [
                          63220440.81
                        ],
                        "iteration": 731,
                        "passed_time": 7.087302227,
                        "remaining_time": 2.59480464,
                        "test": [
                          126126674.7
                        ]
                      },
                      {
                        "learn": [
                          63198882.79
                        ],
                        "iteration": 732,
                        "passed_time": 7.093595542,
                        "remaining_time": 2.583888144,
                        "test": [
                          126165866.2
                        ]
                      },
                      {
                        "learn": [
                          63177360.12
                        ],
                        "iteration": 733,
                        "passed_time": 7.123675052,
                        "remaining_time": 2.58160431,
                        "test": [
                          126161720.1
                        ]
                      },
                      {
                        "learn": [
                          63171459.53
                        ],
                        "iteration": 734,
                        "passed_time": 7.134358491,
                        "remaining_time": 2.572251701,
                        "test": [
                          126162193.9
                        ]
                      },
                      {
                        "learn": [
                          63134261.54
                        ],
                        "iteration": 735,
                        "passed_time": 7.155313611,
                        "remaining_time": 2.566579882,
                        "test": [
                          126159114.7
                        ]
                      },
                      {
                        "learn": [
                          63105252.22
                        ],
                        "iteration": 736,
                        "passed_time": 7.163548205,
                        "remaining_time": 2.556327243,
                        "test": [
                          126199481.4
                        ]
                      },
                      {
                        "learn": [
                          63071624.76
                        ],
                        "iteration": 737,
                        "passed_time": 7.167431266,
                        "remaining_time": 2.544535219,
                        "test": [
                          126206483.1
                        ]
                      },
                      {
                        "learn": [
                          63025681.37
                        ],
                        "iteration": 738,
                        "passed_time": 7.176038647,
                        "remaining_time": 2.534433135,
                        "test": [
                          126221736.4
                        ]
                      },
                      {
                        "learn": [
                          63021109.85
                        ],
                        "iteration": 739,
                        "passed_time": 7.183073845,
                        "remaining_time": 2.523782702,
                        "test": [
                          126242314.1
                        ]
                      },
                      {
                        "learn": [
                          63009568.91
                        ],
                        "iteration": 740,
                        "passed_time": 7.189109337,
                        "remaining_time": 2.512792602,
                        "test": [
                          126271515.1
                        ]
                      },
                      {
                        "learn": [
                          63005768.19
                        ],
                        "iteration": 741,
                        "passed_time": 7.195408131,
                        "remaining_time": 2.501907409,
                        "test": [
                          126272391.3
                        ]
                      },
                      {
                        "learn": [
                          62980576.69
                        ],
                        "iteration": 742,
                        "passed_time": 7.201308855,
                        "remaining_time": 2.490896872,
                        "test": [
                          126266335.8
                        ]
                      },
                      {
                        "learn": [
                          62975790.55
                        ],
                        "iteration": 743,
                        "passed_time": 7.207776215,
                        "remaining_time": 2.480095042,
                        "test": [
                          126266194
                        ]
                      },
                      {
                        "learn": [
                          62967964.59
                        ],
                        "iteration": 744,
                        "passed_time": 7.214779967,
                        "remaining_time": 2.469488445,
                        "test": [
                          126271934.1
                        ]
                      },
                      {
                        "learn": [
                          62929401.41
                        ],
                        "iteration": 745,
                        "passed_time": 7.222876439,
                        "remaining_time": 2.45926356,
                        "test": [
                          126277902.2
                        ]
                      },
                      {
                        "learn": [
                          62927023.33
                        ],
                        "iteration": 746,
                        "passed_time": 7.227452338,
                        "remaining_time": 2.447851997,
                        "test": [
                          126264476.2
                        ]
                      },
                      {
                        "learn": [
                          62920886.86
                        ],
                        "iteration": 747,
                        "passed_time": 7.233529672,
                        "remaining_time": 2.436964542,
                        "test": [
                          126246899.1
                        ]
                      },
                      {
                        "learn": [
                          62918624.53
                        ],
                        "iteration": 748,
                        "passed_time": 7.238254472,
                        "remaining_time": 2.425636679,
                        "test": [
                          126250581.3
                        ]
                      },
                      {
                        "learn": [
                          62900868.47
                        ],
                        "iteration": 749,
                        "passed_time": 7.243686863,
                        "remaining_time": 2.414562288,
                        "test": [
                          126249139.4
                        ]
                      },
                      {
                        "learn": [
                          62876449.88
                        ],
                        "iteration": 750,
                        "passed_time": 7.250447112,
                        "remaining_time": 2.403943184,
                        "test": [
                          126277692.3
                        ]
                      },
                      {
                        "learn": [
                          62854835.01
                        ],
                        "iteration": 751,
                        "passed_time": 7.254221881,
                        "remaining_time": 2.392349769,
                        "test": [
                          126273162.8
                        ]
                      },
                      {
                        "learn": [
                          62838095.54
                        ],
                        "iteration": 752,
                        "passed_time": 7.260261965,
                        "remaining_time": 2.381520193,
                        "test": [
                          126307148.1
                        ]
                      },
                      {
                        "learn": [
                          62796044.9
                        ],
                        "iteration": 753,
                        "passed_time": 7.26753304,
                        "remaining_time": 2.371104944,
                        "test": [
                          126360860.1
                        ]
                      },
                      {
                        "learn": [
                          62781296.19
                        ],
                        "iteration": 754,
                        "passed_time": 7.277862026,
                        "remaining_time": 2.361690326,
                        "test": [
                          126371553.5
                        ]
                      },
                      {
                        "learn": [
                          62759160.46
                        ],
                        "iteration": 755,
                        "passed_time": 7.284395444,
                        "remaining_time": 2.351048265,
                        "test": [
                          126382601.4
                        ]
                      },
                      {
                        "learn": [
                          62713389.09
                        ],
                        "iteration": 756,
                        "passed_time": 7.291577663,
                        "remaining_time": 2.340625326,
                        "test": [
                          126408465.9
                        ]
                      },
                      {
                        "learn": [
                          62700926.57
                        ],
                        "iteration": 757,
                        "passed_time": 7.297614087,
                        "remaining_time": 2.329845131,
                        "test": [
                          126346024.6
                        ]
                      },
                      {
                        "learn": [
                          62682010.22
                        ],
                        "iteration": 758,
                        "passed_time": 7.303905698,
                        "remaining_time": 2.319158463,
                        "test": [
                          126411380.5
                        ]
                      },
                      {
                        "learn": [
                          62666578.39
                        ],
                        "iteration": 759,
                        "passed_time": 7.310486309,
                        "remaining_time": 2.308574624,
                        "test": [
                          126424525.7
                        ]
                      },
                      {
                        "learn": [
                          62642461.78
                        ],
                        "iteration": 760,
                        "passed_time": 7.319617764,
                        "remaining_time": 2.298802425,
                        "test": [
                          126411521.3
                        ]
                      },
                      {
                        "learn": [
                          62638631.99
                        ],
                        "iteration": 761,
                        "passed_time": 7.328530829,
                        "remaining_time": 2.288963697,
                        "test": [
                          126412355.6
                        ]
                      },
                      {
                        "learn": [
                          62609256.35
                        ],
                        "iteration": 762,
                        "passed_time": 7.334598071,
                        "remaining_time": 2.278243437,
                        "test": [
                          126427600.4
                        ]
                      },
                      {
                        "learn": [
                          62577619.94
                        ],
                        "iteration": 763,
                        "passed_time": 7.340143561,
                        "remaining_time": 2.267374189,
                        "test": [
                          126501762.8
                        ]
                      },
                      {
                        "learn": [
                          62538911.17
                        ],
                        "iteration": 764,
                        "passed_time": 7.347662189,
                        "remaining_time": 2.257124986,
                        "test": [
                          126466369.6
                        ]
                      },
                      {
                        "learn": [
                          62511719.03
                        ],
                        "iteration": 765,
                        "passed_time": 7.355190424,
                        "remaining_time": 2.246885847,
                        "test": [
                          126461827.2
                        ]
                      },
                      {
                        "learn": [
                          62449562.57
                        ],
                        "iteration": 766,
                        "passed_time": 7.362840969,
                        "remaining_time": 2.236690933,
                        "test": [
                          126486460.4
                        ]
                      },
                      {
                        "learn": [
                          62438824.52
                        ],
                        "iteration": 767,
                        "passed_time": 7.370444219,
                        "remaining_time": 2.226488358,
                        "test": [
                          126476799.6
                        ]
                      },
                      {
                        "learn": [
                          62415228.28
                        ],
                        "iteration": 768,
                        "passed_time": 7.376808175,
                        "remaining_time": 2.215920271,
                        "test": [
                          126472488.5
                        ]
                      },
                      {
                        "learn": [
                          62376146.91
                        ],
                        "iteration": 769,
                        "passed_time": 7.382877277,
                        "remaining_time": 2.205275031,
                        "test": [
                          126468352.3
                        ]
                      },
                      {
                        "learn": [
                          62339097.97
                        ],
                        "iteration": 770,
                        "passed_time": 7.389283712,
                        "remaining_time": 2.194741855,
                        "test": [
                          126484802.7
                        ]
                      },
                      {
                        "learn": [
                          62329930.39
                        ],
                        "iteration": 771,
                        "passed_time": 7.395092016,
                        "remaining_time": 2.18404272,
                        "test": [
                          126469231.6
                        ]
                      },
                      {
                        "learn": [
                          62309667.54
                        ],
                        "iteration": 772,
                        "passed_time": 7.401635722,
                        "remaining_time": 2.173572198,
                        "test": [
                          126517347
                        ]
                      },
                      {
                        "learn": [
                          62283081.78
                        ],
                        "iteration": 773,
                        "passed_time": 7.40698042,
                        "remaining_time": 2.162761725,
                        "test": [
                          126523034.7
                        ]
                      },
                      {
                        "learn": [
                          62249160.76
                        ],
                        "iteration": 774,
                        "passed_time": 7.414506534,
                        "remaining_time": 2.152598671,
                        "test": [
                          126541873.1
                        ]
                      },
                      {
                        "learn": [
                          62219308.18
                        ],
                        "iteration": 775,
                        "passed_time": 7.423089113,
                        "remaining_time": 2.142747373,
                        "test": [
                          126566994.2
                        ]
                      },
                      {
                        "learn": [
                          62207903.64
                        ],
                        "iteration": 776,
                        "passed_time": 7.437542369,
                        "remaining_time": 2.134584232,
                        "test": [
                          126514092
                        ]
                      },
                      {
                        "learn": [
                          62168549.26
                        ],
                        "iteration": 777,
                        "passed_time": 7.446411629,
                        "remaining_time": 2.124811544,
                        "test": [
                          126510777.5
                        ]
                      },
                      {
                        "learn": [
                          62163051.63
                        ],
                        "iteration": 778,
                        "passed_time": 7.455639285,
                        "remaining_time": 2.115142852,
                        "test": [
                          126522782
                        ]
                      },
                      {
                        "learn": [
                          62150501.24
                        ],
                        "iteration": 779,
                        "passed_time": 7.464394416,
                        "remaining_time": 2.105342015,
                        "test": [
                          126513479.1
                        ]
                      },
                      {
                        "learn": [
                          62127433.41
                        ],
                        "iteration": 780,
                        "passed_time": 7.470836627,
                        "remaining_time": 2.09489529,
                        "test": [
                          126522824.9
                        ]
                      },
                      {
                        "learn": [
                          62107120.3
                        ],
                        "iteration": 781,
                        "passed_time": 7.478297997,
                        "remaining_time": 2.08474292,
                        "test": [
                          126505590.3
                        ]
                      },
                      {
                        "learn": [
                          62074277.81
                        ],
                        "iteration": 782,
                        "passed_time": 7.485214662,
                        "remaining_time": 2.074446464,
                        "test": [
                          126499497.4
                        ]
                      },
                      {
                        "learn": [
                          62036449.59
                        ],
                        "iteration": 783,
                        "passed_time": 7.491392135,
                        "remaining_time": 2.063954976,
                        "test": [
                          126491114.3
                        ]
                      },
                      {
                        "learn": [
                          62014972.99
                        ],
                        "iteration": 784,
                        "passed_time": 7.494954267,
                        "remaining_time": 2.052758175,
                        "test": [
                          126550647.9
                        ]
                      },
                      {
                        "learn": [
                          62011192.94
                        ],
                        "iteration": 785,
                        "passed_time": 7.501125205,
                        "remaining_time": 2.042291086,
                        "test": [
                          126533667
                        ]
                      },
                      {
                        "learn": [
                          61997219.47
                        ],
                        "iteration": 786,
                        "passed_time": 7.506729159,
                        "remaining_time": 2.031681462,
                        "test": [
                          126509925.9
                        ]
                      },
                      {
                        "learn": [
                          61995247.79
                        ],
                        "iteration": 787,
                        "passed_time": 7.512888076,
                        "remaining_time": 2.021233848,
                        "test": [
                          126505545.9
                        ]
                      },
                      {
                        "learn": [
                          61986967.39
                        ],
                        "iteration": 788,
                        "passed_time": 7.518780512,
                        "remaining_time": 2.01072584,
                        "test": [
                          126512587
                        ]
                      },
                      {
                        "learn": [
                          61969128.51
                        ],
                        "iteration": 789,
                        "passed_time": 7.525129036,
                        "remaining_time": 2.000350756,
                        "test": [
                          126497496.5
                        ]
                      },
                      {
                        "learn": [
                          61934762.96
                        ],
                        "iteration": 790,
                        "passed_time": 7.531178775,
                        "remaining_time": 1.989906908,
                        "test": [
                          126502865.2
                        ]
                      },
                      {
                        "learn": [
                          61924752.55
                        ],
                        "iteration": 791,
                        "passed_time": 7.537069079,
                        "remaining_time": 1.979432283,
                        "test": [
                          126499779
                        ]
                      },
                      {
                        "learn": [
                          61919511.81
                        ],
                        "iteration": 792,
                        "passed_time": 7.54232578,
                        "remaining_time": 1.968803829,
                        "test": [
                          126472029.1
                        ]
                      },
                      {
                        "learn": [
                          61902783.11
                        ],
                        "iteration": 793,
                        "passed_time": 7.547199372,
                        "remaining_time": 1.958089509,
                        "test": [
                          126462728.4
                        ]
                      },
                      {
                        "learn": [
                          61849662.51
                        ],
                        "iteration": 794,
                        "passed_time": 7.554252006,
                        "remaining_time": 1.947951775,
                        "test": [
                          126433093.1
                        ]
                      },
                      {
                        "learn": [
                          61838517.39
                        ],
                        "iteration": 795,
                        "passed_time": 7.558752289,
                        "remaining_time": 1.937167672,
                        "test": [
                          126439311
                        ]
                      },
                      {
                        "learn": [
                          61806595.7
                        ],
                        "iteration": 796,
                        "passed_time": 7.565724801,
                        "remaining_time": 1.927029027,
                        "test": [
                          126516966.8
                        ]
                      },
                      {
                        "learn": [
                          61773102.05
                        ],
                        "iteration": 797,
                        "passed_time": 7.573187567,
                        "remaining_time": 1.917022417,
                        "test": [
                          126508891
                        ]
                      },
                      {
                        "learn": [
                          61772018.23
                        ],
                        "iteration": 798,
                        "passed_time": 7.577282674,
                        "remaining_time": 1.90617499,
                        "test": [
                          126503208.7
                        ]
                      },
                      {
                        "learn": [
                          61749289.09
                        ],
                        "iteration": 799,
                        "passed_time": 7.585690432,
                        "remaining_time": 1.896422608,
                        "test": [
                          126502914.9
                        ]
                      },
                      {
                        "learn": [
                          61732621.86
                        ],
                        "iteration": 800,
                        "passed_time": 7.592533303,
                        "remaining_time": 1.886284803,
                        "test": [
                          126488235.7
                        ]
                      },
                      {
                        "learn": [
                          61711977.29
                        ],
                        "iteration": 801,
                        "passed_time": 7.59904231,
                        "remaining_time": 1.87607279,
                        "test": [
                          126499605.3
                        ]
                      },
                      {
                        "learn": [
                          61695117.19
                        ],
                        "iteration": 802,
                        "passed_time": 7.605962347,
                        "remaining_time": 1.865970837,
                        "test": [
                          126499828.1
                        ]
                      },
                      {
                        "learn": [
                          61666259.04
                        ],
                        "iteration": 803,
                        "passed_time": 7.612589271,
                        "remaining_time": 1.855805345,
                        "test": [
                          126511408.2
                        ]
                      },
                      {
                        "learn": [
                          61650171.4
                        ],
                        "iteration": 804,
                        "passed_time": 7.621212482,
                        "remaining_time": 1.846132216,
                        "test": [
                          126501037.9
                        ]
                      },
                      {
                        "learn": [
                          61626962.51
                        ],
                        "iteration": 805,
                        "passed_time": 7.629235908,
                        "remaining_time": 1.836317328,
                        "test": [
                          126508833.3
                        ]
                      },
                      {
                        "learn": [
                          61623338.95
                        ],
                        "iteration": 806,
                        "passed_time": 7.636144272,
                        "remaining_time": 1.826240204,
                        "test": [
                          126495002.8
                        ]
                      },
                      {
                        "learn": [
                          61606231.75
                        ],
                        "iteration": 807,
                        "passed_time": 7.64159023,
                        "remaining_time": 1.815823421,
                        "test": [
                          126544922.8
                        ]
                      },
                      {
                        "learn": [
                          61587592.44
                        ],
                        "iteration": 808,
                        "passed_time": 7.647334444,
                        "remaining_time": 1.805489344,
                        "test": [
                          126526353.8
                        ]
                      },
                      {
                        "learn": [
                          61574431.97
                        ],
                        "iteration": 809,
                        "passed_time": 7.65425403,
                        "remaining_time": 1.795442303,
                        "test": [
                          126526745.5
                        ]
                      },
                      {
                        "learn": [
                          61563543.13
                        ],
                        "iteration": 810,
                        "passed_time": 7.659880197,
                        "remaining_time": 1.78510155,
                        "test": [
                          126516566.2
                        ]
                      },
                      {
                        "learn": [
                          61529627.15
                        ],
                        "iteration": 811,
                        "passed_time": 7.665731887,
                        "remaining_time": 1.774824624,
                        "test": [
                          126502817.6
                        ]
                      },
                      {
                        "learn": [
                          61513798
                        ],
                        "iteration": 812,
                        "passed_time": 7.672003617,
                        "remaining_time": 1.764655199,
                        "test": [
                          126494966.6
                        ]
                      },
                      {
                        "learn": [
                          61511204.37
                        ],
                        "iteration": 813,
                        "passed_time": 7.67759638,
                        "remaining_time": 1.754340205,
                        "test": [
                          126501917.2
                        ]
                      },
                      {
                        "learn": [
                          61471617.44
                        ],
                        "iteration": 814,
                        "passed_time": 7.683658055,
                        "remaining_time": 1.74414324,
                        "test": [
                          126549153.8
                        ]
                      },
                      {
                        "learn": [
                          61429672.67
                        ],
                        "iteration": 815,
                        "passed_time": 7.690533545,
                        "remaining_time": 1.734139917,
                        "test": [
                          126591985.2
                        ]
                      },
                      {
                        "learn": [
                          61395476.25
                        ],
                        "iteration": 816,
                        "passed_time": 7.697088411,
                        "remaining_time": 1.724072435,
                        "test": [
                          126563917.9
                        ]
                      },
                      {
                        "learn": [
                          61378308.18
                        ],
                        "iteration": 817,
                        "passed_time": 7.702739981,
                        "remaining_time": 1.713812563,
                        "test": [
                          126562547.9
                        ]
                      },
                      {
                        "learn": [
                          61365100.36
                        ],
                        "iteration": 818,
                        "passed_time": 7.707503838,
                        "remaining_time": 1.703367759,
                        "test": [
                          126556327.5
                        ]
                      },
                      {
                        "learn": [
                          61349941.45
                        ],
                        "iteration": 819,
                        "passed_time": 7.712920128,
                        "remaining_time": 1.693080028,
                        "test": [
                          126562432.6
                        ]
                      },
                      {
                        "learn": [
                          61335156.06
                        ],
                        "iteration": 820,
                        "passed_time": 7.722434128,
                        "remaining_time": 1.683697575,
                        "test": [
                          126523886.2
                        ]
                      },
                      {
                        "learn": [
                          61322309.06
                        ],
                        "iteration": 821,
                        "passed_time": 7.730433058,
                        "remaining_time": 1.673986721,
                        "test": [
                          126527301.7
                        ]
                      },
                      {
                        "learn": [
                          61307541.46
                        ],
                        "iteration": 822,
                        "passed_time": 7.736169165,
                        "remaining_time": 1.663793368,
                        "test": [
                          126543391.5
                        ]
                      },
                      {
                        "learn": [
                          61284836.94
                        ],
                        "iteration": 823,
                        "passed_time": 7.742286106,
                        "remaining_time": 1.653692178,
                        "test": [
                          126547478.3
                        ]
                      },
                      {
                        "learn": [
                          61258973.29
                        ],
                        "iteration": 824,
                        "passed_time": 7.747165,
                        "remaining_time": 1.64333803,
                        "test": [
                          126542413.5
                        ]
                      },
                      {
                        "learn": [
                          61258624.04
                        ],
                        "iteration": 825,
                        "passed_time": 7.752171565,
                        "remaining_time": 1.633024034,
                        "test": [
                          126550351.2
                        ]
                      },
                      {
                        "learn": [
                          61226807.73
                        ],
                        "iteration": 826,
                        "passed_time": 7.759540452,
                        "remaining_time": 1.623217047,
                        "test": [
                          126537252.2
                        ]
                      },
                      {
                        "learn": [
                          61205274.78
                        ],
                        "iteration": 827,
                        "passed_time": 7.766363203,
                        "remaining_time": 1.613302501,
                        "test": [
                          126570038.2
                        ]
                      },
                      {
                        "learn": [
                          61196244.31
                        ],
                        "iteration": 828,
                        "passed_time": 7.773283615,
                        "remaining_time": 1.603415559,
                        "test": [
                          126586963.4
                        ]
                      },
                      {
                        "learn": [
                          61190572.48
                        ],
                        "iteration": 829,
                        "passed_time": 7.780633398,
                        "remaining_time": 1.593623708,
                        "test": [
                          126595392.9
                        ]
                      },
                      {
                        "learn": [
                          61178556.66
                        ],
                        "iteration": 830,
                        "passed_time": 7.788910255,
                        "remaining_time": 1.584026273,
                        "test": [
                          126590549.4
                        ]
                      },
                      {
                        "learn": [
                          61173347.79
                        ],
                        "iteration": 831,
                        "passed_time": 7.798719656,
                        "remaining_time": 1.574741469,
                        "test": [
                          126585540.7
                        ]
                      },
                      {
                        "learn": [
                          61152593.78
                        ],
                        "iteration": 832,
                        "passed_time": 7.803987132,
                        "remaining_time": 1.564544839,
                        "test": [
                          126588525.8
                        ]
                      },
                      {
                        "learn": [
                          61124275.4
                        ],
                        "iteration": 833,
                        "passed_time": 7.810501166,
                        "remaining_time": 1.554608146,
                        "test": [
                          126612331.9
                        ]
                      },
                      {
                        "learn": [
                          61111444.33
                        ],
                        "iteration": 834,
                        "passed_time": 7.816482857,
                        "remaining_time": 1.544574457,
                        "test": [
                          126666221.4
                        ]
                      },
                      {
                        "learn": [
                          61061414.05
                        ],
                        "iteration": 835,
                        "passed_time": 7.823912703,
                        "remaining_time": 1.534834549,
                        "test": [
                          126686932.7
                        ]
                      },
                      {
                        "learn": [
                          61014349.38
                        ],
                        "iteration": 836,
                        "passed_time": 7.830656073,
                        "remaining_time": 1.524966475,
                        "test": [
                          126739722.3
                        ]
                      },
                      {
                        "learn": [
                          61005597.4
                        ],
                        "iteration": 837,
                        "passed_time": 7.836435486,
                        "remaining_time": 1.514919509,
                        "test": [
                          126739027.7
                        ]
                      },
                      {
                        "learn": [
                          60987987.06
                        ],
                        "iteration": 838,
                        "passed_time": 7.841816066,
                        "remaining_time": 1.504806182,
                        "test": [
                          126725659.5
                        ]
                      },
                      {
                        "learn": [
                          60980289.84
                        ],
                        "iteration": 839,
                        "passed_time": 7.849631512,
                        "remaining_time": 1.495167907,
                        "test": [
                          126732933.9
                        ]
                      },
                      {
                        "learn": [
                          60970724.63
                        ],
                        "iteration": 840,
                        "passed_time": 7.855916826,
                        "remaining_time": 1.485244679,
                        "test": [
                          126692031.7
                        ]
                      },
                      {
                        "learn": [
                          60970246.82
                        ],
                        "iteration": 841,
                        "passed_time": 7.861324541,
                        "remaining_time": 1.475165413,
                        "test": [
                          126691045.3
                        ]
                      },
                      {
                        "learn": [
                          60957077.3
                        ],
                        "iteration": 842,
                        "passed_time": 7.867362296,
                        "remaining_time": 1.465214568,
                        "test": [
                          126661659.5
                        ]
                      },
                      {
                        "learn": [
                          60935081.42
                        ],
                        "iteration": 843,
                        "passed_time": 7.874343304,
                        "remaining_time": 1.455447341,
                        "test": [
                          126606450.6
                        ]
                      },
                      {
                        "learn": [
                          60927763.62
                        ],
                        "iteration": 844,
                        "passed_time": 7.881689567,
                        "remaining_time": 1.445753708,
                        "test": [
                          126623923.1
                        ]
                      },
                      {
                        "learn": [
                          60920639.66
                        ],
                        "iteration": 845,
                        "passed_time": 7.887859873,
                        "remaining_time": 1.435851561,
                        "test": [
                          126613008.5
                        ]
                      },
                      {
                        "learn": [
                          60895910.08
                        ],
                        "iteration": 846,
                        "passed_time": 7.893804613,
                        "remaining_time": 1.42591748,
                        "test": [
                          126652747.3
                        ]
                      },
                      {
                        "learn": [
                          60891628.65
                        ],
                        "iteration": 847,
                        "passed_time": 7.897074633,
                        "remaining_time": 1.415513378,
                        "test": [
                          126654998.5
                        ]
                      },
                      {
                        "learn": [
                          60881948.36
                        ],
                        "iteration": 848,
                        "passed_time": 7.901577711,
                        "remaining_time": 1.405345388,
                        "test": [
                          126655261
                        ]
                      },
                      {
                        "learn": [
                          60836504.59
                        ],
                        "iteration": 849,
                        "passed_time": 7.907303871,
                        "remaining_time": 1.395406565,
                        "test": [
                          126698583
                        ]
                      },
                      {
                        "learn": [
                          60828260.49
                        ],
                        "iteration": 850,
                        "passed_time": 7.913352445,
                        "remaining_time": 1.385534094,
                        "test": [
                          126705960.1
                        ]
                      },
                      {
                        "learn": [
                          60804451.52
                        ],
                        "iteration": 851,
                        "passed_time": 7.920867386,
                        "remaining_time": 1.375925321,
                        "test": [
                          126690410.3
                        ]
                      },
                      {
                        "learn": [
                          60773380.4
                        ],
                        "iteration": 852,
                        "passed_time": 7.927841953,
                        "remaining_time": 1.366228332,
                        "test": [
                          126714834.6
                        ]
                      },
                      {
                        "learn": [
                          60755434.61
                        ],
                        "iteration": 853,
                        "passed_time": 7.934969909,
                        "remaining_time": 1.356563942,
                        "test": [
                          126715115.3
                        ]
                      },
                      {
                        "learn": [
                          60724703.96
                        ],
                        "iteration": 854,
                        "passed_time": 7.940940431,
                        "remaining_time": 1.346709196,
                        "test": [
                          126737312.6
                        ]
                      },
                      {
                        "learn": [
                          60723913.89
                        ],
                        "iteration": 855,
                        "passed_time": 7.946463824,
                        "remaining_time": 1.336788307,
                        "test": [
                          126736121.6
                        ]
                      },
                      {
                        "learn": [
                          60707992.1
                        ],
                        "iteration": 856,
                        "passed_time": 7.961621882,
                        "remaining_time": 1.328485331,
                        "test": [
                          126721185.2
                        ]
                      },
                      {
                        "learn": [
                          60699966.47
                        ],
                        "iteration": 857,
                        "passed_time": 7.974777236,
                        "remaining_time": 1.319834927,
                        "test": [
                          126723730.1
                        ]
                      },
                      {
                        "learn": [
                          60674938.25
                        ],
                        "iteration": 858,
                        "passed_time": 7.985631087,
                        "remaining_time": 1.310796255,
                        "test": [
                          126720512.7
                        ]
                      },
                      {
                        "learn": [
                          60659097.2
                        ],
                        "iteration": 859,
                        "passed_time": 7.990960216,
                        "remaining_time": 1.300853989,
                        "test": [
                          126716293.7
                        ]
                      },
                      {
                        "learn": [
                          60654815.32
                        ],
                        "iteration": 860,
                        "passed_time": 7.997943304,
                        "remaining_time": 1.291189453,
                        "test": [
                          126728767.5
                        ]
                      },
                      {
                        "learn": [
                          60639095.81
                        ],
                        "iteration": 861,
                        "passed_time": 8.003387439,
                        "remaining_time": 1.281284764,
                        "test": [
                          126743833.9
                        ]
                      },
                      {
                        "learn": [
                          60624378.57
                        ],
                        "iteration": 862,
                        "passed_time": 8.009917519,
                        "remaining_time": 1.271562804,
                        "test": [
                          126729407.3
                        ]
                      },
                      {
                        "learn": [
                          60595278.07
                        ],
                        "iteration": 863,
                        "passed_time": 8.016444626,
                        "remaining_time": 1.261847765,
                        "test": [
                          126713578.9
                        ]
                      },
                      {
                        "learn": [
                          60566778.17
                        ],
                        "iteration": 864,
                        "passed_time": 8.021316002,
                        "remaining_time": 1.251881688,
                        "test": [
                          126671550.5
                        ]
                      },
                      {
                        "learn": [
                          60512038.4
                        ],
                        "iteration": 865,
                        "passed_time": 8.029090431,
                        "remaining_time": 1.242376579,
                        "test": [
                          126698089.8
                        ]
                      },
                      {
                        "learn": [
                          60482354.25
                        ],
                        "iteration": 866,
                        "passed_time": 8.035616872,
                        "remaining_time": 1.232684018,
                        "test": [
                          126711328.8
                        ]
                      },
                      {
                        "learn": [
                          60480923.65
                        ],
                        "iteration": 867,
                        "passed_time": 8.04241565,
                        "remaining_time": 1.223040168,
                        "test": [
                          126713531
                        ]
                      },
                      {
                        "learn": [
                          60471601.79
                        ],
                        "iteration": 868,
                        "passed_time": 8.047211206,
                        "remaining_time": 1.213100884,
                        "test": [
                          126687312.3
                        ]
                      },
                      {
                        "learn": [
                          60461079.45
                        ],
                        "iteration": 869,
                        "passed_time": 8.054103114,
                        "remaining_time": 1.203486672,
                        "test": [
                          126686299
                        ]
                      },
                      {
                        "learn": [
                          60448064.79
                        ],
                        "iteration": 870,
                        "passed_time": 8.060978609,
                        "remaining_time": 1.193876281,
                        "test": [
                          126727498
                        ]
                      },
                      {
                        "learn": [
                          60432875.32
                        ],
                        "iteration": 871,
                        "passed_time": 8.066553494,
                        "remaining_time": 1.184081247,
                        "test": [
                          126743498.2
                        ]
                      },
                      {
                        "learn": [
                          60413251.78
                        ],
                        "iteration": 872,
                        "passed_time": 8.073283611,
                        "remaining_time": 1.174463939,
                        "test": [
                          126738460.6
                        ]
                      },
                      {
                        "learn": [
                          60405973.94
                        ],
                        "iteration": 873,
                        "passed_time": 8.078413377,
                        "remaining_time": 1.164622523,
                        "test": [
                          126745135.4
                        ]
                      },
                      {
                        "learn": [
                          60394889.11
                        ],
                        "iteration": 874,
                        "passed_time": 8.08303074,
                        "remaining_time": 1.154718677,
                        "test": [
                          126744651.6
                        ]
                      },
                      {
                        "learn": [
                          60384943.51
                        ],
                        "iteration": 875,
                        "passed_time": 8.088708295,
                        "remaining_time": 1.144976973,
                        "test": [
                          126743922
                        ]
                      },
                      {
                        "learn": [
                          60364263.73
                        ],
                        "iteration": 876,
                        "passed_time": 8.094964686,
                        "remaining_time": 1.13532572,
                        "test": [
                          126745687
                        ]
                      },
                      {
                        "learn": [
                          60361669.56
                        ],
                        "iteration": 877,
                        "passed_time": 8.101121532,
                        "remaining_time": 1.125668368,
                        "test": [
                          126749930.1
                        ]
                      },
                      {
                        "learn": [
                          60332459.22
                        ],
                        "iteration": 878,
                        "passed_time": 8.136191863,
                        "remaining_time": 1.119999107,
                        "test": [
                          126750962.5
                        ]
                      },
                      {
                        "learn": [
                          60324622.92
                        ],
                        "iteration": 879,
                        "passed_time": 8.147889049,
                        "remaining_time": 1.111075779,
                        "test": [
                          126750167.7
                        ]
                      },
                      {
                        "learn": [
                          60316380.1
                        ],
                        "iteration": 880,
                        "passed_time": 8.16606064,
                        "remaining_time": 1.103020677,
                        "test": [
                          126750552.2
                        ]
                      },
                      {
                        "learn": [
                          60302689.93
                        ],
                        "iteration": 881,
                        "passed_time": 8.18024478,
                        "remaining_time": 1.094409166,
                        "test": [
                          126752130.6
                        ]
                      },
                      {
                        "learn": [
                          60291494.9
                        ],
                        "iteration": 882,
                        "passed_time": 8.187217851,
                        "remaining_time": 1.084829545,
                        "test": [
                          126752787.2
                        ]
                      },
                      {
                        "learn": [
                          60285415.11
                        ],
                        "iteration": 883,
                        "passed_time": 8.194599159,
                        "remaining_time": 1.075309392,
                        "test": [
                          126749569
                        ]
                      },
                      {
                        "learn": [
                          60214025.99
                        ],
                        "iteration": 884,
                        "passed_time": 8.200112527,
                        "remaining_time": 1.065551345,
                        "test": [
                          126775002.1
                        ]
                      },
                      {
                        "learn": [
                          60208380.26
                        ],
                        "iteration": 885,
                        "passed_time": 8.205020245,
                        "remaining_time": 1.055724953,
                        "test": [
                          126778945.8
                        ]
                      },
                      {
                        "learn": [
                          60188841.43
                        ],
                        "iteration": 886,
                        "passed_time": 8.21210443,
                        "remaining_time": 1.046186923,
                        "test": [
                          126805353.2
                        ]
                      },
                      {
                        "learn": [
                          60179317.91
                        ],
                        "iteration": 887,
                        "passed_time": 8.217733943,
                        "remaining_time": 1.036470948,
                        "test": [
                          126802072.4
                        ]
                      },
                      {
                        "learn": [
                          60165323.88
                        ],
                        "iteration": 888,
                        "passed_time": 8.225247505,
                        "remaining_time": 1.026999407,
                        "test": [
                          126805958.1
                        ]
                      },
                      {
                        "learn": [
                          60161080.52
                        ],
                        "iteration": 889,
                        "passed_time": 8.231148094,
                        "remaining_time": 1.017332911,
                        "test": [
                          126806768.6
                        ]
                      },
                      {
                        "learn": [
                          60116326.62
                        ],
                        "iteration": 890,
                        "passed_time": 8.238288953,
                        "remaining_time": 1.007826595,
                        "test": [
                          126824726.8
                        ]
                      },
                      {
                        "learn": [
                          60078659.92
                        ],
                        "iteration": 891,
                        "passed_time": 8.245013784,
                        "remaining_time": 0.9982752115,
                        "test": [
                          126785345.3
                        ]
                      },
                      {
                        "learn": [
                          60033699.74
                        ],
                        "iteration": 892,
                        "passed_time": 8.252103518,
                        "remaining_time": 0.9887738818,
                        "test": [
                          126776302
                        ]
                      },
                      {
                        "learn": [
                          60008831.2
                        ],
                        "iteration": 893,
                        "passed_time": 8.258605352,
                        "remaining_time": 0.9792082409,
                        "test": [
                          126782141.2
                        ]
                      },
                      {
                        "learn": [
                          59978143.11
                        ],
                        "iteration": 894,
                        "passed_time": 8.265317775,
                        "remaining_time": 0.9696741523,
                        "test": [
                          126766697
                        ]
                      },
                      {
                        "learn": [
                          59967519.39
                        ],
                        "iteration": 895,
                        "passed_time": 8.271509086,
                        "remaining_time": 0.960085876,
                        "test": [
                          126770786.7
                        ]
                      },
                      {
                        "learn": [
                          59955169.74
                        ],
                        "iteration": 896,
                        "passed_time": 8.278400115,
                        "remaining_time": 0.9505855204,
                        "test": [
                          126738340.5
                        ]
                      },
                      {
                        "learn": [
                          59946539.16
                        ],
                        "iteration": 897,
                        "passed_time": 8.284588876,
                        "remaining_time": 0.9410112087,
                        "test": [
                          126734405.2
                        ]
                      },
                      {
                        "learn": [
                          59935448.7
                        ],
                        "iteration": 898,
                        "passed_time": 8.290063337,
                        "remaining_time": 0.9313641792,
                        "test": [
                          126732626.6
                        ]
                      },
                      {
                        "learn": [
                          59929502.28
                        ],
                        "iteration": 899,
                        "passed_time": 8.295602526,
                        "remaining_time": 0.921733614,
                        "test": [
                          126747286.5
                        ]
                      },
                      {
                        "learn": [
                          59920391.71
                        ],
                        "iteration": 900,
                        "passed_time": 8.302020149,
                        "remaining_time": 0.9122086512,
                        "test": [
                          126760006.6
                        ]
                      },
                      {
                        "learn": [
                          59909999.47
                        ],
                        "iteration": 901,
                        "passed_time": 8.310236968,
                        "remaining_time": 0.9028860564,
                        "test": [
                          126774485.5
                        ]
                      },
                      {
                        "learn": [
                          59904438.62
                        ],
                        "iteration": 902,
                        "passed_time": 8.315871593,
                        "remaining_time": 0.8932885322,
                        "test": [
                          126774610.4
                        ]
                      },
                      {
                        "learn": [
                          59873380.37
                        ],
                        "iteration": 903,
                        "passed_time": 8.323259872,
                        "remaining_time": 0.8838860041,
                        "test": [
                          126776066.2
                        ]
                      },
                      {
                        "learn": [
                          59834814.55
                        ],
                        "iteration": 904,
                        "passed_time": 8.329339628,
                        "remaining_time": 0.8743505686,
                        "test": [
                          126772896.2
                        ]
                      },
                      {
                        "learn": [
                          59809290.13
                        ],
                        "iteration": 905,
                        "passed_time": 8.338196392,
                        "remaining_time": 0.865110884,
                        "test": [
                          126772838.3
                        ]
                      },
                      {
                        "learn": [
                          59800030.71
                        ],
                        "iteration": 906,
                        "passed_time": 8.343261447,
                        "remaining_time": 0.8554832575,
                        "test": [
                          126772837
                        ]
                      },
                      {
                        "learn": [
                          59769168.66
                        ],
                        "iteration": 907,
                        "passed_time": 8.349641972,
                        "remaining_time": 0.8459989663,
                        "test": [
                          126788563.3
                        ]
                      },
                      {
                        "learn": [
                          59741987.36
                        ],
                        "iteration": 908,
                        "passed_time": 8.35527206,
                        "remaining_time": 0.8364463778,
                        "test": [
                          126798230.6
                        ]
                      },
                      {
                        "learn": [
                          59718602.41
                        ],
                        "iteration": 909,
                        "passed_time": 8.359233205,
                        "remaining_time": 0.8267373499,
                        "test": [
                          126807570.9
                        ]
                      },
                      {
                        "learn": [
                          59717704.89
                        ],
                        "iteration": 910,
                        "passed_time": 8.365234172,
                        "remaining_time": 0.817240221,
                        "test": [
                          126806177
                        ]
                      },
                      {
                        "learn": [
                          59702903.74
                        ],
                        "iteration": 911,
                        "passed_time": 8.370986923,
                        "remaining_time": 0.8077268083,
                        "test": [
                          126805566.5
                        ]
                      },
                      {
                        "learn": [
                          59677189.73
                        ],
                        "iteration": 912,
                        "passed_time": 8.376281339,
                        "remaining_time": 0.7981779589,
                        "test": [
                          126829612.3
                        ]
                      },
                      {
                        "learn": [
                          59663922.77
                        ],
                        "iteration": 913,
                        "passed_time": 8.380158678,
                        "remaining_time": 0.7885050835,
                        "test": [
                          126832230.6
                        ]
                      },
                      {
                        "learn": [
                          59663285.77
                        ],
                        "iteration": 914,
                        "passed_time": 8.385397932,
                        "remaining_time": 0.7789713926,
                        "test": [
                          126827033.5
                        ]
                      },
                      {
                        "learn": [
                          59642778.51
                        ],
                        "iteration": 915,
                        "passed_time": 8.390203152,
                        "remaining_time": 0.7694072759,
                        "test": [
                          126815087.5
                        ]
                      },
                      {
                        "learn": [
                          59614651.32
                        ],
                        "iteration": 916,
                        "passed_time": 8.39799176,
                        "remaining_time": 0.7601235726,
                        "test": [
                          126830921.8
                        ]
                      },
                      {
                        "learn": [
                          59607696.09
                        ],
                        "iteration": 917,
                        "passed_time": 8.404874236,
                        "remaining_time": 0.7507621867,
                        "test": [
                          126827797.4
                        ]
                      },
                      {
                        "learn": [
                          59607518.67
                        ],
                        "iteration": 918,
                        "passed_time": 8.412209096,
                        "remaining_time": 0.7414460683,
                        "test": [
                          126829133.6
                        ]
                      },
                      {
                        "learn": [
                          59600711.5
                        ],
                        "iteration": 919,
                        "passed_time": 8.416943875,
                        "remaining_time": 0.7319081631,
                        "test": [
                          126841850.4
                        ]
                      },
                      {
                        "learn": [
                          59581118.76
                        ],
                        "iteration": 920,
                        "passed_time": 8.421922448,
                        "remaining_time": 0.7224015998,
                        "test": [
                          126874550.8
                        ]
                      },
                      {
                        "learn": [
                          59576450.4
                        ],
                        "iteration": 921,
                        "passed_time": 8.427506789,
                        "remaining_time": 0.7129561058,
                        "test": [
                          126870286.6
                        ]
                      },
                      {
                        "learn": [
                          59557096.65
                        ],
                        "iteration": 922,
                        "passed_time": 8.433659363,
                        "remaining_time": 0.7035663824,
                        "test": [
                          126867654.7
                        ]
                      },
                      {
                        "learn": [
                          59546637.8
                        ],
                        "iteration": 923,
                        "passed_time": 8.439348304,
                        "remaining_time": 0.6941455315,
                        "test": [
                          126885271.6
                        ]
                      },
                      {
                        "learn": [
                          59546437.83
                        ],
                        "iteration": 924,
                        "passed_time": 8.444773588,
                        "remaining_time": 0.684711372,
                        "test": [
                          126885589
                        ]
                      },
                      {
                        "learn": [
                          59546301.45
                        ],
                        "iteration": 925,
                        "passed_time": 8.450409952,
                        "remaining_time": 0.6753027391,
                        "test": [
                          126880483.8
                        ]
                      },
                      {
                        "learn": [
                          59505818.94
                        ],
                        "iteration": 926,
                        "passed_time": 8.45723213,
                        "remaining_time": 0.6659956262,
                        "test": [
                          126862364.3
                        ]
                      },
                      {
                        "learn": [
                          59481940.16
                        ],
                        "iteration": 927,
                        "passed_time": 8.464642383,
                        "remaining_time": 0.6567394952,
                        "test": [
                          126882589
                        ]
                      },
                      {
                        "learn": [
                          59481509.28
                        ],
                        "iteration": 928,
                        "passed_time": 8.472103018,
                        "remaining_time": 0.6474911886,
                        "test": [
                          126881904.2
                        ]
                      },
                      {
                        "learn": [
                          59463075.92
                        ],
                        "iteration": 929,
                        "passed_time": 8.477675569,
                        "remaining_time": 0.6381046127,
                        "test": [
                          126884195.4
                        ]
                      },
                      {
                        "learn": [
                          59445707.55
                        ],
                        "iteration": 930,
                        "passed_time": 8.484155121,
                        "remaining_time": 0.6287934515,
                        "test": [
                          126878334.9
                        ]
                      },
                      {
                        "learn": [
                          59431965.62
                        ],
                        "iteration": 931,
                        "passed_time": 8.490981631,
                        "remaining_time": 0.6195136812,
                        "test": [
                          126866219.4
                        ]
                      },
                      {
                        "learn": [
                          59428166.34
                        ],
                        "iteration": 932,
                        "passed_time": 8.497248426,
                        "remaining_time": 0.610198976,
                        "test": [
                          126867270.8
                        ]
                      },
                      {
                        "learn": [
                          59420972.4
                        ],
                        "iteration": 933,
                        "passed_time": 8.506100239,
                        "remaining_time": 0.6010734645,
                        "test": [
                          126861594.8
                        ]
                      },
                      {
                        "learn": [
                          59387800.58
                        ],
                        "iteration": 934,
                        "passed_time": 8.514928368,
                        "remaining_time": 0.5919468919,
                        "test": [
                          126825663.1
                        ]
                      },
                      {
                        "learn": [
                          59348899.77
                        ],
                        "iteration": 935,
                        "passed_time": 8.52055196,
                        "remaining_time": 0.5826018434,
                        "test": [
                          126778940.9
                        ]
                      },
                      {
                        "learn": [
                          59332482.55
                        ],
                        "iteration": 936,
                        "passed_time": 8.526980517,
                        "remaining_time": 0.5733188608,
                        "test": [
                          126776633.5
                        ]
                      },
                      {
                        "learn": [
                          59328505.09
                        ],
                        "iteration": 937,
                        "passed_time": 8.532808691,
                        "remaining_time": 0.5640022802,
                        "test": [
                          126783418.1
                        ]
                      },
                      {
                        "learn": [
                          59304821.88
                        ],
                        "iteration": 938,
                        "passed_time": 8.540833705,
                        "remaining_time": 0.5548358424,
                        "test": [
                          126763371.7
                        ]
                      },
                      {
                        "learn": [
                          59303968.44
                        ],
                        "iteration": 939,
                        "passed_time": 8.547719834,
                        "remaining_time": 0.5455991383,
                        "test": [
                          126757375.7
                        ]
                      },
                      {
                        "learn": [
                          59298711.16
                        ],
                        "iteration": 940,
                        "passed_time": 8.552679739,
                        "remaining_time": 0.5362466574,
                        "test": [
                          126758110.8
                        ]
                      },
                      {
                        "learn": [
                          59272476.75
                        ],
                        "iteration": 941,
                        "passed_time": 8.559608919,
                        "remaining_time": 0.527024753,
                        "test": [
                          126733401.2
                        ]
                      },
                      {
                        "learn": [
                          59265956.87
                        ],
                        "iteration": 942,
                        "passed_time": 8.565856079,
                        "remaining_time": 0.5177664862,
                        "test": [
                          126707123.5
                        ]
                      },
                      {
                        "learn": [
                          59239063.3
                        ],
                        "iteration": 943,
                        "passed_time": 8.572367014,
                        "remaining_time": 0.5085302466,
                        "test": [
                          126714947.9
                        ]
                      },
                      {
                        "learn": [
                          59219901.58
                        ],
                        "iteration": 944,
                        "passed_time": 8.57689763,
                        "remaining_time": 0.4991845182,
                        "test": [
                          126735020.4
                        ]
                      },
                      {
                        "learn": [
                          59214044.84
                        ],
                        "iteration": 945,
                        "passed_time": 8.582177746,
                        "remaining_time": 0.4898917529,
                        "test": [
                          126728773.9
                        ]
                      },
                      {
                        "learn": [
                          59213901.32
                        ],
                        "iteration": 946,
                        "passed_time": 8.587209331,
                        "remaining_time": 0.4805935529,
                        "test": [
                          126732678.7
                        ]
                      },
                      {
                        "learn": [
                          59185039.8
                        ],
                        "iteration": 947,
                        "passed_time": 8.593678228,
                        "remaining_time": 0.4713831939,
                        "test": [
                          126716800.3
                        ]
                      },
                      {
                        "learn": [
                          59156669.96
                        ],
                        "iteration": 948,
                        "passed_time": 8.599733629,
                        "remaining_time": 0.462156391,
                        "test": [
                          126685434
                        ]
                      },
                      {
                        "learn": [
                          59156105.4
                        ],
                        "iteration": 949,
                        "passed_time": 8.608457674,
                        "remaining_time": 0.4530767197,
                        "test": [
                          126681469.1
                        ]
                      },
                      {
                        "learn": [
                          59146775.5
                        ],
                        "iteration": 950,
                        "passed_time": 8.615472714,
                        "remaining_time": 0.4439097403,
                        "test": [
                          126676745.9
                        ]
                      },
                      {
                        "learn": [
                          59143267.3
                        ],
                        "iteration": 951,
                        "passed_time": 8.620807099,
                        "remaining_time": 0.4346625428,
                        "test": [
                          126682217.2
                        ]
                      },
                      {
                        "learn": [
                          59138471.93
                        ],
                        "iteration": 952,
                        "passed_time": 8.626972566,
                        "remaining_time": 0.4254645442,
                        "test": [
                          126677356.5
                        ]
                      },
                      {
                        "learn": [
                          59099007.51
                        ],
                        "iteration": 953,
                        "passed_time": 8.633942916,
                        "remaining_time": 0.4163117129,
                        "test": [
                          126674759.2
                        ]
                      },
                      {
                        "learn": [
                          59088184.68
                        ],
                        "iteration": 954,
                        "passed_time": 8.640976162,
                        "remaining_time": 0.407166416,
                        "test": [
                          126684555
                        ]
                      },
                      {
                        "learn": [
                          59052316.66
                        ],
                        "iteration": 955,
                        "passed_time": 8.648231545,
                        "remaining_time": 0.3980357615,
                        "test": [
                          126684565.7
                        ]
                      },
                      {
                        "learn": [
                          59038959.41
                        ],
                        "iteration": 956,
                        "passed_time": 8.655649546,
                        "remaining_time": 0.3889163328,
                        "test": [
                          126663776.4
                        ]
                      },
                      {
                        "learn": [
                          59035760.99
                        ],
                        "iteration": 957,
                        "passed_time": 8.665143319,
                        "remaining_time": 0.3798914608,
                        "test": [
                          126658945.4
                        ]
                      },
                      {
                        "learn": [
                          59020198.87
                        ],
                        "iteration": 958,
                        "passed_time": 8.672734968,
                        "remaining_time": 0.3707842896,
                        "test": [
                          126655781.3
                        ]
                      },
                      {
                        "learn": [
                          59013359.23
                        ],
                        "iteration": 959,
                        "passed_time": 8.679150899,
                        "remaining_time": 0.3616312875,
                        "test": [
                          126648889.5
                        ]
                      },
                      {
                        "learn": [
                          58997769.22
                        ],
                        "iteration": 960,
                        "passed_time": 8.686860461,
                        "remaining_time": 0.3525364807,
                        "test": [
                          126670948.1
                        ]
                      },
                      {
                        "learn": [
                          58961016.18
                        ],
                        "iteration": 961,
                        "passed_time": 8.694173071,
                        "remaining_time": 0.3434288739,
                        "test": [
                          126671201.3
                        ]
                      },
                      {
                        "learn": [
                          58951127.65
                        ],
                        "iteration": 962,
                        "passed_time": 8.699981483,
                        "remaining_time": 0.3342672013,
                        "test": [
                          126669414.7
                        ]
                      },
                      {
                        "learn": [
                          58925074.26
                        ],
                        "iteration": 963,
                        "passed_time": 8.708462697,
                        "remaining_time": 0.3252122999,
                        "test": [
                          126687008
                        ]
                      },
                      {
                        "learn": [
                          58916630.49
                        ],
                        "iteration": 964,
                        "passed_time": 8.716136053,
                        "remaining_time": 0.3161292869,
                        "test": [
                          126684943.2
                        ]
                      },
                      {
                        "learn": [
                          58916041.82
                        ],
                        "iteration": 965,
                        "passed_time": 8.72135389,
                        "remaining_time": 0.3069627663,
                        "test": [
                          126678478.1
                        ]
                      },
                      {
                        "learn": [
                          58897003.08
                        ],
                        "iteration": 966,
                        "passed_time": 8.727975985,
                        "remaining_time": 0.2978523345,
                        "test": [
                          126685441
                        ]
                      },
                      {
                        "learn": [
                          58869242.24
                        ],
                        "iteration": 967,
                        "passed_time": 8.734423937,
                        "remaining_time": 0.2887412872,
                        "test": [
                          126675862.6
                        ]
                      },
                      {
                        "learn": [
                          58852197.45
                        ],
                        "iteration": 968,
                        "passed_time": 8.741231195,
                        "remaining_time": 0.2796472312,
                        "test": [
                          126683041.5
                        ]
                      },
                      {
                        "learn": [
                          58843424.07
                        ],
                        "iteration": 969,
                        "passed_time": 8.747549096,
                        "remaining_time": 0.2705427555,
                        "test": [
                          126690719.2
                        ]
                      },
                      {
                        "learn": [
                          58812332.83
                        ],
                        "iteration": 970,
                        "passed_time": 8.753533534,
                        "remaining_time": 0.2614340602,
                        "test": [
                          126708272.4
                        ]
                      },
                      {
                        "learn": [
                          58791438.66
                        ],
                        "iteration": 971,
                        "passed_time": 8.759093613,
                        "remaining_time": 0.2523195691,
                        "test": [
                          126704840.2
                        ]
                      },
                      {
                        "learn": [
                          58781765.61
                        ],
                        "iteration": 972,
                        "passed_time": 8.766298959,
                        "remaining_time": 0.2432580389,
                        "test": [
                          126710533.2
                        ]
                      },
                      {
                        "learn": [
                          58769749.69
                        ],
                        "iteration": 973,
                        "passed_time": 8.774189707,
                        "remaining_time": 0.2342186164,
                        "test": [
                          126696109.1
                        ]
                      },
                      {
                        "learn": [
                          58763066.39
                        ],
                        "iteration": 974,
                        "passed_time": 8.782059111,
                        "remaining_time": 0.2251810028,
                        "test": [
                          126705288.4
                        ]
                      },
                      {
                        "learn": [
                          58733567.58
                        ],
                        "iteration": 975,
                        "passed_time": 8.790622473,
                        "remaining_time": 0.2161628477,
                        "test": [
                          126707158.7
                        ]
                      },
                      {
                        "learn": [
                          58715279.56
                        ],
                        "iteration": 976,
                        "passed_time": 8.797085399,
                        "remaining_time": 0.2070961762,
                        "test": [
                          126714647.7
                        ]
                      },
                      {
                        "learn": [
                          58694569.94
                        ],
                        "iteration": 977,
                        "passed_time": 8.802753128,
                        "remaining_time": 0.1980169415,
                        "test": [
                          126696710.3
                        ]
                      },
                      {
                        "learn": [
                          58691441.46
                        ],
                        "iteration": 978,
                        "passed_time": 8.808419509,
                        "remaining_time": 0.1889446473,
                        "test": [
                          126705886.7
                        ]
                      },
                      {
                        "learn": [
                          58685978.85
                        ],
                        "iteration": 979,
                        "passed_time": 8.816036643,
                        "remaining_time": 0.1799191152,
                        "test": [
                          126705763.8
                        ]
                      },
                      {
                        "learn": [
                          58680092.77
                        ],
                        "iteration": 980,
                        "passed_time": 8.821102835,
                        "remaining_time": 0.1708470478,
                        "test": [
                          126705600.1
                        ]
                      },
                      {
                        "learn": [
                          58657184.09
                        ],
                        "iteration": 981,
                        "passed_time": 8.826757822,
                        "remaining_time": 0.1617939316,
                        "test": [
                          126713372.3
                        ]
                      },
                      {
                        "learn": [
                          58644322.62
                        ],
                        "iteration": 982,
                        "passed_time": 8.8332967,
                        "remaining_time": 0.1527630152,
                        "test": [
                          126727817.2
                        ]
                      },
                      {
                        "learn": [
                          58633080.16
                        ],
                        "iteration": 983,
                        "passed_time": 8.840499482,
                        "remaining_time": 0.1437479591,
                        "test": [
                          126719896.4
                        ]
                      },
                      {
                        "learn": [
                          58607435.72
                        ],
                        "iteration": 984,
                        "passed_time": 8.848157989,
                        "remaining_time": 0.1347435227,
                        "test": [
                          126717294.8
                        ]
                      },
                      {
                        "learn": [
                          58604743.36
                        ],
                        "iteration": 985,
                        "passed_time": 8.855238636,
                        "remaining_time": 0.1257336115,
                        "test": [
                          126731850.1
                        ]
                      },
                      {
                        "learn": [
                          58575841.35
                        ],
                        "iteration": 986,
                        "passed_time": 8.861453624,
                        "remaining_time": 0.1167162078,
                        "test": [
                          126744219
                        ]
                      },
                      {
                        "learn": [
                          58573811.92
                        ],
                        "iteration": 987,
                        "passed_time": 8.866861693,
                        "remaining_time": 0.1076946764,
                        "test": [
                          126741836.6
                        ]
                      },
                      {
                        "learn": [
                          58565693.42
                        ],
                        "iteration": 988,
                        "passed_time": 8.874786527,
                        "remaining_time": 0.09870844469,
                        "test": [
                          126729928.7
                        ]
                      },
                      {
                        "learn": [
                          58561218.79
                        ],
                        "iteration": 989,
                        "passed_time": 8.88030137,
                        "remaining_time": 0.08970001384,
                        "test": [
                          126727558.2
                        ]
                      },
                      {
                        "learn": [
                          58552932.78
                        ],
                        "iteration": 990,
                        "passed_time": 8.888154754,
                        "remaining_time": 0.08071987163,
                        "test": [
                          126725241.5
                        ]
                      },
                      {
                        "learn": [
                          58531951.68
                        ],
                        "iteration": 991,
                        "passed_time": 8.893832711,
                        "remaining_time": 0.07172445735,
                        "test": [
                          126725992.1
                        ]
                      },
                      {
                        "learn": [
                          58506377.51
                        ],
                        "iteration": 992,
                        "passed_time": 8.898767303,
                        "remaining_time": 0.06273048451,
                        "test": [
                          126719654.9
                        ]
                      },
                      {
                        "learn": [
                          58498966.44
                        ],
                        "iteration": 993,
                        "passed_time": 8.905044055,
                        "remaining_time": 0.05375278102,
                        "test": [
                          126716039.8
                        ]
                      },
                      {
                        "learn": [
                          58489028.49
                        ],
                        "iteration": 994,
                        "passed_time": 8.911055298,
                        "remaining_time": 0.04477917235,
                        "test": [
                          126714457.8
                        ]
                      },
                      {
                        "learn": [
                          58455907.56
                        ],
                        "iteration": 995,
                        "passed_time": 8.918155324,
                        "remaining_time": 0.03581588484,
                        "test": [
                          126674313.2
                        ]
                      },
                      {
                        "learn": [
                          58451818.82
                        ],
                        "iteration": 996,
                        "passed_time": 8.922307362,
                        "remaining_time": 0.02684746448,
                        "test": [
                          126675375.5
                        ]
                      },
                      {
                        "learn": [
                          58439337.31
                        ],
                        "iteration": 997,
                        "passed_time": 8.929044129,
                        "remaining_time": 0.01789387601,
                        "test": [
                          126670243.5
                        ]
                      },
                      {
                        "learn": [
                          58410341.2
                        ],
                        "iteration": 998,
                        "passed_time": 8.935862105,
                        "remaining_time": 0.008944806912,
                        "test": [
                          126674330.9
                        ]
                      },
                      {
                        "learn": [
                          58388225.17
                        ],
                        "iteration": 999,
                        "passed_time": 8.941219245,
                        "remaining_time": 0,
                        "test": [
                          126702727.7
                        ]
                      }
                    ],
                    "meta": {
                      "test_sets": [
                        "test"
                      ],
                      "test_metrics": [
                        {
                          "best_value": "Min",
                          "name": "RMSE"
                        }
                      ],
                      "learn_metrics": [
                        {
                          "best_value": "Min",
                          "name": "RMSE"
                        }
                      ],
                      "launch_mode": "Train",
                      "parameters": "",
                      "iteration_count": 1000,
                      "learn_sets": [
                        "learn"
                      ],
                      "name": "experiment"
                    }
                  }
                }
              }
            },
            "layout": "IPY_MODEL_55f62b5272b04478abef52445332c37b"
          }
        }
      }
    }
  },
  "cells": [
    {
      "cell_type": "code",
      "execution_count": 42,
      "metadata": {
        "colab": {
          "base_uri": "https://localhost:8080/"
        },
        "id": "kLyCtFu8tqTj",
        "outputId": "8c8dc23d-97f9-4be6-ab2f-c8ab658bd67b"
      },
      "outputs": [
        {
          "output_type": "stream",
          "name": "stdout",
          "text": [
            "Requirement already satisfied: catboost in /usr/local/lib/python3.10/dist-packages (1.2.7)\n",
            "Requirement already satisfied: graphviz in /usr/local/lib/python3.10/dist-packages (from catboost) (0.20.3)\n",
            "Requirement already satisfied: matplotlib in /usr/local/lib/python3.10/dist-packages (from catboost) (3.8.0)\n",
            "Requirement already satisfied: numpy<2.0,>=1.16.0 in /usr/local/lib/python3.10/dist-packages (from catboost) (1.26.4)\n",
            "Requirement already satisfied: pandas>=0.24 in /usr/local/lib/python3.10/dist-packages (from catboost) (2.2.2)\n",
            "Requirement already satisfied: scipy in /usr/local/lib/python3.10/dist-packages (from catboost) (1.13.1)\n",
            "Requirement already satisfied: plotly in /usr/local/lib/python3.10/dist-packages (from catboost) (5.24.1)\n",
            "Requirement already satisfied: six in /usr/local/lib/python3.10/dist-packages (from catboost) (1.17.0)\n",
            "Requirement already satisfied: python-dateutil>=2.8.2 in /usr/local/lib/python3.10/dist-packages (from pandas>=0.24->catboost) (2.8.2)\n",
            "Requirement already satisfied: pytz>=2020.1 in /usr/local/lib/python3.10/dist-packages (from pandas>=0.24->catboost) (2024.2)\n",
            "Requirement already satisfied: tzdata>=2022.7 in /usr/local/lib/python3.10/dist-packages (from pandas>=0.24->catboost) (2024.2)\n",
            "Requirement already satisfied: contourpy>=1.0.1 in /usr/local/lib/python3.10/dist-packages (from matplotlib->catboost) (1.3.1)\n",
            "Requirement already satisfied: cycler>=0.10 in /usr/local/lib/python3.10/dist-packages (from matplotlib->catboost) (0.12.1)\n",
            "Requirement already satisfied: fonttools>=4.22.0 in /usr/local/lib/python3.10/dist-packages (from matplotlib->catboost) (4.55.3)\n",
            "Requirement already satisfied: kiwisolver>=1.0.1 in /usr/local/lib/python3.10/dist-packages (from matplotlib->catboost) (1.4.7)\n",
            "Requirement already satisfied: packaging>=20.0 in /usr/local/lib/python3.10/dist-packages (from matplotlib->catboost) (24.2)\n",
            "Requirement already satisfied: pillow>=6.2.0 in /usr/local/lib/python3.10/dist-packages (from matplotlib->catboost) (11.0.0)\n",
            "Requirement already satisfied: pyparsing>=2.3.1 in /usr/local/lib/python3.10/dist-packages (from matplotlib->catboost) (3.2.0)\n",
            "Requirement already satisfied: tenacity>=6.2.0 in /usr/local/lib/python3.10/dist-packages (from plotly->catboost) (9.0.0)\n",
            "Requirement already satisfied: pandas in /usr/local/lib/python3.10/dist-packages (2.2.2)\n",
            "Requirement already satisfied: numpy in /usr/local/lib/python3.10/dist-packages (1.26.4)\n",
            "Requirement already satisfied: matplotlib in /usr/local/lib/python3.10/dist-packages (3.8.0)\n",
            "Requirement already satisfied: scikit-learn in /usr/local/lib/python3.10/dist-packages (1.5.2)\n",
            "Requirement already satisfied: python-dateutil>=2.8.2 in /usr/local/lib/python3.10/dist-packages (from pandas) (2.8.2)\n",
            "Requirement already satisfied: pytz>=2020.1 in /usr/local/lib/python3.10/dist-packages (from pandas) (2024.2)\n",
            "Requirement already satisfied: tzdata>=2022.7 in /usr/local/lib/python3.10/dist-packages (from pandas) (2024.2)\n",
            "Requirement already satisfied: contourpy>=1.0.1 in /usr/local/lib/python3.10/dist-packages (from matplotlib) (1.3.1)\n",
            "Requirement already satisfied: cycler>=0.10 in /usr/local/lib/python3.10/dist-packages (from matplotlib) (0.12.1)\n",
            "Requirement already satisfied: fonttools>=4.22.0 in /usr/local/lib/python3.10/dist-packages (from matplotlib) (4.55.3)\n",
            "Requirement already satisfied: kiwisolver>=1.0.1 in /usr/local/lib/python3.10/dist-packages (from matplotlib) (1.4.7)\n",
            "Requirement already satisfied: packaging>=20.0 in /usr/local/lib/python3.10/dist-packages (from matplotlib) (24.2)\n",
            "Requirement already satisfied: pillow>=6.2.0 in /usr/local/lib/python3.10/dist-packages (from matplotlib) (11.0.0)\n",
            "Requirement already satisfied: pyparsing>=2.3.1 in /usr/local/lib/python3.10/dist-packages (from matplotlib) (3.2.0)\n",
            "Requirement already satisfied: scipy>=1.6.0 in /usr/local/lib/python3.10/dist-packages (from scikit-learn) (1.13.1)\n",
            "Requirement already satisfied: joblib>=1.2.0 in /usr/local/lib/python3.10/dist-packages (from scikit-learn) (1.4.2)\n",
            "Requirement already satisfied: threadpoolctl>=3.1.0 in /usr/local/lib/python3.10/dist-packages (from scikit-learn) (3.5.0)\n",
            "Requirement already satisfied: six>=1.5 in /usr/local/lib/python3.10/dist-packages (from python-dateutil>=2.8.2->pandas) (1.17.0)\n"
          ]
        }
      ],
      "source": [
        "!pip install catboost\n",
        "!pip install pandas numpy matplotlib scikit-learn"
      ]
    },
    {
      "cell_type": "code",
      "source": [
        "import pandas as pd\n",
        "import numpy as np\n",
        "import matplotlib.pyplot as plt\n",
        "from sklearn.model_selection import train_test_split\n",
        "from catboost import CatBoostRegressor, Pool\n",
        "from sklearn.metrics import mean_squared_error, r2_score"
      ],
      "metadata": {
        "id": "6pwx9FYFttuG"
      },
      "execution_count": 43,
      "outputs": []
    },
    {
      "cell_type": "markdown",
      "source": [],
      "metadata": {
        "id": "x4N4vWxIrgEp"
      }
    },
    {
      "cell_type": "code",
      "source": [
        "df = pd.read_csv('movie_final_dataset1.csv')\n",
        "\n",
        "df.head()\n",
        "#print(df.shape)\n"
      ],
      "metadata": {
        "colab": {
          "base_uri": "https://localhost:8080/",
          "height": 724
        },
        "id": "I4ab-4hht2iv",
        "outputId": "32a58e88-4b66-4774-f29d-799088eb0565"
      },
      "execution_count": 44,
      "outputs": [
        {
          "output_type": "execute_result",
          "data": {
            "text/plain": [
              "       id                             title                            genres  \\\n",
              "0  615656                 Meg 2: The Trench     Action-Science Fiction-Horror   \n",
              "1  758323               The Pope's Exorcist           Horror-Mystery-Thriller   \n",
              "2  533535              Deadpool & Wolverine     Action-Comedy-Science Fiction   \n",
              "3  667538  Transformers: Rise of the Beasts  Action-Adventure-Science Fiction   \n",
              "4  693134                    Dune: Part Two         Science Fiction-Adventure   \n",
              "\n",
              "  original_language                                           overview  \\\n",
              "0                en  An exploratory dive into the deepest depths of...   \n",
              "1                en  Father Gabriele Amorth Chief Exorcist of the V...   \n",
              "2                en  A listless Wade Wilson toils away in civilian ...   \n",
              "3                en  When a new threat capable of destroying the en...   \n",
              "4                en  Follow the mythic journey of Paul Atreides as ...   \n",
              "\n",
              "   popularity                               production_companies release_date  \\\n",
              "0    8763.998  Apelles Entertainment-Warner Bros. Pictures-di...   2023-08-02   \n",
              "1    5953.227  Screen Gems-2.0 Entertainment-Jesus & Mary-Wor...   2023-04-05   \n",
              "2    5410.496  Marvel Studios-Maximum Effort-21 Laps Entertai...   2024-07-24   \n",
              "3    5409.104  Skydance-Paramount-di Bonaventura Pictures-Bay...   2023-06-06   \n",
              "4    4742.163                                 Legendary Pictures   2024-02-27   \n",
              "\n",
              "        budget     revenue  ...  Western Metro-Goldwyn-Mayer Paramount  \\\n",
              "0  129000000.0   352056482  ...        0                   0         0   \n",
              "1   18000000.0    65675816  ...        0                   0         0   \n",
              "2  200000000.0  1326387384  ...        0                   0         0   \n",
              "3  200000000.0   407045464  ...        0                   0         1   \n",
              "4  190000000.0   683813734  ...        0                   0         0   \n",
              "\n",
              "   Warner Bros. Pictures  20th Century Fox Universal Pictures  \\\n",
              "0                      1                 0                  0   \n",
              "1                      0                 0                  0   \n",
              "2                      0                 0                  0   \n",
              "3                      0                 0                  0   \n",
              "4                      0                 0                  0   \n",
              "\n",
              "  Columbia Pictures  Walt Disney Productions         ROI      first_genre  \n",
              "0                 0                        0  172.912002           Action  \n",
              "1                 0                        0  264.865644           Horror  \n",
              "2                 0                        0  563.193692           Action  \n",
              "3                 0                        0  103.522732           Action  \n",
              "4                 0                        0  259.901965  Science Fiction  \n",
              "\n",
              "[5 rows x 48 columns]"
            ],
            "text/html": [
              "\n",
              "  <div id=\"df-8488573e-96d6-463c-8c0f-5a753364f43e\" class=\"colab-df-container\">\n",
              "    <div>\n",
              "<style scoped>\n",
              "    .dataframe tbody tr th:only-of-type {\n",
              "        vertical-align: middle;\n",
              "    }\n",
              "\n",
              "    .dataframe tbody tr th {\n",
              "        vertical-align: top;\n",
              "    }\n",
              "\n",
              "    .dataframe thead th {\n",
              "        text-align: right;\n",
              "    }\n",
              "</style>\n",
              "<table border=\"1\" class=\"dataframe\">\n",
              "  <thead>\n",
              "    <tr style=\"text-align: right;\">\n",
              "      <th></th>\n",
              "      <th>id</th>\n",
              "      <th>title</th>\n",
              "      <th>genres</th>\n",
              "      <th>original_language</th>\n",
              "      <th>overview</th>\n",
              "      <th>popularity</th>\n",
              "      <th>production_companies</th>\n",
              "      <th>release_date</th>\n",
              "      <th>budget</th>\n",
              "      <th>revenue</th>\n",
              "      <th>...</th>\n",
              "      <th>Western</th>\n",
              "      <th>Metro-Goldwyn-Mayer</th>\n",
              "      <th>Paramount</th>\n",
              "      <th>Warner Bros. Pictures</th>\n",
              "      <th>20th Century Fox</th>\n",
              "      <th>Universal Pictures</th>\n",
              "      <th>Columbia Pictures</th>\n",
              "      <th>Walt Disney Productions</th>\n",
              "      <th>ROI</th>\n",
              "      <th>first_genre</th>\n",
              "    </tr>\n",
              "  </thead>\n",
              "  <tbody>\n",
              "    <tr>\n",
              "      <th>0</th>\n",
              "      <td>615656</td>\n",
              "      <td>Meg 2: The Trench</td>\n",
              "      <td>Action-Science Fiction-Horror</td>\n",
              "      <td>en</td>\n",
              "      <td>An exploratory dive into the deepest depths of...</td>\n",
              "      <td>8763.998</td>\n",
              "      <td>Apelles Entertainment-Warner Bros. Pictures-di...</td>\n",
              "      <td>2023-08-02</td>\n",
              "      <td>129000000.0</td>\n",
              "      <td>352056482</td>\n",
              "      <td>...</td>\n",
              "      <td>0</td>\n",
              "      <td>0</td>\n",
              "      <td>0</td>\n",
              "      <td>1</td>\n",
              "      <td>0</td>\n",
              "      <td>0</td>\n",
              "      <td>0</td>\n",
              "      <td>0</td>\n",
              "      <td>172.912002</td>\n",
              "      <td>Action</td>\n",
              "    </tr>\n",
              "    <tr>\n",
              "      <th>1</th>\n",
              "      <td>758323</td>\n",
              "      <td>The Pope's Exorcist</td>\n",
              "      <td>Horror-Mystery-Thriller</td>\n",
              "      <td>en</td>\n",
              "      <td>Father Gabriele Amorth Chief Exorcist of the V...</td>\n",
              "      <td>5953.227</td>\n",
              "      <td>Screen Gems-2.0 Entertainment-Jesus &amp; Mary-Wor...</td>\n",
              "      <td>2023-04-05</td>\n",
              "      <td>18000000.0</td>\n",
              "      <td>65675816</td>\n",
              "      <td>...</td>\n",
              "      <td>0</td>\n",
              "      <td>0</td>\n",
              "      <td>0</td>\n",
              "      <td>0</td>\n",
              "      <td>0</td>\n",
              "      <td>0</td>\n",
              "      <td>0</td>\n",
              "      <td>0</td>\n",
              "      <td>264.865644</td>\n",
              "      <td>Horror</td>\n",
              "    </tr>\n",
              "    <tr>\n",
              "      <th>2</th>\n",
              "      <td>533535</td>\n",
              "      <td>Deadpool &amp; Wolverine</td>\n",
              "      <td>Action-Comedy-Science Fiction</td>\n",
              "      <td>en</td>\n",
              "      <td>A listless Wade Wilson toils away in civilian ...</td>\n",
              "      <td>5410.496</td>\n",
              "      <td>Marvel Studios-Maximum Effort-21 Laps Entertai...</td>\n",
              "      <td>2024-07-24</td>\n",
              "      <td>200000000.0</td>\n",
              "      <td>1326387384</td>\n",
              "      <td>...</td>\n",
              "      <td>0</td>\n",
              "      <td>0</td>\n",
              "      <td>0</td>\n",
              "      <td>0</td>\n",
              "      <td>0</td>\n",
              "      <td>0</td>\n",
              "      <td>0</td>\n",
              "      <td>0</td>\n",
              "      <td>563.193692</td>\n",
              "      <td>Action</td>\n",
              "    </tr>\n",
              "    <tr>\n",
              "      <th>3</th>\n",
              "      <td>667538</td>\n",
              "      <td>Transformers: Rise of the Beasts</td>\n",
              "      <td>Action-Adventure-Science Fiction</td>\n",
              "      <td>en</td>\n",
              "      <td>When a new threat capable of destroying the en...</td>\n",
              "      <td>5409.104</td>\n",
              "      <td>Skydance-Paramount-di Bonaventura Pictures-Bay...</td>\n",
              "      <td>2023-06-06</td>\n",
              "      <td>200000000.0</td>\n",
              "      <td>407045464</td>\n",
              "      <td>...</td>\n",
              "      <td>0</td>\n",
              "      <td>0</td>\n",
              "      <td>1</td>\n",
              "      <td>0</td>\n",
              "      <td>0</td>\n",
              "      <td>0</td>\n",
              "      <td>0</td>\n",
              "      <td>0</td>\n",
              "      <td>103.522732</td>\n",
              "      <td>Action</td>\n",
              "    </tr>\n",
              "    <tr>\n",
              "      <th>4</th>\n",
              "      <td>693134</td>\n",
              "      <td>Dune: Part Two</td>\n",
              "      <td>Science Fiction-Adventure</td>\n",
              "      <td>en</td>\n",
              "      <td>Follow the mythic journey of Paul Atreides as ...</td>\n",
              "      <td>4742.163</td>\n",
              "      <td>Legendary Pictures</td>\n",
              "      <td>2024-02-27</td>\n",
              "      <td>190000000.0</td>\n",
              "      <td>683813734</td>\n",
              "      <td>...</td>\n",
              "      <td>0</td>\n",
              "      <td>0</td>\n",
              "      <td>0</td>\n",
              "      <td>0</td>\n",
              "      <td>0</td>\n",
              "      <td>0</td>\n",
              "      <td>0</td>\n",
              "      <td>0</td>\n",
              "      <td>259.901965</td>\n",
              "      <td>Science Fiction</td>\n",
              "    </tr>\n",
              "  </tbody>\n",
              "</table>\n",
              "<p>5 rows × 48 columns</p>\n",
              "</div>\n",
              "    <div class=\"colab-df-buttons\">\n",
              "\n",
              "  <div class=\"colab-df-container\">\n",
              "    <button class=\"colab-df-convert\" onclick=\"convertToInteractive('df-8488573e-96d6-463c-8c0f-5a753364f43e')\"\n",
              "            title=\"Convert this dataframe to an interactive table.\"\n",
              "            style=\"display:none;\">\n",
              "\n",
              "  <svg xmlns=\"http://www.w3.org/2000/svg\" height=\"24px\" viewBox=\"0 -960 960 960\">\n",
              "    <path d=\"M120-120v-720h720v720H120Zm60-500h600v-160H180v160Zm220 220h160v-160H400v160Zm0 220h160v-160H400v160ZM180-400h160v-160H180v160Zm440 0h160v-160H620v160ZM180-180h160v-160H180v160Zm440 0h160v-160H620v160Z\"/>\n",
              "  </svg>\n",
              "    </button>\n",
              "\n",
              "  <style>\n",
              "    .colab-df-container {\n",
              "      display:flex;\n",
              "      gap: 12px;\n",
              "    }\n",
              "\n",
              "    .colab-df-convert {\n",
              "      background-color: #E8F0FE;\n",
              "      border: none;\n",
              "      border-radius: 50%;\n",
              "      cursor: pointer;\n",
              "      display: none;\n",
              "      fill: #1967D2;\n",
              "      height: 32px;\n",
              "      padding: 0 0 0 0;\n",
              "      width: 32px;\n",
              "    }\n",
              "\n",
              "    .colab-df-convert:hover {\n",
              "      background-color: #E2EBFA;\n",
              "      box-shadow: 0px 1px 2px rgba(60, 64, 67, 0.3), 0px 1px 3px 1px rgba(60, 64, 67, 0.15);\n",
              "      fill: #174EA6;\n",
              "    }\n",
              "\n",
              "    .colab-df-buttons div {\n",
              "      margin-bottom: 4px;\n",
              "    }\n",
              "\n",
              "    [theme=dark] .colab-df-convert {\n",
              "      background-color: #3B4455;\n",
              "      fill: #D2E3FC;\n",
              "    }\n",
              "\n",
              "    [theme=dark] .colab-df-convert:hover {\n",
              "      background-color: #434B5C;\n",
              "      box-shadow: 0px 1px 3px 1px rgba(0, 0, 0, 0.15);\n",
              "      filter: drop-shadow(0px 1px 2px rgba(0, 0, 0, 0.3));\n",
              "      fill: #FFFFFF;\n",
              "    }\n",
              "  </style>\n",
              "\n",
              "    <script>\n",
              "      const buttonEl =\n",
              "        document.querySelector('#df-8488573e-96d6-463c-8c0f-5a753364f43e button.colab-df-convert');\n",
              "      buttonEl.style.display =\n",
              "        google.colab.kernel.accessAllowed ? 'block' : 'none';\n",
              "\n",
              "      async function convertToInteractive(key) {\n",
              "        const element = document.querySelector('#df-8488573e-96d6-463c-8c0f-5a753364f43e');\n",
              "        const dataTable =\n",
              "          await google.colab.kernel.invokeFunction('convertToInteractive',\n",
              "                                                    [key], {});\n",
              "        if (!dataTable) return;\n",
              "\n",
              "        const docLinkHtml = 'Like what you see? Visit the ' +\n",
              "          '<a target=\"_blank\" href=https://colab.research.google.com/notebooks/data_table.ipynb>data table notebook</a>'\n",
              "          + ' to learn more about interactive tables.';\n",
              "        element.innerHTML = '';\n",
              "        dataTable['output_type'] = 'display_data';\n",
              "        await google.colab.output.renderOutput(dataTable, element);\n",
              "        const docLink = document.createElement('div');\n",
              "        docLink.innerHTML = docLinkHtml;\n",
              "        element.appendChild(docLink);\n",
              "      }\n",
              "    </script>\n",
              "  </div>\n",
              "\n",
              "\n",
              "<div id=\"df-9c34f986-e0d7-483e-b123-57cef70b36c8\">\n",
              "  <button class=\"colab-df-quickchart\" onclick=\"quickchart('df-9c34f986-e0d7-483e-b123-57cef70b36c8')\"\n",
              "            title=\"Suggest charts\"\n",
              "            style=\"display:none;\">\n",
              "\n",
              "<svg xmlns=\"http://www.w3.org/2000/svg\" height=\"24px\"viewBox=\"0 0 24 24\"\n",
              "     width=\"24px\">\n",
              "    <g>\n",
              "        <path d=\"M19 3H5c-1.1 0-2 .9-2 2v14c0 1.1.9 2 2 2h14c1.1 0 2-.9 2-2V5c0-1.1-.9-2-2-2zM9 17H7v-7h2v7zm4 0h-2V7h2v10zm4 0h-2v-4h2v4z\"/>\n",
              "    </g>\n",
              "</svg>\n",
              "  </button>\n",
              "\n",
              "<style>\n",
              "  .colab-df-quickchart {\n",
              "      --bg-color: #E8F0FE;\n",
              "      --fill-color: #1967D2;\n",
              "      --hover-bg-color: #E2EBFA;\n",
              "      --hover-fill-color: #174EA6;\n",
              "      --disabled-fill-color: #AAA;\n",
              "      --disabled-bg-color: #DDD;\n",
              "  }\n",
              "\n",
              "  [theme=dark] .colab-df-quickchart {\n",
              "      --bg-color: #3B4455;\n",
              "      --fill-color: #D2E3FC;\n",
              "      --hover-bg-color: #434B5C;\n",
              "      --hover-fill-color: #FFFFFF;\n",
              "      --disabled-bg-color: #3B4455;\n",
              "      --disabled-fill-color: #666;\n",
              "  }\n",
              "\n",
              "  .colab-df-quickchart {\n",
              "    background-color: var(--bg-color);\n",
              "    border: none;\n",
              "    border-radius: 50%;\n",
              "    cursor: pointer;\n",
              "    display: none;\n",
              "    fill: var(--fill-color);\n",
              "    height: 32px;\n",
              "    padding: 0;\n",
              "    width: 32px;\n",
              "  }\n",
              "\n",
              "  .colab-df-quickchart:hover {\n",
              "    background-color: var(--hover-bg-color);\n",
              "    box-shadow: 0 1px 2px rgba(60, 64, 67, 0.3), 0 1px 3px 1px rgba(60, 64, 67, 0.15);\n",
              "    fill: var(--button-hover-fill-color);\n",
              "  }\n",
              "\n",
              "  .colab-df-quickchart-complete:disabled,\n",
              "  .colab-df-quickchart-complete:disabled:hover {\n",
              "    background-color: var(--disabled-bg-color);\n",
              "    fill: var(--disabled-fill-color);\n",
              "    box-shadow: none;\n",
              "  }\n",
              "\n",
              "  .colab-df-spinner {\n",
              "    border: 2px solid var(--fill-color);\n",
              "    border-color: transparent;\n",
              "    border-bottom-color: var(--fill-color);\n",
              "    animation:\n",
              "      spin 1s steps(1) infinite;\n",
              "  }\n",
              "\n",
              "  @keyframes spin {\n",
              "    0% {\n",
              "      border-color: transparent;\n",
              "      border-bottom-color: var(--fill-color);\n",
              "      border-left-color: var(--fill-color);\n",
              "    }\n",
              "    20% {\n",
              "      border-color: transparent;\n",
              "      border-left-color: var(--fill-color);\n",
              "      border-top-color: var(--fill-color);\n",
              "    }\n",
              "    30% {\n",
              "      border-color: transparent;\n",
              "      border-left-color: var(--fill-color);\n",
              "      border-top-color: var(--fill-color);\n",
              "      border-right-color: var(--fill-color);\n",
              "    }\n",
              "    40% {\n",
              "      border-color: transparent;\n",
              "      border-right-color: var(--fill-color);\n",
              "      border-top-color: var(--fill-color);\n",
              "    }\n",
              "    60% {\n",
              "      border-color: transparent;\n",
              "      border-right-color: var(--fill-color);\n",
              "    }\n",
              "    80% {\n",
              "      border-color: transparent;\n",
              "      border-right-color: var(--fill-color);\n",
              "      border-bottom-color: var(--fill-color);\n",
              "    }\n",
              "    90% {\n",
              "      border-color: transparent;\n",
              "      border-bottom-color: var(--fill-color);\n",
              "    }\n",
              "  }\n",
              "</style>\n",
              "\n",
              "  <script>\n",
              "    async function quickchart(key) {\n",
              "      const quickchartButtonEl =\n",
              "        document.querySelector('#' + key + ' button');\n",
              "      quickchartButtonEl.disabled = true;  // To prevent multiple clicks.\n",
              "      quickchartButtonEl.classList.add('colab-df-spinner');\n",
              "      try {\n",
              "        const charts = await google.colab.kernel.invokeFunction(\n",
              "            'suggestCharts', [key], {});\n",
              "      } catch (error) {\n",
              "        console.error('Error during call to suggestCharts:', error);\n",
              "      }\n",
              "      quickchartButtonEl.classList.remove('colab-df-spinner');\n",
              "      quickchartButtonEl.classList.add('colab-df-quickchart-complete');\n",
              "    }\n",
              "    (() => {\n",
              "      let quickchartButtonEl =\n",
              "        document.querySelector('#df-9c34f986-e0d7-483e-b123-57cef70b36c8 button');\n",
              "      quickchartButtonEl.style.display =\n",
              "        google.colab.kernel.accessAllowed ? 'block' : 'none';\n",
              "    })();\n",
              "  </script>\n",
              "</div>\n",
              "\n",
              "    </div>\n",
              "  </div>\n"
            ],
            "application/vnd.google.colaboratory.intrinsic+json": {
              "type": "dataframe"
            }
          },
          "metadata": {},
          "execution_count": 44
        }
      ]
    },
    {
      "cell_type": "code",
      "source": [
        "print(df.columns)"
      ],
      "metadata": {
        "colab": {
          "base_uri": "https://localhost:8080/"
        },
        "id": "JrRTw8UL32hc",
        "outputId": "ed1a0bc6-2996-439c-fb76-3dbfe6727729"
      },
      "execution_count": 45,
      "outputs": [
        {
          "output_type": "stream",
          "name": "stdout",
          "text": [
            "Index(['id', 'title', 'genres', 'original_language', 'overview', 'popularity',\n",
            "       'production_companies', 'release_date', 'budget', 'revenue', 'runtime',\n",
            "       'status', 'tagline', 'vote_average', 'vote_count', 'credits',\n",
            "       'keywords', 'year', 'month', 'day', 'Action', 'Adventure', 'Animation',\n",
            "       'Comedy', 'Crime', 'Documentary', 'Drama', 'Family', 'Fantasy',\n",
            "       'History', 'Horror', 'Music', 'Mystery', 'Romance', 'Science Fiction',\n",
            "       'TV Movie', 'Thriller', 'War', 'Western', 'Metro-Goldwyn-Mayer',\n",
            "       'Paramount', 'Warner Bros. Pictures', '20th Century Fox',\n",
            "       'Universal Pictures', 'Columbia Pictures', 'Walt Disney Productions',\n",
            "       'ROI', 'first_genre'],\n",
            "      dtype='object')\n"
          ]
        }
      ]
    },
    {
      "cell_type": "code",
      "source": [
        "df['budget_million'] = df['budget'] * 1000\n"
      ],
      "metadata": {
        "id": "VU4KPHIpXp0F"
      },
      "execution_count": 46,
      "outputs": []
    },
    {
      "cell_type": "code",
      "source": [
        "genre = ['Action', 'Adventure', 'Animation', 'Comedy', 'Crime', 'Documentary', 'Drama', 'Family', 'Fantasy', 'History', 'Horror', 'Music', 'Mystery', 'Romance', 'Science Fiction', 'TV Movie', 'Thriller', 'War', 'Western']\n",
        "\n",
        "production_company = [ 'Metro-Goldwyn-Mayer', 'Paramount', 'Warner Bros. Pictures', '20th Century Fox', 'Universal Pictures', 'Columbia Pictures', 'Walt Disney Productions']\n",
        "\n",
        "\n",
        "\n",
        "X = df[genre + production_company + ['budget', 'year', 'month', 'runtime']]\n",
        "y = df['revenue']"
      ],
      "metadata": {
        "id": "_-qb5XR46iG2"
      },
      "execution_count": 47,
      "outputs": []
    },
    {
      "cell_type": "code",
      "source": [
        "X = df[['genres','production_companies','budget', 'year', 'month', 'runtime']]\n",
        "y = df['revenue']"
      ],
      "metadata": {
        "id": "7Dzafl9uUOFx"
      },
      "execution_count": 48,
      "outputs": []
    },
    {
      "cell_type": "code",
      "source": [
        "from sklearn.preprocessing import MinMaxScaler\n",
        "\n",
        "scaler = MinMaxScaler()\n",
        "\n",
        "numerical_features = ['budget', 'runtime']\n",
        "normalized_data = scaler.fit_transform(df[numerical_features])\n",
        "normalized_df = pd.DataFrame(normalized_data, columns=numerical_features)\n"
      ],
      "metadata": {
        "id": "n8WmwnnSba0M"
      },
      "execution_count": 49,
      "outputs": []
    },
    {
      "cell_type": "code",
      "source": [
        "X = pd.concat([\n",
        "    df[['genres', 'production_companies']],\n",
        "    df[['year']],\n",
        "    normalized_df\n",
        "], axis=1)\n",
        "\n",
        "y = df['revenue']\n"
      ],
      "metadata": {
        "id": "8oCbGC93yDmd"
      },
      "execution_count": 53,
      "outputs": []
    },
    {
      "cell_type": "code",
      "source": [
        "cat_features = [0, 1]\n"
      ],
      "metadata": {
        "id": "0AZQWzw-yGbb"
      },
      "execution_count": 54,
      "outputs": []
    },
    {
      "cell_type": "code",
      "source": [
        "from sklearn.model_selection import train_test_split\n",
        "from catboost import CatBoostRegressor\n",
        "from sklearn.metrics import mean_squared_error\n",
        "import numpy as np\n",
        "\n",
        "X_train, X_test, y_train, y_test = train_test_split(X, y, test_size=0.2, random_state=42)\n",
        "\n",
        "model = CatBoostRegressor(\n",
        "    iterations=1000,\n",
        "    depth=6,\n",
        "    learning_rate=0.1,\n",
        "    loss_function='RMSE',\n",
        "    verbose=100\n",
        ")\n",
        "\n",
        "model.fit(\n",
        "    X_train, y_train,\n",
        "    cat_features=cat_features,\n",
        "    eval_set=(X_test, y_test),\n",
        "    plot=True\n",
        ")\n",
        "\n",
        "y_pred = model.predict(X_test)\n",
        "rmse = np.sqrt(mean_squared_error(y_test, y_pred))\n",
        "r2 = r2_score(y_test, y_pred)\n",
        "\n",
        "print(f\"Test RMSE: {rmse}\")\n",
        "print(f\"Test R²: {r2}\")"
      ],
      "metadata": {
        "colab": {
          "base_uri": "https://localhost:8080/",
          "height": 329,
          "referenced_widgets": [
            "546ed804a14347f3a5d140cff417a56f"
          ]
        },
        "id": "jnl8boKEykpU",
        "outputId": "985b3f07-6667-4692-978a-1dc2ace584cb"
      },
      "execution_count": 66,
      "outputs": [
        {
          "output_type": "display_data",
          "data": {
            "text/plain": [
              "MetricVisualizer(layout=Layout(align_self='stretch', height='500px'))"
            ],
            "application/vnd.jupyter.widget-view+json": {
              "version_major": 2,
              "version_minor": 0,
              "model_id": "546ed804a14347f3a5d140cff417a56f"
            }
          },
          "metadata": {}
        },
        {
          "output_type": "stream",
          "name": "stdout",
          "text": [
            "0:\tlearn: 146964998.5064998\ttest: 180079862.2359127\tbest: 180079862.2359127 (0)\ttotal: 21.9ms\tremaining: 21.9s\n",
            "100:\tlearn: 87171466.2675885\ttest: 122294583.3487842\tbest: 121788787.6712428 (61)\ttotal: 1.21s\tremaining: 10.7s\n",
            "200:\tlearn: 79672821.0038646\ttest: 124163001.6777270\tbest: 121788787.6712428 (61)\ttotal: 1.77s\tremaining: 7.03s\n",
            "300:\tlearn: 75292621.2891836\ttest: 124657895.5083475\tbest: 121788787.6712428 (61)\ttotal: 2.36s\tremaining: 5.47s\n",
            "400:\tlearn: 71729318.3809736\ttest: 125193346.2910876\tbest: 121788787.6712428 (61)\ttotal: 3.23s\tremaining: 4.83s\n",
            "500:\tlearn: 68706332.5570094\ttest: 125345957.6851379\tbest: 121788787.6712428 (61)\ttotal: 4.7s\tremaining: 4.68s\n",
            "600:\tlearn: 65812368.1958612\ttest: 125880885.1912921\tbest: 121788787.6712428 (61)\ttotal: 6.26s\tremaining: 4.16s\n",
            "700:\tlearn: 63724752.3074746\ttest: 126013346.5980063\tbest: 121788787.6712428 (61)\ttotal: 6.88s\tremaining: 2.94s\n",
            "800:\tlearn: 61732621.8637507\ttest: 126488235.7114290\tbest: 121788787.6712428 (61)\ttotal: 7.59s\tremaining: 1.89s\n",
            "900:\tlearn: 59920391.7088690\ttest: 126760006.6335660\tbest: 121788787.6712428 (61)\ttotal: 8.3s\tremaining: 912ms\n",
            "999:\tlearn: 58388225.1727500\ttest: 126702727.7064544\tbest: 121788787.6712428 (61)\ttotal: 8.94s\tremaining: 0us\n",
            "\n",
            "bestTest = 121788787.7\n",
            "bestIteration = 61\n",
            "\n",
            "Shrink model to first 62 iterations.\n",
            "Test RMSE: 121788785.5316017\n",
            "Test R²: 0.5788421534599131\n"
          ]
        }
      ]
    },
    {
      "cell_type": "code",
      "source": [
        "import matplotlib.pyplot as plt\n",
        "import seaborn as sns\n",
        "\n",
        "feature_importance = model.get_feature_importance()\n",
        "feature_names = X.columns\n",
        "\n",
        "importance_df = pd.DataFrame({\n",
        "    'Feature': feature_names,\n",
        "    'Importance': feature_importance\n",
        "}).sort_values(by='Importance', ascending=False)\n",
        "\n",
        "plt.figure(figsize=(10, 6))\n",
        "sns.barplot(x='Importance', y='Feature', data=importance_df, palette='viridis')\n",
        "plt.title('Feature Importance in CatBoost Model')\n",
        "plt.xlabel('Importance Score')\n",
        "plt.ylabel('Features')\n",
        "plt.show()"
      ],
      "metadata": {
        "colab": {
          "base_uri": "https://localhost:8080/",
          "height": 671
        },
        "id": "U0XciQbyzDKD",
        "outputId": "82cfd04c-debe-4416-8f58-33d2d7302826"
      },
      "execution_count": 69,
      "outputs": [
        {
          "output_type": "stream",
          "name": "stderr",
          "text": [
            "<ipython-input-69-9e727e513e15>:13: FutureWarning: \n",
            "\n",
            "Passing `palette` without assigning `hue` is deprecated and will be removed in v0.14.0. Assign the `y` variable to `hue` and set `legend=False` for the same effect.\n",
            "\n",
            "  sns.barplot(x='Importance', y='Feature', data=importance_df, palette='viridis')\n"
          ]
        },
        {
          "output_type": "display_data",
          "data": {
            "text/plain": [
              "<Figure size 1000x600 with 1 Axes>"
            ],
            "image/png": "[encoded data removed]"
          },
          "metadata": {}
        }
      ]
    },
    {
      "cell_type": "code",
      "source": [
        "print(f\"Filtered Revenue Range: {y_train_filtered.min()} - {y_train_filtered.max()}\")\n",
        "\n",
        "import matplotlib.pyplot as plt\n",
        "plt.hist(y_train_filtered, bins=50, edgecolor='k', alpha=0.7)\n",
        "plt.title(\"Filtered Distribution of Revenue\")\n",
        "plt.xlabel(\"Revenue\")\n",
        "plt.ylabel(\"Frequency\")\n",
        "plt.show()\n"
      ],
      "metadata": {
        "colab": {
          "base_uri": "https://localhost:8080/",
          "height": 489
        },
        "id": "7M_8wTEk6lnq",
        "outputId": "7aad7d16-f5dc-44a1-fdc5-9612b53a13bf"
      },
      "execution_count": null,
      "outputs": [
        {
          "output_type": "stream",
          "name": "stdout",
          "text": [
            "Filtered Revenue Range: 2968 - 1023784195\n"
          ]
        },
        {
          "output_type": "display_data",
          "data": {
            "text/plain": [
              "<Figure size 640x480 with 1 Axes>"
            ],
            "image/png": "[encoded data removed]"
          },
          "metadata": {}
        }
      ]
    },
    {
      "cell_type": "code",
      "source": [],
      "metadata": {
        "id": "Zcc5P_SM7mJS"
      },
      "execution_count": null,
      "outputs": []
    }
  ]
}
