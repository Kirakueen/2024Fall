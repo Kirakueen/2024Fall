{
  "cells": [
    {
      "cell_type": "markdown",
      "metadata": {
        "id": "kUNxHn0Irto-"
      },
      "source": [
        "# Data Cleaning"
      ]
    },
    {
      "cell_type": "code",
      "execution_count": 8,
      "metadata": {
        "colab": {
          "base_uri": "https://localhost:8080/"
        },
        "id": "rQfn3CDUCCUz",
        "outputId": "2e5b1241-2d7d-47ae-e4cc-142b0d63845d",
        "scrolled": true
      },
      "outputs": [
        {
          "output_type": "stream",
          "name": "stdout",
          "text": [
            "Requirement already satisfied: pandas in /usr/local/lib/python3.10/dist-packages (2.2.2)\n",
            "Requirement already satisfied: numpy>=1.22.4 in /usr/local/lib/python3.10/dist-packages (from pandas) (1.26.4)\n",
            "Requirement already satisfied: python-dateutil>=2.8.2 in /usr/local/lib/python3.10/dist-packages (from pandas) (2.8.2)\n",
            "Requirement already satisfied: pytz>=2020.1 in /usr/local/lib/python3.10/dist-packages (from pandas) (2024.2)\n",
            "Requirement already satisfied: tzdata>=2022.7 in /usr/local/lib/python3.10/dist-packages (from pandas) (2024.2)\n",
            "Requirement already satisfied: six>=1.5 in /usr/local/lib/python3.10/dist-packages (from python-dateutil>=2.8.2->pandas) (1.17.0)\n"
          ]
        }
      ],
      "source": [
        "!pip install pandas"
      ]
    },
    {
      "cell_type": "code",
      "execution_count": 9,
      "metadata": {
        "id": "dJQEETb2BbdS"
      },
      "outputs": [],
      "source": [
        "import pandas as pd\n"
      ]
    },
    {
      "cell_type": "code",
      "execution_count": 10,
      "metadata": {
        "colab": {
          "base_uri": "https://localhost:8080/"
        },
        "id": "fJS3Oz0DGRkV",
        "outputId": "4ef8f3e4-28cc-4f0c-ddad-ec932ffca1fc"
      },
      "outputs": [
        {
          "output_type": "stream",
          "name": "stdout",
          "text": [
            "       id                              title  \\\n",
            "0  615656                  Meg 2: The Trench   \n",
            "1  758323                The Pope's Exorcist   \n",
            "2  533535               Deadpool & Wolverine   \n",
            "3  667538   Transformers: Rise of the Beasts   \n",
            "4  693134                     Dune: Part Two   \n",
            "5  912649              Venom: The Last Dance   \n",
            "6  640146  Ant-Man and the Wasp: Quantumania   \n",
            "7  677179                          Creed III   \n",
            "8  614479            Insidious: The Red Door   \n",
            "9  519182                    Despicable Me 4   \n",
            "\n",
            "                             genres original_language  \\\n",
            "0     Action-Science Fiction-Horror                en   \n",
            "1           Horror-Mystery-Thriller                en   \n",
            "2     Action-Comedy-Science Fiction                en   \n",
            "3  Action-Adventure-Science Fiction                en   \n",
            "4         Science Fiction-Adventure                en   \n",
            "5  Science Fiction-Action-Adventure                en   \n",
            "6  Action-Adventure-Science Fiction                en   \n",
            "7                      Drama-Action                en   \n",
            "8           Horror-Mystery-Thriller                en   \n",
            "9    Animation-Family-Comedy-Action                en   \n",
            "\n",
            "                                            overview  popularity  \\\n",
            "0  An exploratory dive into the deepest depths of...    8763.998   \n",
            "1  Father Gabriele Amorth Chief Exorcist of the V...    5953.227   \n",
            "2  A listless Wade Wilson toils away in civilian ...    5410.496   \n",
            "3  When a new threat capable of destroying the en...    5409.104   \n",
            "4  Follow the mythic journey of Paul Atreides as ...    4742.163   \n",
            "5  Eddie and Venom are on the run. Hunted by both...    4674.885   \n",
            "6  Super-Hero partners Scott Lang and Hope van Dy...    4425.387   \n",
            "7  After dominating the boxing world Adonis Creed...    3994.342   \n",
            "8  To put their demons to rest once and for all J...    3512.648   \n",
            "9  Gru and Lucy and their girls—Margo Edith and A...    3195.720   \n",
            "\n",
            "                                production_companies release_date  \\\n",
            "0  Apelles Entertainment-Warner Bros. Pictures-di...   2023-08-02   \n",
            "1  Screen Gems-2.0 Entertainment-Jesus & Mary-Wor...   2023-04-05   \n",
            "2  Marvel Studios-Maximum Effort-21 Laps Entertai...   2024-07-24   \n",
            "3  Skydance-Paramount-di Bonaventura Pictures-Bay...   2023-06-06   \n",
            "4                                 Legendary Pictures   2024-02-27   \n",
            "5  Columbia Pictures-Pascal Pictures-Matt Tolmach...   2024-10-22   \n",
            "6             Marvel Studios-Kevin Feige Productions   2023-02-15   \n",
            "7  Metro-Goldwyn-Mayer-Proximity Media-Balboa Pro...   2023-03-01   \n",
            "8  Blumhouse Productions-Stage 6 Films-Screen Gem...   2023-07-05   \n",
            "9  Universal Pictures-Illumination-dentsu-Fuji Te...   2024-06-20   \n",
            "\n",
            "        budget       revenue  runtime    status  \\\n",
            "0  129000000.0  3.520565e+08    116.0  Released   \n",
            "1   18000000.0  6.567582e+07    103.0  Released   \n",
            "2  200000000.0  1.326387e+09    128.0  Released   \n",
            "3  200000000.0  4.070455e+08    127.0  Released   \n",
            "4  190000000.0  6.838137e+08    167.0  Released   \n",
            "5  120000000.0  3.100000e+08    109.0  Released   \n",
            "6  200000000.0  4.757662e+08    125.0  Released   \n",
            "7   75000000.0  2.690000e+08    116.0  Released   \n",
            "8   16000000.0  1.755821e+08    107.0  Released   \n",
            "9  100000000.0  8.103297e+08     94.0  Released   \n",
            "\n",
            "                                             tagline  vote_average  \\\n",
            "0                                  Back for seconds.         7.079   \n",
            "1  Inspired by the actual files of Father Gabriel...         7.433   \n",
            "2                                     Come together.         7.765   \n",
            "3                                     Unite or fall.         7.340   \n",
            "4                            Long live the fighters.         8.300   \n",
            "5                           'Til death do they part.         6.522   \n",
            "6            Witness the beginning of a new dynasty.         6.507   \n",
            "7                      You can't run from your past.         7.262   \n",
            "8                        It ends where it all began.         6.750   \n",
            "9          Things just got a little more despicable.         7.350   \n",
            "\n",
            "   vote_count                                            credits  \\\n",
            "0      1365.0  Jason Statham-Wu Jing-Shuya Sophia Cai-Sergio ...   \n",
            "1       545.0  Russell Crowe-Daniel Zovatto-Alex Essoe-Franco...   \n",
            "2      3749.0  Ryan Reynolds-Hugh Jackman-Emma Corrin-Matthew...   \n",
            "3      1007.0  Anthony Ramos-Dominique Fishback-Luna Lauren V...   \n",
            "4      2770.0  Timothée Chalamet-Zendaya-Rebecca Ferguson-Jav...   \n",
            "5       603.0  Tom Hardy-Chiwetel Ejiofor-Juno Temple-Clark B...   \n",
            "6      2811.0  Paul Rudd-Evangeline Lilly-Jonathan Majors-Kat...   \n",
            "7      1129.0  Michael B. Jordan-Tessa Thompson-Jonathan Majo...   \n",
            "8       564.0  Ty Simpkins-Patrick Wilson-Sinclair Daniel-Ros...   \n",
            "9       984.0  Steve Carell-Kristen Wiig-Will Ferrell-Sofía V...   \n",
            "\n",
            "                                            keywords  \\\n",
            "0                based on novel or book-sequel-kaiju   \n",
            "1  spain-rome italy-vatican-pope-pig-possession-c...   \n",
            "2  hero-superhero-anti hero-mutant-breaking the f...   \n",
            "3  peru-alien-end of the world-based on cartoon-b...   \n",
            "4  epic-based on novel or book-fight-sandstorm-sa...   \n",
            "5  hero-superhero-anti hero-villain-alien life-fo...   \n",
            "6  hero-ant-sequel-superhero-based on comic-famil...   \n",
            "7  philadelphia pennsylvania-husband wife relatio...   \n",
            "8  sequel-demon-franchise-insidious-supernatural ...   \n",
            "9  superhero-villain-sequel-super villain-illumin...   \n",
            "\n",
            "                        poster_path                     backdrop_path  \\\n",
            "0  /4m1Au3YkjqsxF8iwQy0fPYSxE0h.jpg  /qlxy8yo5bcgUw2KAmmojUKp4rHd.jpg   \n",
            "1  /9JBEPLTPSm0d1mbEcLxULjJq9Eh.jpg  /hiHGRbyTcbZoLsYYkO4QiCLYe34.jpg   \n",
            "2  /8cdWjvZQUExUUTzyp4t6EDMubfO.jpg  /dvBCdCohwWbsP5qAaglOXagDMtk.jpg   \n",
            "3  /gPbM0MK8CP8A174rmUwGsADNYKD.jpg  /woJbg7ZqidhpvqFGGMRhWQNoxwa.jpg   \n",
            "4  /czembW0Rk1Ke7lCJGahbOhdCuhV.jpg  /xOMo8BRK7PfcJv9JCnx7s5hj0PX.jpg   \n",
            "5  /aosm8NMQ3UyoBVpSxyimorCQykC.jpg  /3V4kLQg0kSqPLctI5ziYWabAZYF.jpg   \n",
            "6  /qnqGbB22YJ7dSs4o6M7exTpNxPz.jpg  /m8JTwHFwX7I7JY5fPe4SjqejWag.jpg   \n",
            "7  /cvsXj3I9Q2iyyIo95AecSd1tad7.jpg  /5i6SjyDbDWqyun8klUuCxrlFbyw.jpg   \n",
            "8  /azTC5osYiqei1ofw6Z3GmUrxQbi.jpg  /i2GVEvltEu3BXn5crBSxgKuTaca.jpg   \n",
            "9  /wWba3TaojhK7NdycRhoQpsG0FaH.jpg  /lgkPzcOSnTvjeMnuFzozRO5HHw1.jpg   \n",
            "\n",
            "                                     recommendations  \n",
            "0  1006462-298618-569094-1061181-346698-1076487-6...  \n",
            "1  713704-296271-502356-1076605-1084225-1008005-9...  \n",
            "2  573435-519182-957452-1022789-945961-718821-103...  \n",
            "3  496450-569094-298618-385687-877100-598331-4628...  \n",
            "4  438631-763215-792307-1011985-467244-634492-359...  \n",
            "5  1236419-1141182-1034541-1184918-933260-976734-...  \n",
            "6  823999-676841-868759-734048-267805-965839-1033...  \n",
            "7  965839-267805-943822-842942-1035806-823999-107...  \n",
            "8  681435-644937-448085-980848-1101547-988355-561...  \n",
            "9  748783-1022789-1023922-533535-1114738-718821-5...  \n"
          ]
        }
      ],
      "source": [
        "\n",
        "df = pd.read_csv(\"TMDB1123.csv\", on_bad_lines='skip', engine='python')\n",
        "print(df.head(10))\n",
        "#The original file can be downloaded through https://www.kaggle.com/datasets/akshaypawar7/millions-of-movies\n",
        "# But the file in this project refers to https://drive.google.com/file/d/1QnTVkSB7Q4JpP119GaPt4z20IvCDcUI0/view?usp=drive_link"
      ]
    },
    {
      "cell_type": "code",
      "execution_count": 11,
      "metadata": {
        "id": "n4GCFqzstUiM"
      },
      "outputs": [],
      "source": [
        "df['release_date'] = pd.to_datetime(df['release_date'])"
      ]
    },
    {
      "cell_type": "code",
      "execution_count": 12,
      "metadata": {
        "id": "Q4nHatV63ldj"
      },
      "outputs": [],
      "source": [
        "# Convert 'release_date' to datetime, handling errors\n",
        "df['release_date'] = pd.to_datetime(df['release_date'], errors='coerce')\n",
        "\n",
        "# Extract year, month, and day, filling NaNs with -1\n",
        "df['year'] = df['release_date'].dt.year.fillna(-1).astype(int)\n",
        "df['month'] = df['release_date'].dt.month.fillna(-1).astype(int)\n",
        "df['day'] = df['release_date'].dt.day.fillna(-1).astype(int)"
      ]
    },
    {
      "cell_type": "code",
      "execution_count": 13,
      "metadata": {
        "colab": {
          "base_uri": "https://localhost:8080/"
        },
        "id": "v32XzFmCX9n4",
        "outputId": "7e60edfb-2798-4529-cddd-32474105c073"
      },
      "outputs": [
        {
          "output_type": "stream",
          "name": "stdout",
          "text": [
            "(722317, 23)\n"
          ]
        }
      ],
      "source": [
        "print(df.shape)"
      ]
    },
    {
      "cell_type": "code",
      "execution_count": 14,
      "metadata": {
        "colab": {
          "base_uri": "https://localhost:8080/"
        },
        "id": "7dpIpxW5X9n5",
        "outputId": "89b78bb7-e2c1-457b-f795-54c39e710dfd"
      },
      "outputs": [
        {
          "output_type": "stream",
          "name": "stdout",
          "text": [
            "There are 685547 movie's budget  0\n"
          ]
        }
      ],
      "source": [
        "count = (df['budget'] == 0).sum()\n",
        "\n",
        "print(f\"There are {count} movie's budget  0\")"
      ]
    },
    {
      "cell_type": "code",
      "execution_count": 15,
      "metadata": {
        "colab": {
          "base_uri": "https://localhost:8080/"
        },
        "id": "jt6V2CcyX9n5",
        "outputId": "9a426b11-d150-4ffe-99cf-c9164dde14df"
      },
      "outputs": [
        {
          "output_type": "stream",
          "name": "stdout",
          "text": [
            "       id                             title                            genres  \\\n",
            "0  615656                 Meg 2: The Trench     Action-Science Fiction-Horror   \n",
            "1  758323               The Pope's Exorcist           Horror-Mystery-Thriller   \n",
            "2  533535              Deadpool & Wolverine     Action-Comedy-Science Fiction   \n",
            "3  667538  Transformers: Rise of the Beasts  Action-Adventure-Science Fiction   \n",
            "4  693134                    Dune: Part Two         Science Fiction-Adventure   \n",
            "\n",
            "  original_language                                           overview  \\\n",
            "0                en  An exploratory dive into the deepest depths of...   \n",
            "1                en  Father Gabriele Amorth Chief Exorcist of the V...   \n",
            "2                en  A listless Wade Wilson toils away in civilian ...   \n",
            "3                en  When a new threat capable of destroying the en...   \n",
            "4                en  Follow the mythic journey of Paul Atreides as ...   \n",
            "\n",
            "   popularity                               production_companies release_date  \\\n",
            "0    8763.998  Apelles Entertainment-Warner Bros. Pictures-di...   2023-08-02   \n",
            "1    5953.227  Screen Gems-2.0 Entertainment-Jesus & Mary-Wor...   2023-04-05   \n",
            "2    5410.496  Marvel Studios-Maximum Effort-21 Laps Entertai...   2024-07-24   \n",
            "3    5409.104  Skydance-Paramount-di Bonaventura Pictures-Bay...   2023-06-06   \n",
            "4    4742.163                                 Legendary Pictures   2024-02-27   \n",
            "\n",
            "        budget       revenue  ...  vote_average vote_count  \\\n",
            "0  129000000.0  3.520565e+08  ...         7.079     1365.0   \n",
            "1   18000000.0  6.567582e+07  ...         7.433      545.0   \n",
            "2  200000000.0  1.326387e+09  ...         7.765     3749.0   \n",
            "3  200000000.0  4.070455e+08  ...         7.340     1007.0   \n",
            "4  190000000.0  6.838137e+08  ...         8.300     2770.0   \n",
            "\n",
            "                                             credits  \\\n",
            "0  Jason Statham-Wu Jing-Shuya Sophia Cai-Sergio ...   \n",
            "1  Russell Crowe-Daniel Zovatto-Alex Essoe-Franco...   \n",
            "2  Ryan Reynolds-Hugh Jackman-Emma Corrin-Matthew...   \n",
            "3  Anthony Ramos-Dominique Fishback-Luna Lauren V...   \n",
            "4  Timothée Chalamet-Zendaya-Rebecca Ferguson-Jav...   \n",
            "\n",
            "                                            keywords  \\\n",
            "0                based on novel or book-sequel-kaiju   \n",
            "1  spain-rome italy-vatican-pope-pig-possession-c...   \n",
            "2  hero-superhero-anti hero-mutant-breaking the f...   \n",
            "3  peru-alien-end of the world-based on cartoon-b...   \n",
            "4  epic-based on novel or book-fight-sandstorm-sa...   \n",
            "\n",
            "                        poster_path                     backdrop_path  \\\n",
            "0  /4m1Au3YkjqsxF8iwQy0fPYSxE0h.jpg  /qlxy8yo5bcgUw2KAmmojUKp4rHd.jpg   \n",
            "1  /9JBEPLTPSm0d1mbEcLxULjJq9Eh.jpg  /hiHGRbyTcbZoLsYYkO4QiCLYe34.jpg   \n",
            "2  /8cdWjvZQUExUUTzyp4t6EDMubfO.jpg  /dvBCdCohwWbsP5qAaglOXagDMtk.jpg   \n",
            "3  /gPbM0MK8CP8A174rmUwGsADNYKD.jpg  /woJbg7ZqidhpvqFGGMRhWQNoxwa.jpg   \n",
            "4  /czembW0Rk1Ke7lCJGahbOhdCuhV.jpg  /xOMo8BRK7PfcJv9JCnx7s5hj0PX.jpg   \n",
            "\n",
            "                                     recommendations  year month day  \n",
            "0  1006462-298618-569094-1061181-346698-1076487-6...  2023     8   2  \n",
            "1  713704-296271-502356-1076605-1084225-1008005-9...  2023     4   5  \n",
            "2  573435-519182-957452-1022789-945961-718821-103...  2024     7  24  \n",
            "3  496450-569094-298618-385687-877100-598331-4628...  2023     6   6  \n",
            "4  438631-763215-792307-1011985-467244-634492-359...  2024     2  27  \n",
            "\n",
            "[5 rows x 23 columns]\n"
          ]
        }
      ],
      "source": [
        "# 将 budget 列转换为数值类型\n",
        "df['budget'] = pd.to_numeric(df['budget'], errors='coerce')\n",
        "\n",
        "# 再次过滤 budget 不为 0 的行\n",
        "df_drop = df[df['budget'] != 0].copy()\n",
        "# 检查结果\n",
        "print(df_drop.head())\n"
      ]
    },
    {
      "cell_type": "code",
      "execution_count": 16,
      "metadata": {
        "colab": {
          "base_uri": "https://localhost:8080/"
        },
        "id": "9lHxaQjEX9n5",
        "outputId": "f7a305ba-df94-4dd0-d4b7-5820a1107d59"
      },
      "outputs": [
        {
          "output_type": "stream",
          "name": "stdout",
          "text": [
            "(36770, 23)\n"
          ]
        }
      ],
      "source": [
        "print(df_drop.shape)"
      ]
    },
    {
      "cell_type": "code",
      "execution_count": null,
      "metadata": {
        "id": "CrLB94QL0nnF"
      },
      "outputs": [],
      "source": [
        "df_drop['revenue'] = df_drop['revenue'].astype(int)"
      ]
    },
    {
      "cell_type": "code",
      "execution_count": 19,
      "metadata": {
        "colab": {
          "base_uri": "https://localhost:8080/"
        },
        "id": "b9IJJae0X9n6",
        "outputId": "af126b93-cf8c-4b29-a0db-a6cdc857e98d"
      },
      "outputs": [
        {
          "output_type": "stream",
          "name": "stdout",
          "text": [
            "No `status` is 'released' and `revenue` is  0 \n"
          ]
        }
      ],
      "source": [
        "exists = ((df_drop['status'] == 'released') & (df_drop['revenue'] == 0)).any()\n",
        "\n",
        "if exists:\n",
        "    print(\" `status` is 'released' and `revenue` is 0 \")\n",
        "else:\n",
        "    print(\"No `status` is 'released' and `revenue` is  0 \")\n"
      ]
    },
    {
      "cell_type": "code",
      "execution_count": 20,
      "metadata": {
        "colab": {
          "base_uri": "https://localhost:8080/"
        },
        "id": "EE0v66HZG-2u",
        "outputId": "cc438d59-3dc2-4fb6-c864-7518bc305988"
      },
      "outputs": [
        {
          "output_type": "stream",
          "name": "stdout",
          "text": [
            "       id                             title                            genres  \\\n",
            "0  615656                 Meg 2: The Trench     Action-Science Fiction-Horror   \n",
            "1  758323               The Pope's Exorcist           Horror-Mystery-Thriller   \n",
            "2  533535              Deadpool & Wolverine     Action-Comedy-Science Fiction   \n",
            "3  667538  Transformers: Rise of the Beasts  Action-Adventure-Science Fiction   \n",
            "4  693134                    Dune: Part Two         Science Fiction-Adventure   \n",
            "\n",
            "  original_language                                           overview  \\\n",
            "0                en  An exploratory dive into the deepest depths of...   \n",
            "1                en  Father Gabriele Amorth Chief Exorcist of the V...   \n",
            "2                en  A listless Wade Wilson toils away in civilian ...   \n",
            "3                en  When a new threat capable of destroying the en...   \n",
            "4                en  Follow the mythic journey of Paul Atreides as ...   \n",
            "\n",
            "   popularity                               production_companies release_date  \\\n",
            "0    8763.998  Apelles Entertainment-Warner Bros. Pictures-di...   2023-08-02   \n",
            "1    5953.227  Screen Gems-2.0 Entertainment-Jesus & Mary-Wor...   2023-04-05   \n",
            "2    5410.496  Marvel Studios-Maximum Effort-21 Laps Entertai...   2024-07-24   \n",
            "3    5409.104  Skydance-Paramount-di Bonaventura Pictures-Bay...   2023-06-06   \n",
            "4    4742.163                                 Legendary Pictures   2024-02-27   \n",
            "\n",
            "        budget       revenue  ...  vote_count  \\\n",
            "0  129000000.0  3.520565e+08  ...      1365.0   \n",
            "1   18000000.0  6.567582e+07  ...       545.0   \n",
            "2  200000000.0  1.326387e+09  ...      3749.0   \n",
            "3  200000000.0  4.070455e+08  ...      1007.0   \n",
            "4  190000000.0  6.838137e+08  ...      2770.0   \n",
            "\n",
            "                                             credits  \\\n",
            "0  Jason Statham-Wu Jing-Shuya Sophia Cai-Sergio ...   \n",
            "1  Russell Crowe-Daniel Zovatto-Alex Essoe-Franco...   \n",
            "2  Ryan Reynolds-Hugh Jackman-Emma Corrin-Matthew...   \n",
            "3  Anthony Ramos-Dominique Fishback-Luna Lauren V...   \n",
            "4  Timothée Chalamet-Zendaya-Rebecca Ferguson-Jav...   \n",
            "\n",
            "                                            keywords  \\\n",
            "0                based on novel or book-sequel-kaiju   \n",
            "1  spain-rome italy-vatican-pope-pig-possession-c...   \n",
            "2  hero-superhero-anti hero-mutant-breaking the f...   \n",
            "3  peru-alien-end of the world-based on cartoon-b...   \n",
            "4  epic-based on novel or book-fight-sandstorm-sa...   \n",
            "\n",
            "                        poster_path                     backdrop_path  \\\n",
            "0  /4m1Au3YkjqsxF8iwQy0fPYSxE0h.jpg  /qlxy8yo5bcgUw2KAmmojUKp4rHd.jpg   \n",
            "1  /9JBEPLTPSm0d1mbEcLxULjJq9Eh.jpg  /hiHGRbyTcbZoLsYYkO4QiCLYe34.jpg   \n",
            "2  /8cdWjvZQUExUUTzyp4t6EDMubfO.jpg  /dvBCdCohwWbsP5qAaglOXagDMtk.jpg   \n",
            "3  /gPbM0MK8CP8A174rmUwGsADNYKD.jpg  /woJbg7ZqidhpvqFGGMRhWQNoxwa.jpg   \n",
            "4  /czembW0Rk1Ke7lCJGahbOhdCuhV.jpg  /xOMo8BRK7PfcJv9JCnx7s5hj0PX.jpg   \n",
            "\n",
            "                                     recommendations  year month day  \\\n",
            "0  1006462-298618-569094-1061181-346698-1076487-6...  2023     8   2   \n",
            "1  713704-296271-502356-1076605-1084225-1008005-9...  2023     4   5   \n",
            "2  573435-519182-957452-1022789-945961-718821-103...  2024     7  24   \n",
            "3  496450-569094-298618-385687-877100-598331-4628...  2023     6   6   \n",
            "4  438631-763215-792307-1011985-467244-634492-359...  2024     2  27   \n",
            "\n",
            "                         Genres_Split  \n",
            "0     [Action-Science Fiction-Horror]  \n",
            "1           [Horror-Mystery-Thriller]  \n",
            "2     [Action-Comedy-Science Fiction]  \n",
            "3  [Action-Adventure-Science Fiction]  \n",
            "4         [Science Fiction-Adventure]  \n",
            "\n",
            "[5 rows x 24 columns]\n"
          ]
        }
      ],
      "source": [
        "df_drop['Genres_Split'] = df_drop['genres'].str.split(', ')\n",
        "\n",
        "print(df_drop.head())"
      ]
    },
    {
      "cell_type": "code",
      "source": [
        "print(df_drop.shape)"
      ],
      "metadata": {
        "colab": {
          "base_uri": "https://localhost:8080/"
        },
        "id": "JRXblWPVsRHk",
        "outputId": "1c348595-4e79-4e09-ed73-4945568413ed"
      },
      "execution_count": 21,
      "outputs": [
        {
          "output_type": "stream",
          "name": "stdout",
          "text": [
            "(36770, 24)\n"
          ]
        }
      ]
    },
    {
      "cell_type": "code",
      "execution_count": 22,
      "metadata": {
        "colab": {
          "base_uri": "https://localhost:8080/"
        },
        "id": "zzxXYKZWY2FX",
        "outputId": "9401e764-3fe1-4f77-f833-dd2d35dfbfc0"
      },
      "outputs": [
        {
          "output_type": "stream",
          "name": "stdout",
          "text": [
            "id                          0\n",
            "title                       0\n",
            "genres                   3417\n",
            "original_language           0\n",
            "overview                 1864\n",
            "popularity                  0\n",
            "production_companies    10464\n",
            "release_date             2680\n",
            "budget                      0\n",
            "revenue                     0\n",
            "runtime                   433\n",
            "status                      0\n",
            "tagline                 17005\n",
            "vote_average                0\n",
            "vote_count                  0\n",
            "credits                  3074\n",
            "keywords                14299\n",
            "poster_path              4066\n",
            "backdrop_path           15489\n",
            "recommendations         26856\n",
            "year                        0\n",
            "month                       0\n",
            "day                         0\n",
            "Genres_Split             3417\n",
            "dtype: int64\n"
          ]
        }
      ],
      "source": [
        "print(df_drop.isnull().sum())"
      ]
    },
    {
      "cell_type": "code",
      "execution_count": 23,
      "metadata": {
        "colab": {
          "base_uri": "https://localhost:8080/"
        },
        "id": "_G8XTOM1hpRg",
        "outputId": "b80bdb9e-7a00-4f9b-8451-cd5ee13babe8"
      },
      "outputs": [
        {
          "output_type": "stream",
          "name": "stdout",
          "text": [
            "       id                             title                            genres  \\\n",
            "0  615656                 Meg 2: The Trench     Action-Science Fiction-Horror   \n",
            "1  758323               The Pope's Exorcist           Horror-Mystery-Thriller   \n",
            "2  533535              Deadpool & Wolverine     Action-Comedy-Science Fiction   \n",
            "3  667538  Transformers: Rise of the Beasts  Action-Adventure-Science Fiction   \n",
            "4  693134                    Dune: Part Two         Science Fiction-Adventure   \n",
            "\n",
            "  original_language                                           overview  \\\n",
            "0                en  An exploratory dive into the deepest depths of...   \n",
            "1                en  Father Gabriele Amorth Chief Exorcist of the V...   \n",
            "2                en  A listless Wade Wilson toils away in civilian ...   \n",
            "3                en  When a new threat capable of destroying the en...   \n",
            "4                en  Follow the mythic journey of Paul Atreides as ...   \n",
            "\n",
            "   popularity                               production_companies release_date  \\\n",
            "0    8763.998  Apelles Entertainment-Warner Bros. Pictures-di...   2023-08-02   \n",
            "1    5953.227  Screen Gems-2.0 Entertainment-Jesus & Mary-Wor...   2023-04-05   \n",
            "2    5410.496  Marvel Studios-Maximum Effort-21 Laps Entertai...   2024-07-24   \n",
            "3    5409.104  Skydance-Paramount-di Bonaventura Pictures-Bay...   2023-06-06   \n",
            "4    4742.163                                 Legendary Pictures   2024-02-27   \n",
            "\n",
            "        budget       revenue  ...  vote_count  \\\n",
            "0  129000000.0  3.520565e+08  ...      1365.0   \n",
            "1   18000000.0  6.567582e+07  ...       545.0   \n",
            "2  200000000.0  1.326387e+09  ...      3749.0   \n",
            "3  200000000.0  4.070455e+08  ...      1007.0   \n",
            "4  190000000.0  6.838137e+08  ...      2770.0   \n",
            "\n",
            "                                             credits  \\\n",
            "0  Jason Statham-Wu Jing-Shuya Sophia Cai-Sergio ...   \n",
            "1  Russell Crowe-Daniel Zovatto-Alex Essoe-Franco...   \n",
            "2  Ryan Reynolds-Hugh Jackman-Emma Corrin-Matthew...   \n",
            "3  Anthony Ramos-Dominique Fishback-Luna Lauren V...   \n",
            "4  Timothée Chalamet-Zendaya-Rebecca Ferguson-Jav...   \n",
            "\n",
            "                                            keywords  \\\n",
            "0                based on novel or book-sequel-kaiju   \n",
            "1  spain-rome italy-vatican-pope-pig-possession-c...   \n",
            "2  hero-superhero-anti hero-mutant-breaking the f...   \n",
            "3  peru-alien-end of the world-based on cartoon-b...   \n",
            "4  epic-based on novel or book-fight-sandstorm-sa...   \n",
            "\n",
            "                        poster_path                     backdrop_path  \\\n",
            "0  /4m1Au3YkjqsxF8iwQy0fPYSxE0h.jpg  /qlxy8yo5bcgUw2KAmmojUKp4rHd.jpg   \n",
            "1  /9JBEPLTPSm0d1mbEcLxULjJq9Eh.jpg  /hiHGRbyTcbZoLsYYkO4QiCLYe34.jpg   \n",
            "2  /8cdWjvZQUExUUTzyp4t6EDMubfO.jpg  /dvBCdCohwWbsP5qAaglOXagDMtk.jpg   \n",
            "3  /gPbM0MK8CP8A174rmUwGsADNYKD.jpg  /woJbg7ZqidhpvqFGGMRhWQNoxwa.jpg   \n",
            "4  /czembW0Rk1Ke7lCJGahbOhdCuhV.jpg  /xOMo8BRK7PfcJv9JCnx7s5hj0PX.jpg   \n",
            "\n",
            "                                     recommendations  year month day  \\\n",
            "0  1006462-298618-569094-1061181-346698-1076487-6...  2023     8   2   \n",
            "1  713704-296271-502356-1076605-1084225-1008005-9...  2023     4   5   \n",
            "2  573435-519182-957452-1022789-945961-718821-103...  2024     7  24   \n",
            "3  496450-569094-298618-385687-877100-598331-4628...  2023     6   6   \n",
            "4  438631-763215-792307-1011985-467244-634492-359...  2024     2  27   \n",
            "\n",
            "                         Genres_Split  \n",
            "0     [Action-Science Fiction-Horror]  \n",
            "1           [Horror-Mystery-Thriller]  \n",
            "2     [Action-Comedy-Science Fiction]  \n",
            "3  [Action-Adventure-Science Fiction]  \n",
            "4         [Science Fiction-Adventure]  \n",
            "\n",
            "[5 rows x 24 columns]\n"
          ]
        }
      ],
      "source": [
        "print(df_drop.head())"
      ]
    },
    {
      "cell_type": "code",
      "execution_count": 24,
      "metadata": {
        "id": "8grBD3ClZ40l"
      },
      "outputs": [],
      "source": [
        "df_drop.loc[:,'production_companies'] = df_drop['production_companies'].fillna('Not Known')\n",
        "df_drop.loc[:,'keywords'] = df_drop['keywords'].fillna('Not Known')\n",
        "df_drop.loc[:,'credits'] = df_drop['overview'].fillna('Not Known')\n",
        "df_drop.loc[:,'tagline'] = df_drop['tagline'].fillna('Not Known')\n",
        "df_drop.loc[:,'overview'] = df_drop['overview'].fillna('Not Known')"
      ]
    },
    {
      "cell_type": "code",
      "source": [
        "print(df_drop.isnull().sum())"
      ],
      "metadata": {
        "colab": {
          "base_uri": "https://localhost:8080/"
        },
        "id": "XYBYf9daswj1",
        "outputId": "51b7cd6e-01ff-4968-a814-df203649b83b"
      },
      "execution_count": 25,
      "outputs": [
        {
          "output_type": "stream",
          "name": "stdout",
          "text": [
            "id                          0\n",
            "title                       0\n",
            "genres                   3417\n",
            "original_language           0\n",
            "overview                    0\n",
            "popularity                  0\n",
            "production_companies        0\n",
            "release_date             2680\n",
            "budget                      0\n",
            "revenue                     0\n",
            "runtime                   433\n",
            "status                      0\n",
            "tagline                     0\n",
            "vote_average                0\n",
            "vote_count                  0\n",
            "credits                     0\n",
            "keywords                    0\n",
            "poster_path              4066\n",
            "backdrop_path           15489\n",
            "recommendations         26856\n",
            "year                        0\n",
            "month                       0\n",
            "day                         0\n",
            "Genres_Split             3417\n",
            "dtype: int64\n"
          ]
        }
      ]
    },
    {
      "cell_type": "code",
      "execution_count": 26,
      "metadata": {
        "colab": {
          "base_uri": "https://localhost:8080/"
        },
        "id": "EmJLg7nmbp9i",
        "outputId": "6c492b56-d824-4493-af33-c1ee9d49ee0b"
      },
      "outputs": [
        {
          "output_type": "stream",
          "name": "stdout",
          "text": [
            "            id                                           title  \\\n",
            "722273  741091                            The Formula Of Water   \n",
            "404165  394012  Die fremde Frau - Winterreise nach Flossenbürg   \n",
            "404282  399354                                   Sangue Sparso   \n",
            "404424  179697                      Kiss [1979] The Kiss Reels   \n",
            "405129  453439                                      In Between   \n",
            "...        ...                                             ...   \n",
            "671221  316755                         VACANZE IN SICILIA 2012   \n",
            "671431  370859                              Life Passion Death   \n",
            "671496  339662                                 Shadows & Forms   \n",
            "677368  357989                 Europa Konzert From Madrid 2011   \n",
            "677499  316285                                          Cicada   \n",
            "\n",
            "                           genres original_language  \\\n",
            "722273  Science Fiction-Adventure                ru   \n",
            "404165                Documentary                de   \n",
            "404282                      Drama                it   \n",
            "404424                        NaN                en   \n",
            "405129                   Thriller                mk   \n",
            "...                           ...               ...   \n",
            "671221                        NaN                it   \n",
            "671431                      Drama                de   \n",
            "671496                        NaN                en   \n",
            "677368                      Music                es   \n",
            "677499                        NaN                ja   \n",
            "\n",
            "                                                 overview  popularity  \\\n",
            "722273  A teenage girl Dana lives on one of the planet...       0.001   \n",
            "404165                                          Not Known       0.600   \n",
            "404282                                          Not Known       0.600   \n",
            "404424                      Promo Clips Commericals......       0.600   \n",
            "405129  A group of young people deals with the strange...       0.600   \n",
            "...                                                   ...         ...   \n",
            "671221                                          Not Known       0.600   \n",
            "671431                                          Not Known       0.600   \n",
            "671496  Two couples experiencing their own personal st...       0.600   \n",
            "677368                                          Not Known       0.600   \n",
            "677499  Cicada is the story of Jumpei-- a man who lose...       0.600   \n",
            "\n",
            "       production_companies release_date     budget  revenue  ...  vote_count  \\\n",
            "722273        Soyuzmultfilm   2024-10-03  3876364.0      0.0  ...         0.0   \n",
            "404165  Büttner und Stürmer   2015-10-21    20000.0      0.0  ...         1.0   \n",
            "404282            Not Known   2016-01-01   100000.0      0.0  ...         1.0   \n",
            "404424            Not Known   1995-12-30       55.0      0.0  ...         0.0   \n",
            "405129   Emperor Production   2017-08-14     1043.0      0.0  ...         0.0   \n",
            "...                     ...          ...        ...      ...  ...         ...   \n",
            "671221            Not Known   2012-01-08      800.0      0.0  ...         1.0   \n",
            "671431            Not Known   2009-01-01    50000.0      0.0  ...         0.0   \n",
            "671496            Not Known          NaT       15.0      0.0  ...         0.0   \n",
            "677368            BBC Wales   2011-09-23      120.0      0.0  ...         0.0   \n",
            "677499     Biola University   2014-05-04      100.0      0.0  ...         1.0   \n",
            "\n",
            "                                                  credits           keywords  \\\n",
            "722273  A teenage girl Dana lives on one of the planet...          Not Known   \n",
            "404165                                          Not Known  society-biography   \n",
            "404282                                          Not Known          Not Known   \n",
            "404424                      Promo Clips Commericals......          Not Known   \n",
            "405129  A group of young people deals with the strange...         short film   \n",
            "...                                                   ...                ...   \n",
            "671221                                          Not Known          Not Known   \n",
            "671431                                          Not Known          Not Known   \n",
            "671496  Two couples experiencing their own personal st...          Not Known   \n",
            "677368                                          Not Known          Not Known   \n",
            "677499  Cicada is the story of Jumpei-- a man who lose...          Not Known   \n",
            "\n",
            "                             poster_path  backdrop_path recommendations  year  \\\n",
            "722273  /nh0iDbGuSkmKJ9i1tip0OPaLyzG.jpg            NaN             NaN  2024   \n",
            "404165                               NaN            NaN             NaN  2015   \n",
            "404282                               NaN            NaN             NaN  2016   \n",
            "404424                               NaN            NaN             NaN  1995   \n",
            "405129  /mIW6JsujGaiyMcINjRq1jsL4PIx.jpg            NaN             NaN  2017   \n",
            "...                                  ...            ...             ...   ...   \n",
            "671221                               NaN            NaN             NaN  2012   \n",
            "671431                               NaN            NaN             NaN  2009   \n",
            "671496                               NaN            NaN             NaN    -1   \n",
            "677368                               NaN            NaN             NaN  2011   \n",
            "677499  /1ABrct6yWyskQ5UV3hB0umcsWGm.jpg            NaN             NaN  2014   \n",
            "\n",
            "       month day                 Genres_Split  \n",
            "722273    10   3  [Science Fiction-Adventure]  \n",
            "404165    10  21                [Documentary]  \n",
            "404282     1   1                      [Drama]  \n",
            "404424    12  30                          NaN  \n",
            "405129     8  14                   [Thriller]  \n",
            "...      ...  ..                          ...  \n",
            "671221     1   8                          NaN  \n",
            "671431     1   1                      [Drama]  \n",
            "671496    -1  -1                          NaN  \n",
            "677368     9  23                      [Music]  \n",
            "677499     5   4                          NaN  \n",
            "\n",
            "[36770 rows x 24 columns]\n"
          ]
        }
      ],
      "source": [
        "print(df_drop.sort_values(by='runtime', ascending=True))"
      ]
    },
    {
      "cell_type": "markdown",
      "source": [],
      "metadata": {
        "id": "ZZErDecVcbCx"
      }
    },
    {
      "cell_type": "code",
      "source": [
        "df_cleaned = df_drop.dropna(subset=['Genres_Split'])"
      ],
      "metadata": {
        "id": "oiVDgYancT3s"
      },
      "execution_count": 27,
      "outputs": []
    },
    {
      "cell_type": "code",
      "source": [
        "print(df_cleaned.isnull().sum())"
      ],
      "metadata": {
        "colab": {
          "base_uri": "https://localhost:8080/"
        },
        "id": "1e9EUMycslM5",
        "outputId": "151ef029-8763-4adb-9c86-c732ecdc60cf"
      },
      "execution_count": 28,
      "outputs": [
        {
          "output_type": "stream",
          "name": "stdout",
          "text": [
            "id                          0\n",
            "title                       0\n",
            "genres                      0\n",
            "original_language           0\n",
            "overview                    0\n",
            "popularity                  0\n",
            "production_companies        0\n",
            "release_date             1314\n",
            "budget                      0\n",
            "revenue                     0\n",
            "runtime                   328\n",
            "status                      0\n",
            "tagline                     0\n",
            "vote_average                0\n",
            "vote_count                  0\n",
            "credits                     0\n",
            "keywords                    0\n",
            "poster_path              2725\n",
            "backdrop_path           12470\n",
            "recommendations         23443\n",
            "year                        0\n",
            "month                       0\n",
            "day                         0\n",
            "Genres_Split                0\n",
            "dtype: int64\n"
          ]
        }
      ]
    },
    {
      "cell_type": "code",
      "source": [
        "print(df_cleaned.shape)"
      ],
      "metadata": {
        "colab": {
          "base_uri": "https://localhost:8080/"
        },
        "id": "MkUXHZaJscvB",
        "outputId": "8911bb19-9fa2-4d4b-eab0-cf40003f4df0"
      },
      "execution_count": 29,
      "outputs": [
        {
          "output_type": "stream",
          "name": "stdout",
          "text": [
            "(33353, 24)\n"
          ]
        }
      ]
    },
    {
      "cell_type": "code",
      "source": [
        "print(df_cleaned.head())"
      ],
      "metadata": {
        "colab": {
          "base_uri": "https://localhost:8080/"
        },
        "id": "ohwQhTwIcqdf",
        "outputId": "25b51c89-98ec-4a23-e337-ca2eac9d3644"
      },
      "execution_count": 30,
      "outputs": [
        {
          "output_type": "stream",
          "name": "stdout",
          "text": [
            "       id                             title                            genres  \\\n",
            "0  615656                 Meg 2: The Trench     Action-Science Fiction-Horror   \n",
            "1  758323               The Pope's Exorcist           Horror-Mystery-Thriller   \n",
            "2  533535              Deadpool & Wolverine     Action-Comedy-Science Fiction   \n",
            "3  667538  Transformers: Rise of the Beasts  Action-Adventure-Science Fiction   \n",
            "4  693134                    Dune: Part Two         Science Fiction-Adventure   \n",
            "\n",
            "  original_language                                           overview  \\\n",
            "0                en  An exploratory dive into the deepest depths of...   \n",
            "1                en  Father Gabriele Amorth Chief Exorcist of the V...   \n",
            "2                en  A listless Wade Wilson toils away in civilian ...   \n",
            "3                en  When a new threat capable of destroying the en...   \n",
            "4                en  Follow the mythic journey of Paul Atreides as ...   \n",
            "\n",
            "   popularity                               production_companies release_date  \\\n",
            "0    8763.998  Apelles Entertainment-Warner Bros. Pictures-di...   2023-08-02   \n",
            "1    5953.227  Screen Gems-2.0 Entertainment-Jesus & Mary-Wor...   2023-04-05   \n",
            "2    5410.496  Marvel Studios-Maximum Effort-21 Laps Entertai...   2024-07-24   \n",
            "3    5409.104  Skydance-Paramount-di Bonaventura Pictures-Bay...   2023-06-06   \n",
            "4    4742.163                                 Legendary Pictures   2024-02-27   \n",
            "\n",
            "        budget       revenue  ...  vote_count  \\\n",
            "0  129000000.0  3.520565e+08  ...      1365.0   \n",
            "1   18000000.0  6.567582e+07  ...       545.0   \n",
            "2  200000000.0  1.326387e+09  ...      3749.0   \n",
            "3  200000000.0  4.070455e+08  ...      1007.0   \n",
            "4  190000000.0  6.838137e+08  ...      2770.0   \n",
            "\n",
            "                                             credits  \\\n",
            "0  An exploratory dive into the deepest depths of...   \n",
            "1  Father Gabriele Amorth Chief Exorcist of the V...   \n",
            "2  A listless Wade Wilson toils away in civilian ...   \n",
            "3  When a new threat capable of destroying the en...   \n",
            "4  Follow the mythic journey of Paul Atreides as ...   \n",
            "\n",
            "                                            keywords  \\\n",
            "0                based on novel or book-sequel-kaiju   \n",
            "1  spain-rome italy-vatican-pope-pig-possession-c...   \n",
            "2  hero-superhero-anti hero-mutant-breaking the f...   \n",
            "3  peru-alien-end of the world-based on cartoon-b...   \n",
            "4  epic-based on novel or book-fight-sandstorm-sa...   \n",
            "\n",
            "                        poster_path                     backdrop_path  \\\n",
            "0  /4m1Au3YkjqsxF8iwQy0fPYSxE0h.jpg  /qlxy8yo5bcgUw2KAmmojUKp4rHd.jpg   \n",
            "1  /9JBEPLTPSm0d1mbEcLxULjJq9Eh.jpg  /hiHGRbyTcbZoLsYYkO4QiCLYe34.jpg   \n",
            "2  /8cdWjvZQUExUUTzyp4t6EDMubfO.jpg  /dvBCdCohwWbsP5qAaglOXagDMtk.jpg   \n",
            "3  /gPbM0MK8CP8A174rmUwGsADNYKD.jpg  /woJbg7ZqidhpvqFGGMRhWQNoxwa.jpg   \n",
            "4  /czembW0Rk1Ke7lCJGahbOhdCuhV.jpg  /xOMo8BRK7PfcJv9JCnx7s5hj0PX.jpg   \n",
            "\n",
            "                                     recommendations  year month day  \\\n",
            "0  1006462-298618-569094-1061181-346698-1076487-6...  2023     8   2   \n",
            "1  713704-296271-502356-1076605-1084225-1008005-9...  2023     4   5   \n",
            "2  573435-519182-957452-1022789-945961-718821-103...  2024     7  24   \n",
            "3  496450-569094-298618-385687-877100-598331-4628...  2023     6   6   \n",
            "4  438631-763215-792307-1011985-467244-634492-359...  2024     2  27   \n",
            "\n",
            "                         Genres_Split  \n",
            "0     [Action-Science Fiction-Horror]  \n",
            "1           [Horror-Mystery-Thriller]  \n",
            "2     [Action-Comedy-Science Fiction]  \n",
            "3  [Action-Adventure-Science Fiction]  \n",
            "4         [Science Fiction-Adventure]  \n",
            "\n",
            "[5 rows x 24 columns]\n"
          ]
        }
      ]
    },
    {
      "cell_type": "markdown",
      "source": [],
      "metadata": {
        "id": "FzTuF4Vacpiy"
      }
    },
    {
      "cell_type": "code",
      "execution_count": 31,
      "metadata": {
        "id": "N48qAfGQayw3"
      },
      "outputs": [],
      "source": [
        "df_final = df_cleaned.dropna(subset=['release_date','runtime'])"
      ]
    },
    {
      "cell_type": "code",
      "execution_count": 32,
      "metadata": {
        "id": "inFRf4esdQhE"
      },
      "outputs": [],
      "source": [
        "df_finalized= df_final.drop(columns=['backdrop_path','recommendations','poster_path'])"
      ]
    },
    {
      "cell_type": "code",
      "execution_count": 33,
      "metadata": {
        "colab": {
          "base_uri": "https://localhost:8080/"
        },
        "id": "rFIogBSQdfb-",
        "outputId": "ee087a32-f35e-43a2-ebb4-d89c85321814"
      },
      "outputs": [
        {
          "output_type": "stream",
          "name": "stdout",
          "text": [
            "id                      0\n",
            "title                   0\n",
            "genres                  0\n",
            "original_language       0\n",
            "overview                0\n",
            "popularity              0\n",
            "production_companies    0\n",
            "release_date            0\n",
            "budget                  0\n",
            "revenue                 0\n",
            "runtime                 0\n",
            "status                  0\n",
            "tagline                 0\n",
            "vote_average            0\n",
            "vote_count              0\n",
            "credits                 0\n",
            "keywords                0\n",
            "year                    0\n",
            "month                   0\n",
            "day                     0\n",
            "Genres_Split            0\n",
            "dtype: int64\n"
          ]
        }
      ],
      "source": [
        "print(df_finalized.isnull().sum())"
      ]
    },
    {
      "cell_type": "code",
      "execution_count": 34,
      "metadata": {
        "colab": {
          "base_uri": "https://localhost:8080/"
        },
        "id": "Krlfenmmhaq7",
        "outputId": "4d5b73d9-4b71-4cb6-f018-b870a4594965"
      },
      "outputs": [
        {
          "output_type": "stream",
          "name": "stdout",
          "text": [
            "(31770, 21)\n"
          ]
        }
      ],
      "source": [
        "print(df_finalized.shape)"
      ]
    },
    {
      "cell_type": "markdown",
      "source": [
        "##Cluster Genre"
      ],
      "metadata": {
        "id": "u-G5Zkg4dqBA"
      }
    },
    {
      "cell_type": "code",
      "execution_count": 35,
      "metadata": {
        "colab": {
          "base_uri": "https://localhost:8080/"
        },
        "id": "XGBHPEbSfxqj",
        "outputId": "46cf679c-c679-45a2-a233-60486584b802"
      },
      "outputs": [
        {
          "output_type": "stream",
          "name": "stdout",
          "text": [
            "0       [Action-Science Fiction-Horror]\n",
            "1             [Horror-Mystery-Thriller]\n",
            "2       [Action-Comedy-Science Fiction]\n",
            "3    [Action-Adventure-Science Fiction]\n",
            "4           [Science Fiction-Adventure]\n",
            "Name: Genres_Split, dtype: object\n"
          ]
        }
      ],
      "source": [
        "print(df_finalized['Genres_Split'].head())\n"
      ]
    },
    {
      "cell_type": "code",
      "execution_count": 37,
      "metadata": {
        "colab": {
          "base_uri": "https://localhost:8080/"
        },
        "id": "talqJXDPiVH9",
        "outputId": "1c75c9b8-e0ed-45af-a57f-e6d56bbc0153"
      },
      "outputs": [
        {
          "output_type": "stream",
          "name": "stdout",
          "text": [
            "       id                             title                            genres  \\\n",
            "0  615656                 Meg 2: The Trench     Action-Science Fiction-Horror   \n",
            "1  758323               The Pope's Exorcist           Horror-Mystery-Thriller   \n",
            "2  533535              Deadpool & Wolverine     Action-Comedy-Science Fiction   \n",
            "3  667538  Transformers: Rise of the Beasts  Action-Adventure-Science Fiction   \n",
            "4  693134                    Dune: Part Two         Science Fiction-Adventure   \n",
            "\n",
            "  original_language                                           overview  \\\n",
            "0                en  An exploratory dive into the deepest depths of...   \n",
            "1                en  Father Gabriele Amorth Chief Exorcist of the V...   \n",
            "2                en  A listless Wade Wilson toils away in civilian ...   \n",
            "3                en  When a new threat capable of destroying the en...   \n",
            "4                en  Follow the mythic journey of Paul Atreides as ...   \n",
            "\n",
            "   popularity                               production_companies release_date  \\\n",
            "0    8763.998  Apelles Entertainment-Warner Bros. Pictures-di...   2023-08-02   \n",
            "1    5953.227  Screen Gems-2.0 Entertainment-Jesus & Mary-Wor...   2023-04-05   \n",
            "2    5410.496  Marvel Studios-Maximum Effort-21 Laps Entertai...   2024-07-24   \n",
            "3    5409.104  Skydance-Paramount-di Bonaventura Pictures-Bay...   2023-06-06   \n",
            "4    4742.163                                 Legendary Pictures   2024-02-27   \n",
            "\n",
            "        budget       revenue  ...  History Horror Music  Mystery  Romance  \\\n",
            "0  129000000.0  3.520565e+08  ...        0      1     0        0        0   \n",
            "1   18000000.0  6.567582e+07  ...        0      1     0        1        0   \n",
            "2  200000000.0  1.326387e+09  ...        0      0     0        0        0   \n",
            "3  200000000.0  4.070455e+08  ...        0      0     0        0        0   \n",
            "4  190000000.0  6.838137e+08  ...        0      0     0        0        0   \n",
            "\n",
            "  Science Fiction TV Movie  Thriller  War  Western  \n",
            "0               1        0         0    0        0  \n",
            "1               0        0         1    0        0  \n",
            "2               1        0         0    0        0  \n",
            "3               1        0         0    0        0  \n",
            "4               1        0         0    0        0  \n",
            "\n",
            "[5 rows x 59 columns]\n"
          ]
        }
      ],
      "source": [
        "df_finalized['Genres_Split'] = df_finalized['genres'].astype(str).apply(lambda x: x.split('-'))\n",
        "\n",
        "genres_encoded = df_finalized['Genres_Split'].str.join('|').str.get_dummies(sep='|')\n",
        "\n",
        "df_finalized = pd.concat([df_finalized, genres_encoded], axis=1)\n",
        "\n",
        "print(df_finalized.head())"
      ]
    },
    {
      "cell_type": "code",
      "execution_count": 38,
      "metadata": {
        "colab": {
          "base_uri": "https://localhost:8080/"
        },
        "id": "jaRC1-G7jaP5",
        "outputId": "4fafa73a-df64-41f9-b5e2-83fe530e2c68"
      },
      "outputs": [
        {
          "output_type": "stream",
          "name": "stdout",
          "text": [
            "id                      0\n",
            "title                   0\n",
            "genres                  0\n",
            "original_language       0\n",
            "overview                0\n",
            "popularity              0\n",
            "production_companies    0\n",
            "release_date            0\n",
            "budget                  0\n",
            "revenue                 0\n",
            "runtime                 0\n",
            "status                  0\n",
            "tagline                 0\n",
            "vote_average            0\n",
            "vote_count              0\n",
            "credits                 0\n",
            "keywords                0\n",
            "year                    0\n",
            "month                   0\n",
            "day                     0\n",
            "Genres_Split            0\n",
            "Action                  0\n",
            "Adventure               0\n",
            "Animation               0\n",
            "Comedy                  0\n",
            "Crime                   0\n",
            "Documentary             0\n",
            "Drama                   0\n",
            "Family                  0\n",
            "Fantasy                 0\n",
            "History                 0\n",
            "Horror                  0\n",
            "Music                   0\n",
            "Mystery                 0\n",
            "Romance                 0\n",
            "Science Fiction         0\n",
            "TV Movie                0\n",
            "Thriller                0\n",
            "War                     0\n",
            "Western                 0\n",
            "Action                  0\n",
            "Adventure               0\n",
            "Animation               0\n",
            "Comedy                  0\n",
            "Crime                   0\n",
            "Documentary             0\n",
            "Drama                   0\n",
            "Family                  0\n",
            "Fantasy                 0\n",
            "History                 0\n",
            "Horror                  0\n",
            "Music                   0\n",
            "Mystery                 0\n",
            "Romance                 0\n",
            "Science Fiction         0\n",
            "TV Movie                0\n",
            "Thriller                0\n",
            "War                     0\n",
            "Western                 0\n",
            "dtype: int64\n"
          ]
        }
      ],
      "source": [
        "print(df_finalized.isnull().sum())"
      ]
    },
    {
      "cell_type": "code",
      "execution_count": 39,
      "metadata": {
        "id": "Yn6Li0r_ps_y"
      },
      "outputs": [],
      "source": [
        "df_finalized = df_finalized.drop(columns=['Genres_Split'])"
      ]
    },
    {
      "cell_type": "code",
      "execution_count": 40,
      "metadata": {
        "colab": {
          "base_uri": "https://localhost:8080/"
        },
        "id": "X0YFEs60jKTz",
        "outputId": "c96b30b2-6245-4ef3-cad9-d8de1722adfb"
      },
      "outputs": [
        {
          "output_type": "stream",
          "name": "stdout",
          "text": [
            "            id                             title  \\\n",
            "0       615656                 Meg 2: The Trench   \n",
            "1       758323               The Pope's Exorcist   \n",
            "2       533535              Deadpool & Wolverine   \n",
            "3       667538  Transformers: Rise of the Beasts   \n",
            "4       693134                    Dune: Part Two   \n",
            "...        ...                               ...   \n",
            "722030  712132                 One of These Days   \n",
            "722078  456526                            Aglien   \n",
            "722085  422755           Random Acts of Violence   \n",
            "722112  407739      Spring Break Zombie Massacre   \n",
            "722128  397861   Paradise Lost: Over the Madness   \n",
            "\n",
            "                                         genres original_language  \\\n",
            "0                 Action-Science Fiction-Horror                en   \n",
            "1                       Horror-Mystery-Thriller                en   \n",
            "2                 Action-Comedy-Science Fiction                en   \n",
            "3              Action-Adventure-Science Fiction                en   \n",
            "4                     Science Fiction-Adventure                en   \n",
            "...                                         ...               ...   \n",
            "722030                                    Drama                en   \n",
            "722078                                   Comedy                it   \n",
            "722085                    Thriller-Horror-Drama                en   \n",
            "722112  Thriller-Adventure-Drama-Fantasy-Horror                en   \n",
            "722128                        Documentary-Music                en   \n",
            "\n",
            "                                                 overview  popularity  \\\n",
            "0       An exploratory dive into the deepest depths of...    8763.998   \n",
            "1       Father Gabriele Amorth Chief Exorcist of the V...    5953.227   \n",
            "2       A listless Wade Wilson toils away in civilian ...    5410.496   \n",
            "3       When a new threat capable of destroying the en...    5409.104   \n",
            "4       Follow the mythic journey of Paul Atreides as ...    4742.163   \n",
            "...                                                   ...         ...   \n",
            "722030  After unfortunate circumstances Manny an aspir...       0.600   \n",
            "722078  Tu' Mader the Nostronzo shipboard computer is ...       0.579   \n",
            "722085  A gritty dark action thriller about a family t...       0.567   \n",
            "722112  In a world where the zombie apocolypse is an u...       0.482   \n",
            "722128  In a career that has spanned 20 years (and cou...       0.442   \n",
            "\n",
            "                                     production_companies release_date  \\\n",
            "0       Apelles Entertainment-Warner Bros. Pictures-di...   2023-08-02   \n",
            "1       Screen Gems-2.0 Entertainment-Jesus & Mary-Wor...   2023-04-05   \n",
            "2       Marvel Studios-Maximum Effort-21 Laps Entertai...   2024-07-24   \n",
            "3       Skydance-Paramount-di Bonaventura Pictures-Bay...   2023-06-06   \n",
            "4                                      Legendary Pictures   2024-02-27   \n",
            "...                                                   ...          ...   \n",
            "722030               American Film Institute Conservatory   2018-07-28   \n",
            "722078                Grezzofilm Production-Colorado Film   2012-09-14   \n",
            "722085                                 Blinky Productions   1999-01-01   \n",
            "722112                                    Rock On Go Wild   2016-07-07   \n",
            "722128                                 Kayane Productions   2007-05-28   \n",
            "\n",
            "             budget       revenue  ...  History Horror Music  Mystery  \\\n",
            "0       129000000.0  3.520565e+08  ...        0      1     0        0   \n",
            "1        18000000.0  6.567582e+07  ...        0      1     0        1   \n",
            "2       200000000.0  1.326387e+09  ...        0      0     0        0   \n",
            "3       200000000.0  4.070455e+08  ...        0      0     0        0   \n",
            "4       190000000.0  6.838137e+08  ...        0      0     0        0   \n",
            "...             ...           ...  ...      ...    ...   ...      ...   \n",
            "722030      45000.0  0.000000e+00  ...        0      0     0        0   \n",
            "722078      50000.0  0.000000e+00  ...        0      0     0        0   \n",
            "722085        500.0  0.000000e+00  ...        0      1     0        0   \n",
            "722112      68000.0  0.000000e+00  ...        0      1     0        0   \n",
            "722128         50.0  0.000000e+00  ...        0      0     1        0   \n",
            "\n",
            "        Romance Science Fiction TV Movie  Thriller  War  Western  \n",
            "0             0               1        0         0    0        0  \n",
            "1             0               0        0         1    0        0  \n",
            "2             0               1        0         0    0        0  \n",
            "3             0               1        0         0    0        0  \n",
            "4             0               1        0         0    0        0  \n",
            "...         ...             ...      ...       ...  ...      ...  \n",
            "722030        0               0        0         0    0        0  \n",
            "722078        0               0        0         0    0        0  \n",
            "722085        0               0        0         1    0        0  \n",
            "722112        0               0        0         1    0        0  \n",
            "722128        0               0        0         0    0        0  \n",
            "\n",
            "[31760 rows x 58 columns]\n"
          ]
        }
      ],
      "source": [
        "print(df_finalized.head(-10))"
      ]
    },
    {
      "cell_type": "markdown",
      "source": [
        "##Delete unresonable datas"
      ],
      "metadata": {
        "id": "BbyZFohD8Xdi"
      }
    },
    {
      "cell_type": "code",
      "execution_count": 41,
      "metadata": {
        "id": "09nSdG6VX9oA"
      },
      "outputs": [],
      "source": [
        "condition = (df_finalized['status'] == 'Released') & (df_finalized['release_date'] > pd.Timestamp('2024-11-23'))\n"
      ]
    },
    {
      "cell_type": "code",
      "execution_count": 42,
      "metadata": {
        "colab": {
          "base_uri": "https://localhost:8080/"
        },
        "id": "av3yFflrX9oA",
        "outputId": "3423e127-86f9-49a7-a75c-41798f4fa482"
      },
      "outputs": [
        {
          "output_type": "stream",
          "name": "stdout",
          "text": [
            "Deleted data：\n",
            "           id                 title         genres original_language  \\\n",
            "41345  861211  In the Name of Blood       Thriller                fr   \n",
            "72899  563470           Never Alone  Drama-History                fi   \n",
            "\n",
            "                                                overview  popularity  \\\n",
            "41345  In the working-class neighborhoods of Nice a p...       4.515   \n",
            "72899  1942. The State of Finland has formed an allia...       2.648   \n",
            "\n",
            "                                    production_companies release_date  \\\n",
            "41345  Adastra Films-Gemini-Beside Productions-Ellly ...   2024-11-27   \n",
            "72899             MRP Matila Röhr Productions-Taska Film   2025-01-17   \n",
            "\n",
            "          budget  revenue  ...  History Horror Music  Mystery  Romance  \\\n",
            "41345  3600000.0      0.0  ...        0      0     0        0        0   \n",
            "72899  4900000.0      0.0  ...        1      0     0        0        0   \n",
            "\n",
            "      Science Fiction TV Movie  Thriller  War  Western  \n",
            "41345               0        0         1    0        0  \n",
            "72899               0        0         0    0        0  \n",
            "\n",
            "[2 rows x 58 columns]\n"
          ]
        }
      ],
      "source": [
        "deleted_data = df_finalized[condition]\n",
        "print(\"Deleted data：\")\n",
        "print(deleted_data)"
      ]
    },
    {
      "cell_type": "code",
      "execution_count": 43,
      "metadata": {
        "colab": {
          "base_uri": "https://localhost:8080/"
        },
        "id": "Ksg0K8avX9oA",
        "outputId": "8c6ad0f1-7428-4e08-a418-936eb7ed38ce"
      },
      "outputs": [
        {
          "output_type": "stream",
          "name": "stdout",
          "text": [
            "       id                             title                            genres  \\\n",
            "0  615656                 Meg 2: The Trench     Action-Science Fiction-Horror   \n",
            "1  758323               The Pope's Exorcist           Horror-Mystery-Thriller   \n",
            "2  533535              Deadpool & Wolverine     Action-Comedy-Science Fiction   \n",
            "3  667538  Transformers: Rise of the Beasts  Action-Adventure-Science Fiction   \n",
            "4  693134                    Dune: Part Two         Science Fiction-Adventure   \n",
            "\n",
            "  original_language                                           overview  \\\n",
            "0                en  An exploratory dive into the deepest depths of...   \n",
            "1                en  Father Gabriele Amorth Chief Exorcist of the V...   \n",
            "2                en  A listless Wade Wilson toils away in civilian ...   \n",
            "3                en  When a new threat capable of destroying the en...   \n",
            "4                en  Follow the mythic journey of Paul Atreides as ...   \n",
            "\n",
            "   popularity                               production_companies release_date  \\\n",
            "0    8763.998  Apelles Entertainment-Warner Bros. Pictures-di...   2023-08-02   \n",
            "1    5953.227  Screen Gems-2.0 Entertainment-Jesus & Mary-Wor...   2023-04-05   \n",
            "2    5410.496  Marvel Studios-Maximum Effort-21 Laps Entertai...   2024-07-24   \n",
            "3    5409.104  Skydance-Paramount-di Bonaventura Pictures-Bay...   2023-06-06   \n",
            "4    4742.163                                 Legendary Pictures   2024-02-27   \n",
            "\n",
            "        budget       revenue  ...  History Horror Music  Mystery  Romance  \\\n",
            "0  129000000.0  3.520565e+08  ...        0      1     0        0        0   \n",
            "1   18000000.0  6.567582e+07  ...        0      1     0        1        0   \n",
            "2  200000000.0  1.326387e+09  ...        0      0     0        0        0   \n",
            "3  200000000.0  4.070455e+08  ...        0      0     0        0        0   \n",
            "4  190000000.0  6.838137e+08  ...        0      0     0        0        0   \n",
            "\n",
            "  Science Fiction TV Movie  Thriller  War  Western  \n",
            "0               1        0         0    0        0  \n",
            "1               0        0         1    0        0  \n",
            "2               1        0         0    0        0  \n",
            "3               1        0         0    0        0  \n",
            "4               1        0         0    0        0  \n",
            "\n",
            "[5 rows x 58 columns]\n"
          ]
        }
      ],
      "source": [
        "df_finalized = df_finalized[~condition]\n",
        "\n",
        "print(df_finalized.head())"
      ]
    },
    {
      "cell_type": "code",
      "execution_count": 44,
      "metadata": {
        "colab": {
          "base_uri": "https://localhost:8080/"
        },
        "id": "7qo62imJX9oA",
        "outputId": "8897848e-d0d0-4e81-c246-90d18242e26d"
      },
      "outputs": [
        {
          "output_type": "stream",
          "name": "stdout",
          "text": [
            "(31768, 58)\n"
          ]
        }
      ],
      "source": [
        "print(df_finalized.shape)"
      ]
    },
    {
      "cell_type": "code",
      "source": [
        "condition1 = ~((df_finalized['status'] == 'released') & (df_finalized['revenue'] == 0))  # Assign the boolean condition\n",
        "deleted_data1 = df_finalized[condition1]  # Use the boolean condition for filtering\n",
        "print(\"Finailzed\", df_finalized[condition1].head)  # Also correct this line to use the filtered DataFrame"
      ],
      "metadata": {
        "colab": {
          "base_uri": "https://localhost:8080/"
        },
        "id": "d9GgJo-_EKDC",
        "outputId": "9dbe972a-4700-47f6-eaa1-4528a2404358"
      },
      "execution_count": 45,
      "outputs": [
        {
          "output_type": "stream",
          "name": "stdout",
          "text": [
            "Finailzed <bound method NDFrame.head of             id                             title  \\\n",
            "0       615656                 Meg 2: The Trench   \n",
            "1       758323               The Pope's Exorcist   \n",
            "2       533535              Deadpool & Wolverine   \n",
            "3       667538  Transformers: Rise of the Beasts   \n",
            "4       693134                    Dune: Part Two   \n",
            "...        ...                               ...   \n",
            "722222  915513                    I'm relafucked   \n",
            "722237  895769                      Dis/Informed   \n",
            "722239  814066                       Rondò final   \n",
            "722245  686322                              buna   \n",
            "722273  741091              The Formula Of Water   \n",
            "\n",
            "                                  genres original_language  \\\n",
            "0          Action-Science Fiction-Horror                en   \n",
            "1                Horror-Mystery-Thriller                en   \n",
            "2          Action-Comedy-Science Fiction                en   \n",
            "3       Action-Adventure-Science Fiction                en   \n",
            "4              Science Fiction-Adventure                en   \n",
            "...                                  ...               ...   \n",
            "722222                      Crime-Comedy                es   \n",
            "722237              Documentary-TV Movie                en   \n",
            "722239                       Documentary                it   \n",
            "722245                   Drama-Adventure                en   \n",
            "722273         Science Fiction-Adventure                ru   \n",
            "\n",
            "                                                 overview  popularity  \\\n",
            "0       An exploratory dive into the deepest depths of...    8763.998   \n",
            "1       Father Gabriele Amorth Chief Exorcist of the V...    5953.227   \n",
            "2       A listless Wade Wilson toils away in civilian ...    5410.496   \n",
            "3       When a new threat capable of destroying the en...    5409.104   \n",
            "4       Follow the mythic journey of Paul Atreides as ...    4742.163   \n",
            "...                                                   ...         ...   \n",
            "722222  A Breaking Bad parody. A. Campos S. Herrero S....       0.090   \n",
            "722237  Are conspiracy theorists just \"dumb\"? What lin...       0.039   \n",
            "722239  A hundred years of images researched and found...       0.038   \n",
            "722245                                               buna       0.015   \n",
            "722273  A teenage girl Dana lives on one of the planet...       0.001   \n",
            "\n",
            "                                     production_companies release_date  \\\n",
            "0       Apelles Entertainment-Warner Bros. Pictures-di...   2023-08-02   \n",
            "1       Screen Gems-2.0 Entertainment-Jesus & Mary-Wor...   2023-04-05   \n",
            "2       Marvel Studios-Maximum Effort-21 Laps Entertai...   2024-07-24   \n",
            "3       Skydance-Paramount-di Bonaventura Pictures-Bay...   2023-06-06   \n",
            "4                                      Legendary Pictures   2024-02-27   \n",
            "...                                                   ...          ...   \n",
            "722222                 IES Pino Manso-SHAC80 Film Company   2019-04-19   \n",
            "722237            Metrotone Media-Abacus Media Rights-ZDF   2021-08-31   \n",
            "722239  RUGA Film-Collettivo L'Ambulante-Cineteca Sard...   2021-04-17   \n",
            "722245                                          Not Known   2024-07-01   \n",
            "722273                                      Soyuzmultfilm   2024-10-03   \n",
            "\n",
            "             budget       revenue  ...  History Horror Music  Mystery  \\\n",
            "0       129000000.0  3.520565e+08  ...        0      1     0        0   \n",
            "1        18000000.0  6.567582e+07  ...        0      1     0        1   \n",
            "2       200000000.0  1.326387e+09  ...        0      0     0        0   \n",
            "3       200000000.0  4.070455e+08  ...        0      0     0        0   \n",
            "4       190000000.0  6.838137e+08  ...        0      0     0        0   \n",
            "...             ...           ...  ...      ...    ...   ...      ...   \n",
            "722222         20.0  5.000000e+00  ...        0      0     0        0   \n",
            "722237     520000.0  0.000000e+00  ...        0      0     0        0   \n",
            "722239      64405.0  0.000000e+00  ...        0      0     0        0   \n",
            "722245          1.0  0.000000e+00  ...        0      0     0        0   \n",
            "722273    3876364.0  0.000000e+00  ...        0      0     0        0   \n",
            "\n",
            "        Romance Science Fiction TV Movie  Thriller  War  Western  \n",
            "0             0               1        0         0    0        0  \n",
            "1             0               0        0         1    0        0  \n",
            "2             0               1        0         0    0        0  \n",
            "3             0               1        0         0    0        0  \n",
            "4             0               1        0         0    0        0  \n",
            "...         ...             ...      ...       ...  ...      ...  \n",
            "722222        0               0        0         0    0        0  \n",
            "722237        0               0        1         0    0        0  \n",
            "722239        0               0        0         0    0        0  \n",
            "722245        0               0        0         0    0        0  \n",
            "722273        0               1        0         0    0        0  \n",
            "\n",
            "[31768 rows x 58 columns]>\n"
          ]
        }
      ]
    },
    {
      "cell_type": "code",
      "execution_count": 46,
      "metadata": {
        "colab": {
          "base_uri": "https://localhost:8080/",
          "height": 228
        },
        "id": "feQJ3D45X9oB",
        "outputId": "d0361067-5daf-42c4-8fc4-eebe00ae6f9b"
      },
      "outputs": [
        {
          "output_type": "error",
          "ename": "NameError",
          "evalue": "name 'plt' is not defined",
          "traceback": [
            "\u001b[0;31m---------------------------------------------------------------------------\u001b[0m",
            "\u001b[0;31mNameError\u001b[0m                                 Traceback (most recent call last)",
            "\u001b[0;32m<ipython-input-46-8b5fea6f4d68>\u001b[0m in \u001b[0;36m<cell line: 2>\u001b[0;34m()\u001b[0m\n\u001b[1;32m      1\u001b[0m \u001b[0;31m# plotting the year of the films release\u001b[0m\u001b[0;34m\u001b[0m\u001b[0;34m\u001b[0m\u001b[0m\n\u001b[0;32m----> 2\u001b[0;31m \u001b[0mplt\u001b[0m\u001b[0;34m.\u001b[0m\u001b[0mfigure\u001b[0m\u001b[0;34m(\u001b[0m\u001b[0mfigsize\u001b[0m\u001b[0;34m=\u001b[0m\u001b[0;34m(\u001b[0m\u001b[0;36m12\u001b[0m\u001b[0;34m,\u001b[0m \u001b[0;36m6\u001b[0m\u001b[0;34m)\u001b[0m\u001b[0;34m)\u001b[0m\u001b[0;34m\u001b[0m\u001b[0;34m\u001b[0m\u001b[0m\n\u001b[0m\u001b[1;32m      3\u001b[0m \u001b[0mplt\u001b[0m\u001b[0;34m.\u001b[0m\u001b[0mhist\u001b[0m\u001b[0;34m(\u001b[0m\u001b[0mdf_finalized\u001b[0m\u001b[0;34m[\u001b[0m\u001b[0;34m'release_date'\u001b[0m\u001b[0;34m]\u001b[0m\u001b[0;34m.\u001b[0m\u001b[0mdt\u001b[0m\u001b[0;34m.\u001b[0m\u001b[0myear\u001b[0m\u001b[0;34m,\u001b[0m \u001b[0mbins\u001b[0m\u001b[0;34m=\u001b[0m\u001b[0;36m99\u001b[0m\u001b[0;34m,\u001b[0m \u001b[0mcolor\u001b[0m\u001b[0;34m=\u001b[0m\u001b[0;34m'gold'\u001b[0m\u001b[0;34m,\u001b[0m \u001b[0malpha\u001b[0m\u001b[0;34m=\u001b[0m\u001b[0;36m1\u001b[0m\u001b[0;34m,\u001b[0m \u001b[0medgecolor\u001b[0m\u001b[0;34m=\u001b[0m\u001b[0;34m'white'\u001b[0m\u001b[0;34m)\u001b[0m\u001b[0;34m\u001b[0m\u001b[0;34m\u001b[0m\u001b[0m\n\u001b[1;32m      4\u001b[0m \u001b[0mplt\u001b[0m\u001b[0;34m.\u001b[0m\u001b[0mxlim\u001b[0m\u001b[0;34m(\u001b[0m\u001b[0;36m1960\u001b[0m\u001b[0;34m,\u001b[0m \u001b[0;36m2024\u001b[0m\u001b[0;34m)\u001b[0m\u001b[0;34m\u001b[0m\u001b[0;34m\u001b[0m\u001b[0m\n\u001b[1;32m      5\u001b[0m \u001b[0mplt\u001b[0m\u001b[0;34m.\u001b[0m\u001b[0mxlabel\u001b[0m\u001b[0;34m(\u001b[0m\u001b[0;34m\"Year\"\u001b[0m\u001b[0;34m)\u001b[0m\u001b[0;34m\u001b[0m\u001b[0;34m\u001b[0m\u001b[0m\n",
            "\u001b[0;31mNameError\u001b[0m: name 'plt' is not defined"
          ]
        }
      ],
      "source": [
        "# plotting the year of the films release\n",
        "plt.figure(figsize=(12, 6))\n",
        "plt.hist(df_finalized['release_date'].dt.year, bins=99, color='gold', alpha=1, edgecolor='white')\n",
        "plt.xlim(1960, 2024)\n",
        "plt.xlabel(\"Year\")\n",
        "plt.ylabel(\"Number of Films\")\n",
        "plt.title(\"Year of Release Date by Number of Films\")\n",
        "plt.show()"
      ]
    },
    {
      "cell_type": "code",
      "execution_count": 47,
      "metadata": {
        "colab": {
          "base_uri": "https://localhost:8080/"
        },
        "id": "l-vlz4waX9oC",
        "outputId": "f20f9961-cef1-4dbc-8a1c-5ccdc813d3b3"
      },
      "outputs": [
        {
          "output_type": "stream",
          "name": "stdout",
          "text": [
            "production_companies\n",
            "Not Known                                 6771\n",
            "Metro-Goldwyn-Mayer                        173\n",
            "Paramount                                  120\n",
            "Warner Bros. Pictures                      118\n",
            "20th Century Fox                           106\n",
            "Universal Pictures                          93\n",
            "Columbia Pictures                           71\n",
            "Walt Disney Productions                     55\n",
            "RKO Radio Pictures                          50\n",
            "New Line Cinema                             43\n",
            "The Asylum                                  37\n",
            "Queens Of Combat                            36\n",
            "ONF | NFB                                   32\n",
            "Rapid Heart Pictures                        31\n",
            "TriStar Pictures                            27\n",
            "Yash Raj Films                              26\n",
            "Republic Pictures                           26\n",
            "Maverick Entertainment Group                24\n",
            "Orion Pictures                              24\n",
            "Touchstone Pictures                         24\n",
            "Marvel Studios                              23\n",
            "Walt Disney Pictures                        22\n",
            "Solar Films                                 21\n",
            "Bar Wrestling                               21\n",
            "Tower Productions                           20\n",
            "United Artists                              18\n",
            "El Dorado Films                             17\n",
            "United Artists-Walt Disney Productions      17\n",
            "Baran Film House                            17\n",
            "American International Pictures             16\n",
            "Name: count, dtype: int64\n"
          ]
        }
      ],
      "source": [
        "company_counts = df_finalized['production_companies'].str.split(', ').explode()\n",
        "\n",
        "company_counts = company_counts.value_counts()\n",
        "\n",
        "print(company_counts.head(30))"
      ]
    },
    {
      "cell_type": "code",
      "source": [
        "company_counts = df_finalized['production_companies'].str.split(', ').explode()\n",
        "company_counts = company_counts.value_counts()\n",
        "print(company_counts.head(50)[30:60])"
      ],
      "metadata": {
        "colab": {
          "base_uri": "https://localhost:8080/"
        },
        "id": "tVpUl7-opSU-",
        "outputId": "734fd288-b8ec-403d-9721-941aee90ba2f"
      },
      "execution_count": 48,
      "outputs": [
        {
          "output_type": "stream",
          "name": "stdout",
          "text": [
            "production_companies\n",
            "DreamWorks Animation                                  16\n",
            "Miramax                                               15\n",
            "Imagine Entertainment-Universal Pictures              15\n",
            "Geminus Studios                                       15\n",
            "Women's Superstars United (WSU)                       14\n",
            "Iranian Independents                                  14\n",
            "Malpaso Productions-Warner Bros. Pictures             13\n",
            "Brain Damage Films                                    13\n",
            "Biola University                                      13\n",
            "Scorpio Film Releasing                                13\n",
            "Central Partnership                                   13\n",
            "Triangle Films                                        13\n",
            "Pixar-Walt Disney Pictures                            12\n",
            "Gravitas Ventures                                     12\n",
            "Lions Gate Films                                      12\n",
            "CT ROAD Entertainment                                 12\n",
            "New World Pictures                                    12\n",
            "Piercing Productions                                  12\n",
            "Cannon Group-Golan-Globus Productions                 12\n",
            "Walt Disney Pictures-Walt Disney Feature Animation    12\n",
            "Name: count, dtype: int64\n"
          ]
        }
      ]
    },
    {
      "cell_type": "code",
      "source": [
        "top_companies = [\n",
        "    \"Metro-Goldwyn-Mayer\",\n",
        "    \"Paramount\",\n",
        "    \"Warner Bros. Pictures\",\n",
        "    \"20th Century Fox\",\n",
        "    \"Universal Pictures\",\n",
        "    \"Columbia Pictures\",\n",
        "    \"Walt Disney Productions\"\n",
        "]\n",
        "\n",
        "for company in top_companies:\n",
        "    df_finalized[f'{company}'] = df_finalized['production_companies'].apply(\n",
        "        lambda x: 1 if isinstance(x, str) and company in x else 0\n",
        "    )"
      ],
      "metadata": {
        "id": "Rk10biltp-vY"
      },
      "execution_count": 49,
      "outputs": []
    },
    {
      "cell_type": "code",
      "source": [
        "print(df_finalized.head())"
      ],
      "metadata": {
        "colab": {
          "base_uri": "https://localhost:8080/"
        },
        "id": "83l33C11tZwL",
        "outputId": "dbaca907-42c5-4694-a9bb-07d3e4d34a32"
      },
      "execution_count": 50,
      "outputs": [
        {
          "output_type": "stream",
          "name": "stdout",
          "text": [
            "       id                             title                            genres  \\\n",
            "0  615656                 Meg 2: The Trench     Action-Science Fiction-Horror   \n",
            "1  758323               The Pope's Exorcist           Horror-Mystery-Thriller   \n",
            "2  533535              Deadpool & Wolverine     Action-Comedy-Science Fiction   \n",
            "3  667538  Transformers: Rise of the Beasts  Action-Adventure-Science Fiction   \n",
            "4  693134                    Dune: Part Two         Science Fiction-Adventure   \n",
            "\n",
            "  original_language                                           overview  \\\n",
            "0                en  An exploratory dive into the deepest depths of...   \n",
            "1                en  Father Gabriele Amorth Chief Exorcist of the V...   \n",
            "2                en  A listless Wade Wilson toils away in civilian ...   \n",
            "3                en  When a new threat capable of destroying the en...   \n",
            "4                en  Follow the mythic journey of Paul Atreides as ...   \n",
            "\n",
            "   popularity                               production_companies release_date  \\\n",
            "0    8763.998  Apelles Entertainment-Warner Bros. Pictures-di...   2023-08-02   \n",
            "1    5953.227  Screen Gems-2.0 Entertainment-Jesus & Mary-Wor...   2023-04-05   \n",
            "2    5410.496  Marvel Studios-Maximum Effort-21 Laps Entertai...   2024-07-24   \n",
            "3    5409.104  Skydance-Paramount-di Bonaventura Pictures-Bay...   2023-06-06   \n",
            "4    4742.163                                 Legendary Pictures   2024-02-27   \n",
            "\n",
            "        budget       revenue  ...  Thriller War Western  Metro-Goldwyn-Mayer  \\\n",
            "0  129000000.0  3.520565e+08  ...         0   0       0                    0   \n",
            "1   18000000.0  6.567582e+07  ...         1   0       0                    0   \n",
            "2  200000000.0  1.326387e+09  ...         0   0       0                    0   \n",
            "3  200000000.0  4.070455e+08  ...         0   0       0                    0   \n",
            "4  190000000.0  6.838137e+08  ...         0   0       0                    0   \n",
            "\n",
            "   Paramount Warner Bros. Pictures 20th Century Fox  Universal Pictures  \\\n",
            "0          0                     1                0                   0   \n",
            "1          0                     0                0                   0   \n",
            "2          0                     0                0                   0   \n",
            "3          1                     0                0                   0   \n",
            "4          0                     0                0                   0   \n",
            "\n",
            "   Columbia Pictures  Walt Disney Productions  \n",
            "0                  0                        0  \n",
            "1                  0                        0  \n",
            "2                  0                        0  \n",
            "3                  0                        0  \n",
            "4                  0                        0  \n",
            "\n",
            "[5 rows x 65 columns]\n"
          ]
        }
      ]
    },
    {
      "cell_type": "code",
      "source": [
        "from google.colab import files\n",
        "\n",
        "df_finalized.to_csv('movie_final_dataset.csv', index=False)\n",
        "\n",
        "\n",
        "files.download('movie_final_dataset.csv')"
      ],
      "metadata": {
        "colab": {
          "base_uri": "https://localhost:8080/",
          "height": 17
        },
        "id": "WV3ZH9j9tl9u",
        "outputId": "9a4de2d3-3fe0-48a6-a59b-0c2d8141d433"
      },
      "execution_count": 51,
      "outputs": [
        {
          "output_type": "display_data",
          "data": {
            "text/plain": [
              "<IPython.core.display.Javascript object>"
            ],
            "application/javascript": [
              "\n",
              "    async function download(id, filename, size) {\n",
              "      if (!google.colab.kernel.accessAllowed) {\n",
              "        return;\n",
              "      }\n",
              "      const div = document.createElement('div');\n",
              "      const label = document.createElement('label');\n",
              "      label.textContent = `Downloading \"${filename}\": `;\n",
              "      div.appendChild(label);\n",
              "      const progress = document.createElement('progress');\n",
              "      progress.max = size;\n",
              "      div.appendChild(progress);\n",
              "      document.body.appendChild(div);\n",
              "\n",
              "      const buffers = [];\n",
              "      let downloaded = 0;\n",
              "\n",
              "      const channel = await google.colab.kernel.comms.open(id);\n",
              "      // Send a message to notify the kernel that we're ready.\n",
              "      channel.send({})\n",
              "\n",
              "      for await (const message of channel.messages) {\n",
              "        // Send a message to notify the kernel that we're ready.\n",
              "        channel.send({})\n",
              "        if (message.buffers) {\n",
              "          for (const buffer of message.buffers) {\n",
              "            buffers.push(buffer);\n",
              "            downloaded += buffer.byteLength;\n",
              "            progress.value = downloaded;\n",
              "          }\n",
              "        }\n",
              "      }\n",
              "      const blob = new Blob(buffers, {type: 'application/binary'});\n",
              "      const a = document.createElement('a');\n",
              "      a.href = window.URL.createObjectURL(blob);\n",
              "      a.download = filename;\n",
              "      div.appendChild(a);\n",
              "      a.click();\n",
              "      div.remove();\n",
              "    }\n",
              "  "
            ]
          },
          "metadata": {}
        },
        {
          "output_type": "display_data",
          "data": {
            "text/plain": [
              "<IPython.core.display.Javascript object>"
            ],
            "application/javascript": [
              "download(\"download_191945ec-e7aa-48c3-8ad7-3bd5a7c6791f\", \"movie_final_dataset.csv\", 26697914)"
            ]
          },
          "metadata": {}
        }
      ]
    },
    {
      "cell_type": "markdown",
      "source": [
        "## Abnormal Value"
      ],
      "metadata": {
        "id": "E-3mw0Fv3P8Z"
      }
    },
    {
      "cell_type": "code",
      "source": [
        "\n",
        "df_filtered = df_finalized[~((df['status'] == 'released') & (df['revenue'] == 0))]\n",
        "\n",
        "print(\"筛选后数据行数：\", df_filtered.shape[0])\n"
      ],
      "metadata": {
        "id": "L2Sfy7oy8P5t",
        "colab": {
          "base_uri": "https://localhost:8080/"
        },
        "outputId": "bde538fd-ddf3-48ae-f7fe-28266ef1f32a"
      },
      "execution_count": 54,
      "outputs": [
        {
          "output_type": "stream",
          "name": "stdout",
          "text": [
            "筛选后数据行数： 31768\n"
          ]
        },
        {
          "output_type": "stream",
          "name": "stderr",
          "text": [
            "<ipython-input-54-9e292d14e9bd>:1: UserWarning: Boolean Series key will be reindexed to match DataFrame index.\n",
            "  df_filtered = df_finalized[~((df['status'] == 'released') & (df['revenue'] == 0))]\n"
          ]
        }
      ]
    },
    {
      "cell_type": "code",
      "source": [
        "import matplotlib.pyplot as plt\n",
        "import seaborn as sns\n",
        "\n",
        "plt.figure(figsize=(10, 6))\n",
        "sns.histplot(df_finalized['budget'], bins=50, kde=True)\n",
        "plt.title('Budget Distribution')\n",
        "plt.xlabel('Budget')\n",
        "plt.ylabel('Frequency')\n",
        "plt.show()\n",
        "\n",
        "plt.figure(figsize=(10, 6))\n",
        "sns.histplot(df_finalized['revenue'], bins=50, kde=True)\n",
        "plt.title('Revenue Distribution')\n",
        "plt.xlabel('Revenue')\n",
        "plt.ylabel('Frequency')\n",
        "plt.show()\n",
        "\n",
        "df['ROI'] = (df_finalized['revenue'] - df['budget']) / df['budget']\n",
        "plt.figure(figsize=(10, 6))\n",
        "sns.boxplot(x=df['ROI'])\n",
        "plt.title('ROI Distribution')\n",
        "plt.xlabel('ROI')\n",
        "plt.show()\n"
      ],
      "metadata": {
        "colab": {
          "base_uri": "https://localhost:8080/",
          "height": 1000
        },
        "id": "LUkIIqN43Qau",
        "outputId": "5ec0dd10-b585-46b4-dc67-2a7c84ca5e2f"
      },
      "execution_count": 55,
      "outputs": [
        {
          "output_type": "display_data",
          "data": {
            "text/plain": [
              "<Figure size 1000x600 with 1 Axes>"
            ],
            "image/png": "[encoded data removed]"
          },
          "metadata": {}
        },
        {
          "output_type": "display_data",
          "data": {
            "text/plain": [
              "<Figure size 1000x600 with 1 Axes>"
            ],
            "image/png": "[encoded data removed]"
          },
          "metadata": {}
        },
        {
          "output_type": "display_data",
          "data": {
            "text/plain": [
              "<Figure size 1000x600 with 1 Axes>"
            ],
            "image/png": "[encoded data removed]"
          },
          "metadata": {}
        }
      ]
    },
    {
      "cell_type": "code",
      "source": [
        "print(df_finalized[(df_finalized['status'] == 'Released') & (df_finalized['revenue'] == 0)].shape)\n"
      ],
      "metadata": {
        "colab": {
          "base_uri": "https://localhost:8080/"
        },
        "id": "BZhrv6QuQbdw",
        "outputId": "63755d0d-f45a-4b89-9ffe-d4300bf2f065"
      },
      "execution_count": 56,
      "outputs": [
        {
          "output_type": "stream",
          "name": "stdout",
          "text": [
            "(21092, 65)\n"
          ]
        }
      ]
    },
    {
      "cell_type": "code",
      "source": [
        "df_final1 = df_finalized[~((df_finalized['status'] == 'Released') & (df_finalized['revenue'] == 0))]\n",
        "df_final1 = df_final1[~(df_final1['budget'] < 50000)]"
      ],
      "metadata": {
        "id": "BOH4MrFrUTAf"
      },
      "execution_count": 57,
      "outputs": []
    },
    {
      "cell_type": "code",
      "source": [
        "print(df_final1.shape)"
      ],
      "metadata": {
        "colab": {
          "base_uri": "https://localhost:8080/"
        },
        "id": "9offbJN2UZr6",
        "outputId": "a2f40bb7-458c-4997-db6b-206ae9916519"
      },
      "execution_count": 58,
      "outputs": [
        {
          "output_type": "stream",
          "name": "stdout",
          "text": [
            "(9386, 65)\n"
          ]
        }
      ]
    },
    {
      "cell_type": "code",
      "source": [
        "print(df_final1[df_final1['budget'] < 50000])"
      ],
      "metadata": {
        "colab": {
          "base_uri": "https://localhost:8080/"
        },
        "id": "64uk5nN5ToUg",
        "outputId": "6a17a702-a1b5-4b15-c907-96ae82c7f6c3"
      },
      "execution_count": 59,
      "outputs": [
        {
          "output_type": "stream",
          "name": "stdout",
          "text": [
            "Empty DataFrame\n",
            "Columns: [id, title, genres, original_language, overview, popularity, production_companies, release_date, budget, revenue, runtime, status, tagline, vote_average, vote_count, credits, keywords, year, month, day, Action, Adventure, Animation, Comedy, Crime, Documentary, Drama, Family, Fantasy, History, Horror, Music, Mystery, Romance, Science Fiction, TV Movie, Thriller, War, Western, Action, Adventure, Animation, Comedy, Crime, Documentary, Drama, Family, Fantasy, History, Horror, Music, Mystery, Romance, Science Fiction, TV Movie, Thriller, War, Western, Metro-Goldwyn-Mayer, Paramount, Warner Bros. Pictures, 20th Century Fox, Universal Pictures, Columbia Pictures, Walt Disney Productions]\n",
            "Index: []\n",
            "\n",
            "[0 rows x 65 columns]\n"
          ]
        }
      ]
    },
    {
      "cell_type": "markdown",
      "source": [
        "##Encode Genre\n"
      ],
      "metadata": {
        "id": "e6xtvIDYZHVE"
      }
    },
    {
      "cell_type": "code",
      "source": [
        "df_final1['first_genre'] = df_final1['genres'].apply(\n",
        "    lambda x: x.split('-')[0] if isinstance(x, str) and '-' in x else x\n",
        ")\n",
        "\n",
        "print(df_final1[['genres', 'first_genre']].head())\n"
      ],
      "metadata": {
        "colab": {
          "base_uri": "https://localhost:8080/"
        },
        "id": "wl7upJovZHDl",
        "outputId": "ddc3adb5-e362-429c-e6b8-582a436dde5e"
      },
      "execution_count": 60,
      "outputs": [
        {
          "output_type": "stream",
          "name": "stdout",
          "text": [
            "                             genres      first_genre\n",
            "0     Action-Science Fiction-Horror           Action\n",
            "1           Horror-Mystery-Thriller           Horror\n",
            "2     Action-Comedy-Science Fiction           Action\n",
            "3  Action-Adventure-Science Fiction           Action\n",
            "4         Science Fiction-Adventure  Science Fiction\n"
          ]
        }
      ]
    },
    {
      "cell_type": "code",
      "source": [
        "print(df_final1.head())"
      ],
      "metadata": {
        "colab": {
          "base_uri": "https://localhost:8080/"
        },
        "id": "soNIMNXNawOx",
        "outputId": "3c63737c-ff72-4576-c487-fc81d96699a2"
      },
      "execution_count": 61,
      "outputs": [
        {
          "output_type": "stream",
          "name": "stdout",
          "text": [
            "       id                             title                            genres  \\\n",
            "0  615656                 Meg 2: The Trench     Action-Science Fiction-Horror   \n",
            "1  758323               The Pope's Exorcist           Horror-Mystery-Thriller   \n",
            "2  533535              Deadpool & Wolverine     Action-Comedy-Science Fiction   \n",
            "3  667538  Transformers: Rise of the Beasts  Action-Adventure-Science Fiction   \n",
            "4  693134                    Dune: Part Two         Science Fiction-Adventure   \n",
            "\n",
            "  original_language                                           overview  \\\n",
            "0                en  An exploratory dive into the deepest depths of...   \n",
            "1                en  Father Gabriele Amorth Chief Exorcist of the V...   \n",
            "2                en  A listless Wade Wilson toils away in civilian ...   \n",
            "3                en  When a new threat capable of destroying the en...   \n",
            "4                en  Follow the mythic journey of Paul Atreides as ...   \n",
            "\n",
            "   popularity                               production_companies release_date  \\\n",
            "0    8763.998  Apelles Entertainment-Warner Bros. Pictures-di...   2023-08-02   \n",
            "1    5953.227  Screen Gems-2.0 Entertainment-Jesus & Mary-Wor...   2023-04-05   \n",
            "2    5410.496  Marvel Studios-Maximum Effort-21 Laps Entertai...   2024-07-24   \n",
            "3    5409.104  Skydance-Paramount-di Bonaventura Pictures-Bay...   2023-06-06   \n",
            "4    4742.163                                 Legendary Pictures   2024-02-27   \n",
            "\n",
            "        budget       revenue  ...  War Western Metro-Goldwyn-Mayer  Paramount  \\\n",
            "0  129000000.0  3.520565e+08  ...    0       0                   0          0   \n",
            "1   18000000.0  6.567582e+07  ...    0       0                   0          0   \n",
            "2  200000000.0  1.326387e+09  ...    0       0                   0          0   \n",
            "3  200000000.0  4.070455e+08  ...    0       0                   0          1   \n",
            "4  190000000.0  6.838137e+08  ...    0       0                   0          0   \n",
            "\n",
            "   Warner Bros. Pictures 20th Century Fox Universal Pictures  \\\n",
            "0                      1                0                  0   \n",
            "1                      0                0                  0   \n",
            "2                      0                0                  0   \n",
            "3                      0                0                  0   \n",
            "4                      0                0                  0   \n",
            "\n",
            "   Columbia Pictures  Walt Disney Productions      first_genre  \n",
            "0                  0                        0           Action  \n",
            "1                  0                        0           Horror  \n",
            "2                  0                        0           Action  \n",
            "3                  0                        0           Action  \n",
            "4                  0                        0  Science Fiction  \n",
            "\n",
            "[5 rows x 66 columns]\n"
          ]
        }
      ]
    },
    {
      "cell_type": "code",
      "source": [
        "from google.colab import files\n",
        "\n",
        "df_final1.to_csv('movie_final_dataset1.csv', index=False)\n",
        "\n",
        "files.download('movie_final_dataset1.csv')"
      ],
      "metadata": {
        "colab": {
          "base_uri": "https://localhost:8080/",
          "height": 17
        },
        "id": "3QyBgN_3bTV0",
        "outputId": "adf21922-6bf8-4ccc-d15c-064ac5724309"
      },
      "execution_count": 62,
      "outputs": [
        {
          "output_type": "display_data",
          "data": {
            "text/plain": [
              "<IPython.core.display.Javascript object>"
            ],
            "application/javascript": [
              "\n",
              "    async function download(id, filename, size) {\n",
              "      if (!google.colab.kernel.accessAllowed) {\n",
              "        return;\n",
              "      }\n",
              "      const div = document.createElement('div');\n",
              "      const label = document.createElement('label');\n",
              "      label.textContent = `Downloading \"${filename}\": `;\n",
              "      div.appendChild(label);\n",
              "      const progress = document.createElement('progress');\n",
              "      progress.max = size;\n",
              "      div.appendChild(progress);\n",
              "      document.body.appendChild(div);\n",
              "\n",
              "      const buffers = [];\n",
              "      let downloaded = 0;\n",
              "\n",
              "      const channel = await google.colab.kernel.comms.open(id);\n",
              "      // Send a message to notify the kernel that we're ready.\n",
              "      channel.send({})\n",
              "\n",
              "      for await (const message of channel.messages) {\n",
              "        // Send a message to notify the kernel that we're ready.\n",
              "        channel.send({})\n",
              "        if (message.buffers) {\n",
              "          for (const buffer of message.buffers) {\n",
              "            buffers.push(buffer);\n",
              "            downloaded += buffer.byteLength;\n",
              "            progress.value = downloaded;\n",
              "          }\n",
              "        }\n",
              "      }\n",
              "      const blob = new Blob(buffers, {type: 'application/binary'});\n",
              "      const a = document.createElement('a');\n",
              "      a.href = window.URL.createObjectURL(blob);\n",
              "      a.download = filename;\n",
              "      div.appendChild(a);\n",
              "      a.click();\n",
              "      div.remove();\n",
              "    }\n",
              "  "
            ]
          },
          "metadata": {}
        },
        {
          "output_type": "display_data",
          "data": {
            "text/plain": [
              "<IPython.core.display.Javascript object>"
            ],
            "application/javascript": [
              "download(\"download_ccc9793b-b120-4b2d-9350-38ab681d65b2\", \"movie_final_dataset1.csv\", 9024136)"
            ]
          },
          "metadata": {}
        }
      ]
    },
    {
      "cell_type": "code",
      "source": [],
      "metadata": {
        "id": "ICHe4ww76-hO"
      },
      "execution_count": null,
      "outputs": []
    }
  ],
  "metadata": {
    "colab": {
      "provenance": []
    },
    "kernelspec": {
      "display_name": "Python 3 (ipykernel)",
      "language": "python",
      "name": "python3"
    },
    "language_info": {
      "codemirror_mode": {
        "name": "ipython",
        "version": 3
      },
      "file_extension": ".py",
      "mimetype": "text/x-python",
      "name": "python",
      "nbconvert_exporter": "python",
      "pygments_lexer": "ipython3",
      "version": "3.9.7"
    }
  },
  "nbformat": 4,
  "nbformat_minor": 0
}
